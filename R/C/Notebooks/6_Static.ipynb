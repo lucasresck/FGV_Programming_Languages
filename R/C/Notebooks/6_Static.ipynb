{
 "cells": [
  {
   "cell_type": "markdown",
   "metadata": {},
   "source": [
    "## Static\n",
    "\n",
    "É uma palavra-chave de C que é usada em variáveis e funções."
   ]
  },
  {
   "cell_type": "markdown",
   "metadata": {},
   "source": [
    "#### Estática Vs Global\n",
    "\n",
    "\n",
    "Variáveis globais são variáveis definidas fora de qualquer função. Seu escopo começa no ponto em que são definidos e duram até o final do arquivo. Eles têm ligação externa, o que significa que, em outros arquivos de origem, o mesmo nome se refere ao mesmo local na memória.\n"
   ]
  },
  {
   "cell_type": "markdown",
   "metadata": {
    "collapsed": true
   },
   "source": [
    "Variáveis globais estáticas são específicas para o arquivo de origem onde estão definidas e não entram em conflito com outras variáveis em outros arquivos de origem que teriam o mesmo nome.\n"
   ]
  },
  {
   "cell_type": "markdown",
   "metadata": {},
   "source": [
    "Variáveis locais estáticas são alocadas estatisticamente dentro de uma função. Elas mantêm, assim, suas células de memória durante toda a execução do programa e têm o mesmo escopo de visibilidade que as variáveis locais automáticas, ou seja, permanecem locais para a função. Portanto, quaisquer valores que a função colocar em suas variáveis locais estáticas durante uma chamada ainda estarão presentes quando a função for chamada novamente."
   ]
  },
  {
   "cell_type": "markdown",
   "metadata": {},
   "source": [
    "#### Por que declaramos uma variável estática????"
   ]
  },
  {
   "cell_type": "markdown",
   "metadata": {},
   "source": [
    " A variável é declarada como estática para aumentar seu escopo até o arquivo que os contém. Como resultado, essas variáveis são acessadas em qualquer lugar dentro de um arquivo. Considere que queremos contar os corredores que participam de uma corrida"
   ]
  },
  {
   "cell_type": "code",
   "execution_count": 8,
   "metadata": {},
   "outputs": [
    {
     "name": "stdout",
     "output_type": "stream",
     "text": [
      "1 1 "
     ]
    }
   ],
   "source": [
    "#include<stdio.h>\n",
    "int runner() {\n",
    "    int count = 0;\n",
    "    count++;\n",
    "    return count;\n",
    "}\n",
    "\n",
    "int main()\n",
    "{\n",
    "    printf(\"%d \", runner());\n",
    "    printf(\"%d \", runner());\n",
    "    return 0;\n",
    "}"
   ]
  },
  {
   "cell_type": "markdown",
   "metadata": {},
   "source": [
    "Veremos que count não é carregado corretamente, pois é removido da memória assim que a função é completa, entretanto se usamos static:"
   ]
  },
  {
   "cell_type": "code",
   "execution_count": 9,
   "metadata": {},
   "outputs": [
    {
     "name": "stdout",
     "output_type": "stream",
     "text": [
      "1 2 "
     ]
    }
   ],
   "source": [
    "#include<stdio.h>\n",
    "int runner()\n",
    "{\n",
    "    static int count = 0;\n",
    "    count++;\n",
    "    return count;\n",
    "}\n",
    "\n",
    "int main()\n",
    "{\n",
    "    printf(\"%d \", runner());\n",
    "    printf(\"%d \", runner());\n",
    "    return 0;\n",
    "}"
   ]
  },
  {
   "cell_type": "markdown",
   "metadata": {},
   "source": [
    "#### O que é uma função estática???"
   ]
  },
  {
   "cell_type": "markdown",
   "metadata": {},
   "source": [
    "Funções, normalmente, são globais em C. No entanto, se declararmos com estática, o escopo de funções é reduzido ao arquivo que os contém. \n",
    "Veja a sintaxe:"
   ]
  },
  {
   "cell_type": "code",
   "execution_count": 10,
   "metadata": {},
   "outputs": [
    {
     "name": "stdout",
     "output_type": "stream",
     "text": [
      "55\n",
      "100\n",
      "150\n"
     ]
    }
   ],
   "source": [
    "#include <stdio.h>\n",
    "\n",
    " #include <stdio.h>\n",
    "   int sum (int num) {\n",
    "       static int total = 0;\n",
    "       total += num;\n",
    "       return total;\n",
    "   }\n",
    "\n",
    "   int main() {\n",
    "       printf(\"%d\\n\",sum(55));\n",
    "       printf(\"%d\\n\",sum(45));\n",
    "       printf(\"%d\\n\",sum(50));\n",
    "       return 0;\n",
    "   }"
   ]
  },
  {
   "cell_type": "markdown",
   "metadata": {},
   "source": [
    "Exemplo: "
   ]
  },
  {
   "cell_type": "code",
   "execution_count": 11,
   "metadata": {},
   "outputs": [
    {
     "name": "stdout",
     "output_type": "stream",
     "text": [
      "primeira chamada 1\n",
      "segunda chamada 11\n",
      "terceira chamada 2018\n"
     ]
    }
   ],
   "source": [
    "#include <stdio.h>\n",
    " \n",
    "int\n",
    "myfunc(int val)\n",
    " \n",
    "{\n",
    "    static int my_static_var = 0;\n",
    " \n",
    "    my_static_var += val;    \n",
    "    return my_static_var;\n",
    "}\n",
    " \n",
    "int\n",
    "main(void)\n",
    " \n",
    "{\n",
    "   int myval;\n",
    " \n",
    "   myval = myfunc(1);\n",
    "   printf(\"primeira chamada %d\\n\", myval);\n",
    " \n",
    "   myval = myfunc(10);\n",
    "   printf(\"segunda chamada %d\\n\", myval);\n",
    "   \n",
    "   myval = myfunc(2007);\n",
    "   printf(\"terceira chamada %d\\n\", myval);\n",
    " \n",
    "   return 0;\n",
    "}"
   ]
  },
  {
   "cell_type": "markdown",
   "metadata": {},
   "source": [
    "O que está acontecendo?"
   ]
  },
  {
   "cell_type": "markdown",
   "metadata": {},
   "source": [
    "Na primeira chamada de myval, myfunc(1) retorna 1 como valor, pois a variável my_static_var está sendo inicializada como o e recebe +1. Na segunda chamada de myval, myfunc(10) retorna 11 pois, myval já foi redefinida anteriormente para 1, e seu novo valor ficou guardado na memória. Assim, na segunda chamada, myfunc(10) vale 1 (o valor de myval anterior) + 10 (o valor de entrada da segunda chamada). O mesmo ocorre na terceira chamada."
   ]
  },
  {
   "cell_type": "code",
   "execution_count": null,
   "metadata": {},
   "outputs": [],
   "source": []
  }
 ],
 "metadata": {
  "kernelspec": {
   "display_name": "C",
   "language": "c",
   "name": "c"
  },
  "language_info": {
   "file_extension": ".c",
   "mimetype": "text/plain",
   "name": "c"
  }
 },
 "nbformat": 4,
 "nbformat_minor": 2
}
