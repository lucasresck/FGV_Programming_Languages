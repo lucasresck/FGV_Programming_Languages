{
 "cells": [
  {
   "cell_type": "markdown",
   "metadata": {},
   "source": [
    "# Ponteiros\n"
   ]
  },
  {
   "cell_type": "markdown",
   "metadata": {},
   "source": [
    "Cada variável é um local de memória e cada localização de memória tem seu endereço definido que pode ser acessado usando o operador o &, que denota um endereço na memória. Vejamos como acessar: "
   ]
  },
  {
   "cell_type": "code",
   "execution_count": 25,
   "metadata": {
    "scrolled": true
   },
   "outputs": [
    {
     "name": "stdout",
     "output_type": "stream",
     "text": [
      "O endereço de memória da var1 é: 0x7ffcb7f0ecac\n",
      "O endereço de memória da var2 é: 0x7ffcb7f0ecb0\n"
     ]
    }
   ],
   "source": [
    "#include <stdio.h>\n",
    "\n",
    "int main () \n",
    "{\n",
    "\n",
    "   int  var1;\n",
    "   char var2[10];\n",
    "\n",
    "   printf(\"O endereço de memória da var1 é: %p\\n\", &var1  );\n",
    "   printf(\"O endereço de memória da var2 é: %p\\n\", &var2 );\n",
    "\n",
    "   return 0;\n",
    "}"
   ]
  },
  {
   "cell_type": "markdown",
   "metadata": {},
   "source": [
    "## 1- O que são ponteiros?"
   ]
  },
  {
   "cell_type": "markdown",
   "metadata": {},
   "source": [
    "Um ponteiro é essencialmente uma variável inteira simples que contém um endereço de memória que aponta para um valor, em vez de manter o próprio valor real. A memória do computador é um armazenamento sequencial de dados, e um ponteiro aponta para uma parte específica da memória. Podemos usar ponteiros de tal forma que os ponteiros apontem para uma grande quantidade de memória - dependendo de quanto decidimos ler a partir daquele ponto\n"
   ]
  },
  {
   "cell_type": "markdown",
   "metadata": {},
   "source": [
    "Assim como qualquer variável ou constante, devemos declarar um ponteiro antes de usá-lo para armazenar qualquer endereço variável. A forma geral de uma declaração de variável de ponteiro é:\n",
    "\n",
    "                        type *var-name;\n",
    "                        \n",
    "o $\\textbf{type}$ é o tipo do ponteiro. São eles:\n",
    "\n",
    "            int   *ip, quando aponta para inteiro\n",
    "            double *dp, quando aponta para um double \n",
    "            float *fp, quando aponta para um float\n",
    "            char *ch, quado aponta para um character"
   ]
  },
  {
   "cell_type": "markdown",
   "metadata": {},
   "source": [
    "O tipo de dados real do valor de todos os ponteiros, seja inteiro, flutuante, caractere ou não, é o mesmo: um número hexadecimal longo que representa um endereço de memória. A única diferença entre ponteiros de diferentes tipos de dados é o tipo de dados da variável ou constante para o qual o ponteiro aponta."
   ]
  },
  {
   "cell_type": "markdown",
   "metadata": {},
   "source": [
    "## 2- Como usamos ponteiros?"
   ]
  },
  {
   "cell_type": "markdown",
   "metadata": {},
   "source": [
    "As operações que usaremos com maior frequência são: \n",
    "- definir variável de ponteiro;\n",
    "- atribuir o endereçõ de memória de uma variável para um ponteiro;\n",
    "- acessar o valor da variável de ponteiro no endereço de memória.\n",
    "\n",
    "Tais operações são feitas usando o operador unário $\\textbf{*}$ que retorna o valor da variável localizada no endereço especificado pelo seu operando. Veja o exemplo:"
   ]
  },
  {
   "cell_type": "code",
   "execution_count": 26,
   "metadata": {},
   "outputs": [
    {
     "name": "stdout",
     "output_type": "stream",
     "text": [
      "Address of var variable: 0x7fff33631c3c\n",
      "Address stored in ip variable: 0x7fff33631c3c\n",
      "Value of *ip variable: 20\n"
     ]
    }
   ],
   "source": [
    "#include <stdio.h>\n",
    "\n",
    "int main () {\n",
    "\n",
    "   int  var = 20;   /* actual variable declaration */\n",
    "   int  *ip;        /* pointer variable declaration */\n",
    "   ip = &var;  /* store address of var in pointer variable*/\n",
    "   \n",
    "   /* endereço da variável var */\n",
    "   printf(\"Address of var variable: %p\\n\", &var  );\n",
    "\n",
    "   /* endereço armazenado na variável de ponteiro */\n",
    "   printf(\"Address stored in ip variable: %p\\n\", ip );\n",
    "\n",
    "   /* acessando o valor usando ponteiro */\n",
    "   printf(\"Value of *ip variable: %d\\n\", *ip );\n",
    "\n",
    "   return 0;\n",
    "}"
   ]
  },
  {
   "cell_type": "markdown",
   "metadata": {},
   "source": [
    "## 3- Detalhes de ponteiros:"
   ]
  },
  {
   "cell_type": "markdown",
   "metadata": {},
   "source": [
    "Os ponteiros têm muitos conceitos, mas são muito importantes para a programação em C. Nos próximos notebooks veremos com mais detalhes e exemplos cada um deles, por enquanto vejamos alguns conceitos importantes:"
   ]
  },
  {
   "cell_type": "markdown",
   "metadata": {},
   "source": [
    "### 3.1 - Aritmética em Ponteiros\n",
    "\n",
    "Um ponteiro em c é um endereço, que é um valor numérico. Portanto, você pode executar operações aritméticas em um ponteiro, assim como você pode em um valor numérico. Existem quatro operadores aritméticos que podem ser usados em ponteiros: $\\textbf{++}$, $\\textbf{--}$, $\\textbf{+}$ e $\\textbf{-}$."
   ]
  },
  {
   "cell_type": "markdown",
   "metadata": {},
   "source": [
    "### 3.2 -  Arrays de Ponteiros\n",
    "\n",
    "Podemos definir arrays para guardar um número de ponteiros"
   ]
  },
  {
   "cell_type": "markdown",
   "metadata": {},
   "source": [
    "### 3.3 - Ponteiros de Ponteiros\n",
    "\n",
    "Um ponteiro para um ponteiro é uma forma de múltipla indireção, ou uma cadeia de ponteiros. Normalmente, um ponteiro contém o endereço de uma variável. Quando definimos um ponteiro para um ponteiro, o primeiro ponteiro contém o endereço do segundo ponteiro, que aponta para o local que contém o valor real, conforme mostrado abaixo.\n",
    "\n",
    "  Ponteiro1  $ \\rightarrow $  Ponteiro2 $ \\rightarrow $ Variável\n",
    "  \n",
    "O Ponteiro1 possui o endereço do ponteiro2, que por sua vez possui o endereço da Variável, que tem um valor.\n",
    "\n",
    "A variável que é um ponteiro de ponteiro também deve ser declarada"
   ]
  },
  {
   "cell_type": "markdown",
   "metadata": {},
   "source": [
    "### 3.4 - Passar ponteiros para funções\n",
    "\n",
    "C permite passar um ponteiro para uma função. Para fazer isso, temos que declarar o parâmetro da função como um tipo de ponteiro. Dessa forma, passar um argumento por referência ou por endereço permite que o argumento transmitido seja alterado na função de chamada pela função chamada."
   ]
  },
  {
   "cell_type": "markdown",
   "metadata": {},
   "source": [
    "### 3.5 - Retornar ponteriros de funções\n",
    "\n",
    "C permite que uma função retorne um ponteiro para a variável local, uma variável estática, e alocar memória dinamicamente também. Para fazer isso, temos que declarar uma função retornando um ponteiro.\n"
   ]
  },
  {
   "cell_type": "code",
   "execution_count": null,
   "metadata": {},
   "outputs": [],
   "source": []
  }
 ],
 "metadata": {
  "kernelspec": {
   "display_name": "C",
   "language": "c",
   "name": "c"
  },
  "language_info": {
   "file_extension": ".c",
   "mimetype": "text/plain",
   "name": "c"
  }
 },
 "nbformat": 4,
 "nbformat_minor": 2
}
