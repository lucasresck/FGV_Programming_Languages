{
 "cells": [
  {
   "cell_type": "markdown",
   "metadata": {
    "collapsed": true
   },
   "source": [
    "## Introdução\n",
    "\n",
    "C é uma de programação de propósito geral que está estritamente relacionada com a forma como as máquinas funcionam. Entender como a memória do computador funciona é um aspecto importante da linguagem C. \n",
    "\n",
    "Embora seja considerada uma linguagem \"difícil de aprender\", C é de fato muito simples e com capacidades muito poderosas. \n",
    "\n",
    "C é uma linguagem compilada, o que significa que, para executá-la, o compilador deve assumir o código que escrevemos, processá-lo e, em seguida, criar um arquivo executável que poderá, então, ser executado e fazer o que foi programado.\n",
    "\n",
    "\n",
    "$\\textbf{Onde podemos encontrar C????}$\n",
    "\n",
    "C é uma linguagem muito comum e pode ser encontrada em várias aplicações como Windows, interpretador de Python, Git e muitos outros lugares."
   ]
  },
  {
   "cell_type": "markdown",
   "metadata": {},
   "source": [
    "$\\textbf{Vejamos algumas características da linguagem:}$\n",
    "\n",
    "- É uma linguagem simples, com funcionalidades não-essenciais, tais como funções matemáticas e manuseios de ficheiros, que são fornecidas por um conjunto de $\\textit{bibliotecas de rotinas}$ padronizadas;\n",
    "\n",
    "- Tem foco nos paradigmas de $\\textit{programação procedural}$;\n",
    "\n",
    "- Usa um $\\textit{sistema de tipos}$ simples que evita várias operações que não fazem sentido;\n",
    "\n",
    "- Uso de uma linguagem de $\\textit{pré-processamento}$ para tarefas tais como a definição de $\\textit{macros}$ e a inclusão de múltiplos ficheiros de $\\textit{código fonte}$.\n",
    "\n",
    "- $\\textit{Ponteiros}$ dão maior flexibilidade à linguagem;\n",
    "\n",
    "- Acesso de baixo nível através de inclusão de código Assembly no meio do programa C;\n",
    "\n",
    "- Parâmetros que são sempre passados por valor para as funções e nunca por referência;\n",
    "\n",
    "- Definição do alcance lexical de variáveis;\n",
    "\n",
    "- Estrutura de variáveis (structs) que permitem que dados relacionados sejam combinados e manipulados como um todo."
   ]
  },
  {
   "cell_type": "markdown",
   "metadata": {
    "collapsed": true
   },
   "source": [
    "Bibliografia:\n",
    "- https://en.wikipedia.org/wiki/C_standard_library\n",
    "- http://www.learn-c.org\n",
    "- http://linguagemc.com.br"
   ]
  },
  {
   "cell_type": "markdown",
   "metadata": {
    "collapsed": true
   },
   "source": [
    "## Começando a programar:\n",
    "\n",
    "Todo programa em C usa bibliotecas que proporcionam a habilidade de executar funções necessárias.  Por exemplo, a função mais básica é a $\\textit{printf}$ que é definida pelo leitor de arquivos $\\textit{studio.h}$ e imprime na tela o que foi definido dentro dela.\n",
    "\n",
    "Para obtermos a capacidade de usar o $\\textit{printf}$ em nosso programa devemos seguir o seguinte passo inicial: na primeira linha colocaremos $\\textit{#include < nome da biblioteca >}$.\n"
   ]
  },
  {
   "cell_type": "code",
   "execution_count": 1,
   "metadata": {},
   "outputs": [
    {
     "name": "stderr",
     "output_type": "stream",
     "text": [
      "/tmp/tmphc4t4h75.out: /tmp/tmpmw0t1m8r.out: undefined symbol: main\n",
      "[C kernel] Executable exited with code 1"
     ]
    }
   ],
   "source": [
    "#include <stdio.h>"
   ]
  },
  {
   "cell_type": "markdown",
   "metadata": {},
   "source": [
    "Se quisermos declarar mais de uma biblioteca, devemos fazer a mesma coisa para cada uma delas. Veja no exemplo abaixo:"
   ]
  },
  {
   "cell_type": "markdown",
   "metadata": {},
   "source": [
    "#include < stdio.h >\n",
    "\n",
    "#include < stdlib.h >\n",
    "\n",
    "#include < ctype.h >"
   ]
  },
  {
   "cell_type": "markdown",
   "metadata": {},
   "source": [
    "A segunda parte do código é o próprio código que vamos escrever. O primeiro código que será executado sempre residirá na função $\\textit{main}$."
   ]
  },
  {
   "cell_type": "markdown",
   "metadata": {},
   "source": [
    "int main()\n",
    "\n",
    "{\n",
    "\n",
    "o código ...\n",
    "\n",
    "}"
   ]
  },
  {
   "cell_type": "markdown",
   "metadata": {},
   "source": [
    "A palavra-chave $\\textit{int}$ indica que a $\\textit{main}$ retornará um número inteiro - um número simples. O número que será retornado pela função indica se o programa que escrevemos funcionou corretamente. Se quisermos dizer que nosso código foi executado com sucesso, retornaremos o número 0. Um número maior que 0 significará que o programa que escrevemos falhou."
   ]
  },
  {
   "cell_type": "code",
   "execution_count": 2,
   "metadata": {},
   "outputs": [
    {
     "name": "stdout",
     "output_type": "stream",
     "text": [
      "Hello, World!"
     ]
    }
   ],
   "source": [
    "#include <stdio.h>\n",
    "\n",
    "int main() {\n",
    "  printf(\"Hello, World!\");\n",
    "  return 0;\n",
    "}"
   ]
  },
  {
   "cell_type": "code",
   "execution_count": null,
   "metadata": {},
   "outputs": [],
   "source": []
  }
 ],
 "metadata": {
  "kernelspec": {
   "display_name": "C",
   "language": "c",
   "name": "c"
  },
  "language_info": {
   "file_extension": ".c",
   "mimetype": "text/plain",
   "name": "c"
  }
 },
 "nbformat": 4,
 "nbformat_minor": 2
}
