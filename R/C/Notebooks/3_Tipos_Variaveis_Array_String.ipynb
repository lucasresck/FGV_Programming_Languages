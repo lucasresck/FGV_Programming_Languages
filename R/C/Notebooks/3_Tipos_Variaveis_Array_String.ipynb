{
 "cells": [
  {
   "cell_type": "markdown",
   "metadata": {},
   "source": [
    "# Variáveis:\n",
    "\n",
    "Variável é um local reservado na memória para armazenar um tipo de dado. Toda variável precisa ter um identificador e um tipo, que determina o que ela é capaz de armazenar."
   ]
  },
  {
   "cell_type": "markdown",
   "metadata": {},
   "source": [
    "### Tipos de dados"
   ]
  },
  {
   "cell_type": "markdown",
   "metadata": {},
   "source": [
    "Os principais tipos numéricos são divididos em $\\textit{inteiro}$, que armazenam números inteiros, e $\\textit{real}$, que armazenam números com casas decimais (float).\n",
    "\n",
    "C possui vários tipos de dado, mas vamos começar pelos tipos básicos:\n",
    "\n",
    "- Integers: números inteiros que podem ser definidos usando $\\textit{char}$,$\\textit{int}$, $\\textit{short}$, $\\textit{long}$ ou $\\textit{long long}$;\n",
    "\n",
    "- Unsigned integers: inteiros positivos que podem ser definidos usando $\\textit{unsigned char}$, $\\textit{unsigned int}$, $\\textit{unsigned short}$, $\\textit{unsigned long}$ ou $\\textit{unsigned long long}$;\n",
    "\n",
    "- Float point: números reais que podem ser definidos usando $\\textit{float}$ e $\\textit{double}$\n",
    "\n",
    "- Structure: veremos separadamente nos próximos notebooks.\n",
    "\n",
    "$\\textbf{Obs.:}$ C não possui tipos booleanos e, normalmente, são definidos pela notação:"
   ]
  },
  {
   "cell_type": "code",
   "execution_count": null,
   "metadata": {},
   "outputs": [],
   "source": [
    "#define BOOL char\n",
    "#define FALSE 0\n",
    "#define TRUE 1"
   ]
  },
  {
   "cell_type": "markdown",
   "metadata": {},
   "source": [
    "#### Definindo Variáveis:\n",
    "Para os números, geralmente usaremos o tipo $\\textit{int}$, um número inteiro no tamanho de uma \"palavra\", o tamanho de número padrão da máquina em que seu programa é compilado. Na maioria dos computadores de hoje, é um número de 32 bits, o que significa que o número pode variar de -2.147.483.648 para 2.147.483.647."
   ]
  },
  {
   "cell_type": "markdown",
   "metadata": {},
   "source": [
    "Em C devemos listar primeiro o tipo, depois o nome da variável.\n",
    "\n",
    "$\\textbf{Sintaxe:}$ < TIPO > < NOME_DA_VARIÁVEL >\n",
    "\n",
    "Exemplo: \n",
    "                       \n",
    "                       int contador \n",
    "                       int: é o tipo da variável (inteiro)\n",
    "                       contador: é o nome da variável\n",
    "                       \n",
    "                       float salario\n",
    "                       float: é o tipo da variável (real)\n",
    "                       salario: é o nome da variável\n",
    "                       \n",
    "                       char nome\n",
    "                       char: é o tipo da variável (caracter)\n",
    "                       nome: é o nome da variável\n",
    "    "
   ]
  },
  {
   "cell_type": "markdown",
   "metadata": {},
   "source": [
    "### Regras de criação dos nomes:"
   ]
  },
  {
   "cell_type": "markdown",
   "metadata": {},
   "source": [
    "- O nome de uma variável deve sempre iniciar com uma letra ou _ , jamais deve iniciar com um número; \n",
    "- Utilize nomes representativos para as variáveis;\n",
    "- C é uma linguagem \"case sensitive\", isso quer dizer que letras maiúsculas e minúsculas são diferentes, pois são tratadas como caracteres diferentes.\n",
    "Atribuições são dadas a partir do uso de =."
   ]
  },
  {
   "cell_type": "markdown",
   "metadata": {},
   "source": [
    "Exemplo: Para definir variáveis $\\textit{foo}$ e $\\textit{bar}$ devemos usar a sintaxe:"
   ]
  },
  {
   "cell_type": "code",
   "execution_count": null,
   "metadata": {},
   "outputs": [],
   "source": [
    "int foo;\n",
    "int bar = 1;"
   ]
  },
  {
   "cell_type": "markdown",
   "metadata": {},
   "source": [
    "A variável foo pode ser usada, mas desde que não a inicializamos, não sabemos o que está nele. A barra de variáveis contém o número 1.\n",
    "\n",
    "Agora, podemos fazer algumas operações matemáticas. Supondo que a, b, c, d e e são variáveis, podemos usar simplesmente operadores +, - e * na seguinte notação e atribuir um novo valor a:"
   ]
  },
  {
   "cell_type": "code",
   "execution_count": 1,
   "metadata": {},
   "outputs": [
    {
     "name": "stdout",
     "output_type": "stream",
     "text": [
      "11"
     ]
    }
   ],
   "source": [
    "#include <stdio.h>\n",
    "\n",
    "int main() \n",
    "{\n",
    " \n",
    "int a = 0,b = 1,c = 2,d = 3, e = 4;\n",
    "a = b - c + d * e;\n",
    "printf(\"%d\", a); /* will print 1-2+3*4 = 11 */\n",
    "return 0;\n",
    "}"
   ]
  },
  {
   "cell_type": "code",
   "execution_count": 2,
   "metadata": {},
   "outputs": [
    {
     "name": "stdout",
     "output_type": "stream",
     "text": [
      "14"
     ]
    }
   ],
   "source": [
    "#include <stdio.h>\n",
    "\n",
    "int main() \n",
    "{\n",
    " \n",
    "int a = 0,b = 1,c = 2,d = 3, e = 4, g = 0;\n",
    "a = b - c + d * e;\n",
    "g = a+b+c;\n",
    "printf(\"%d\", g); /* will print 1-2+3*4 + 1 + 2 = 14 */\n",
    "return 0;\n",
    "}"
   ]
  },
  {
   "cell_type": "markdown",
   "metadata": {
    "collapsed": true
   },
   "source": [
    "Vejamos o formato específico para cada tipo de dado:\n",
    "\n",
    "                                    char,signed char, unsignate char | \"%c\"\n",
    "                       short,short int,signed short,signed short int | \"%hi\"\n",
    "                                   unsigned short,unsigned short int | \"%hu\"\n",
    "                                               int,signed,signed int | \"%i\" ou \"%d\"\n",
    "                                               unsigned,unsigned int | \"%u\"\n",
    "                           long,long int,signed long,signed long int | \"%li\"\n",
    "                                     unsigned long,unsigned long int | \"%lu\"\n",
    "       long long,long long int,signed long long,signed long long int | \"%lli\"\n",
    "                           unsigned long long,unsigned long long int | \"%llu\"\n",
    "                                                               float | \"%f\"\n",
    "                                                              double | \"%f\", \"%lf\" (scanf()),\"%g\" ou \"%e\"(notação científica)\n",
    "                                                         long double | %Lf, %LF, %Lg ou %Le  "
   ]
  },
  {
   "cell_type": "markdown",
   "metadata": {
    "collapsed": true
   },
   "source": [
    "# Array \n",
    "\n",
    "As matrizes são variáveis especiais que podem conter mais de um valor usando a mesma variável, usando um índice. As matrizes são definidas em uma sintaxe muito direta:"
   ]
  },
  {
   "cell_type": "markdown",
   "metadata": {},
   "source": [
    "int numbers[10]; Definimos, assim, uma matriz com 10 inteiros."
   ]
  },
  {
   "cell_type": "markdown",
   "metadata": {},
   "source": [
    "Acessar um número da matriz é feito usando a mesma sintaxe. Observe que os arrays em C são baseados em zero, o que significa que, se definimos uma matriz de tamanho 10, as células da matriz de 0 a 9 (inclusive) são definidas. numbers[10] não é um valor real, isto é:\n",
    "- A primeira posição de um vetor tem índice zero\n",
    "- A última posição de um vetor tem índice igual ao (número de posições - 1)."
   ]
  },
  {
   "cell_type": "code",
   "execution_count": 3,
   "metadata": {},
   "outputs": [
    {
     "name": "stdout",
     "output_type": "stream",
     "text": [
      "The 7th number in the array is 70"
     ]
    }
   ],
   "source": [
    "#include <stdio.h>\n",
    "\n",
    "int main() {\n",
    "  int numbers[10];\n",
    "\n",
    "/* populate the array */\n",
    "numbers[0] = 10;\n",
    "numbers[1] = 20;\n",
    "numbers[2] = 30;\n",
    "numbers[3] = 40;\n",
    "numbers[4] = 50;\n",
    "numbers[5] = 60;\n",
    "numbers[6] = 70;\n",
    "\n",
    "/* print the 7th number from the array, which has an index of 6 */\n",
    "printf(\"The 7th number in the array is %d\", numbers[6]);\n",
    "  return 0;\n",
    "}"
   ]
  },
  {
   "cell_type": "code",
   "execution_count": 6,
   "metadata": {},
   "outputs": [
    {
     "name": "stdout",
     "output_type": "stream",
     "text": [
      "Exibindo os Valores do Vetor \n",
      "\n",
      "notas[0] = 7.0\n",
      "notas[1] = 8.0\n",
      "notas[2] = 9.5\n",
      "notas[3] = 9.9\n",
      "notas[4] = 5.2\n"
     ]
    }
   ],
   "source": [
    "#include <stdio.h>\n",
    "\n",
    "int main(void)\n",
    "{\n",
    "  float notas[5] = {7, 8, 9.5, 9.9, 5.2};\n",
    "  // declarando e inicializando o vetor notas\n",
    " \n",
    "  printf(\"Exibindo os Valores do Vetor \\n\\n\");\n",
    "  printf(\"notas[0] = %.1f\\n\", notas[0]);\n",
    "  printf(\"notas[1] = %.1f\\n\", notas[1]);\n",
    "  printf(\"notas[2] = %.1f\\n\", notas[2]);\n",
    "  printf(\"notas[3] = %.1f\\n\", notas[3]);\n",
    "  printf(\"notas[4] = %.1f\\n\", notas[4]);\n",
    " \n",
    "  return 0;\n",
    "}"
   ]
  },
  {
   "cell_type": "markdown",
   "metadata": {},
   "source": [
    "### Array Multidimensional \n",
    "Em C , é possível também definir arrays com 2 ou mais dimensões. Eles são arrays de arrays. Um array de duas dimensões pode ser imaginado como uma matriz."
   ]
  },
  {
   "cell_type": "markdown",
   "metadata": {},
   "source": [
    "Forma geral:\n",
    "\n",
    "    type name[size1][size2]...[sizeN]; \n",
    "    colocamos colchetes adicionais\n",
    "\n",
    "Por exemplo:\n",
    "                    \n",
    "                    int table[4][4];\n",
    "                    \n",
    "Representa uma matriz $4x4$ chamada $\\textit{table}$ com 16 valores inteiros. \n",
    "\n",
    "Obs.: Lembrem-se que os índices das dimensões variam de 0 ao antecessor do índice. "
   ]
  },
  {
   "cell_type": "code",
   "execution_count": 3,
   "metadata": {
    "scrolled": true
   },
   "outputs": [
    {
     "name": "stdout",
     "output_type": "stream",
     "text": [
      "\n",
      "         Tabuada\n",
      "     0  1  2  3  4  5  6  7  8  9 10\n",
      "   ---------------------------------\n",
      " 0|  0  0  0  0  0  0  0  0  0  0  0\n",
      " 1|  0  1  2  3  4  5  6  7  8  9 10\n",
      " 2|  0  2  4  6  8 10 12 14 16 18 20\n",
      " 3|  0  3  6  9 12 15 18 21 24 27 30\n",
      " 4|  0  4  8 12 16 20 24 28 32 36 40\n",
      " 5|  0  5 10 15 20 25 30 35 40 45 50\n",
      " 6|  0  6 12 18 24 30 36 42 48 54 60\n",
      " 7|  0  7 14 21 28 35 42 49 56 63 70\n",
      " 8|  0  8 16 24 32 40 48 56 64 72 80\n",
      " 9|  0  9 18 27 36 45 54 63 72 81 90\n",
      "10|  0 10 20 30 40 50 60 70 80 90100\n"
     ]
    }
   ],
   "source": [
    "#include <stdio.h>\n",
    "\n",
    "#define LIN 11\n",
    "#define COL 11\n",
    "\n",
    "int main()\n",
    "{\n",
    "  int x;                          /* numero da coluna */\n",
    "  int y;                          /* numero da linha  */\n",
    "  int tabela[LIN] [COL];          /* tabela de taboada  */\n",
    "  \n",
    "  /* preenche a tabela */\n",
    "  \n",
    "  for(y=0; y < LIN; y+=1)\n",
    "    for(x=0; x < COL; x+=1)\n",
    "      tabela[y][x] = y*x;\n",
    "  \n",
    "  printf(\"\\n         Tabuada\\n\");\n",
    "  \n",
    "  /* Imprime o numero das colunas */\n",
    "  \n",
    "  printf(\"%6d\", 0);\n",
    "  for (x=1; x < COL; x+=1)\n",
    "    printf(\"%3d\", x);\n",
    "  printf(\"\\n\");\n",
    "  \n",
    "  /* Imprime uma linha horizontal */\n",
    "  printf(\"   \");\n",
    "  for (x=0; x < 3*COL; x+=1)\n",
    "    printf(\"-\");\n",
    "  printf(\"\\n\");\n",
    "  \n",
    "  /* Imprime as linhas da tablea.\n",
    "     Cada linha a precedida pelo indice de linha e uma barra vertical */\n",
    "  \n",
    "  for (y=0; y < LIN; y+=1) {\n",
    "    printf(\"%2d|\", y);\n",
    "    for(x=0; x < COL; x+=1)\n",
    "      printf(\"%3d\", tabela[y][x]);\n",
    "    printf(\"\\n\");\n",
    "  }\n",
    "  \n",
    "}"
   ]
  },
  {
   "cell_type": "markdown",
   "metadata": {},
   "source": [
    "Um array multidimensional pode ser inicializado da seguinte forma:"
   ]
  },
  {
   "cell_type": "markdown",
   "metadata": {},
   "source": [
    "    double tabela[3][2] = { {1.0, 2.0},       3 linhas\n",
    "                            {3.0, 4.0},       2 colunas\n",
    "                            {5.0, 6.0}      \n",
    "                          };\n"
   ]
  },
  {
   "cell_type": "code",
   "execution_count": 7,
   "metadata": {},
   "outputs": [
    {
     "name": "stdout",
     "output_type": "stream",
     "text": [
      "matriz[0][0] = 11\n",
      "matriz[0][1] = 22\n",
      "matriz[1][0] = 32\n",
      "matriz[1][1] = 44\n"
     ]
    }
   ],
   "source": [
    "#include<stdio.h>\n",
    "int main(void)\n",
    "{\n",
    "  int  matriz[2][2] = {{11,22},{32,44}};\n",
    "  int i,j;\n",
    " \n",
    "  /* Imprimindo os atribuídos para a matriz */\n",
    "  for (i = 0; i <= 1; i++)\n",
    "  {\n",
    "     for(j = 0; j <=1; j++)\n",
    "     {\n",
    "       printf (\"matriz[%d][%d] = %d\\n\", i,j, matriz[i][j]);\n",
    "     }\n",
    "  }\n",
    " \n",
    "  return 0;\n",
    "}"
   ]
  },
  {
   "cell_type": "markdown",
   "metadata": {},
   "source": [
    "podemos, também, omitir a primeira dimensão. (tabela[ ][2])"
   ]
  },
  {
   "cell_type": "code",
   "execution_count": 9,
   "metadata": {},
   "outputs": [
    {
     "name": "stdout",
     "output_type": "stream",
     "text": [
      "matriz[0][0] = 5\n",
      "matriz[0][1] = 16\n",
      "matriz[1][0] = 20\n",
      "matriz[1][1] = 8\n"
     ]
    }
   ],
   "source": [
    "#include<stdio.h>\n",
    "int main(void)\n",
    "{\n",
    "  int  matriz[][2] = {{5,16},{20,8}};\n",
    "  int i,j;\n",
    " \n",
    "  /* Imprimindo os atribuídos para a matriz */\n",
    "  for (i = 0; i <= 1; i++)\n",
    "  {\n",
    "     for(j = 0; j <=1; j++)\n",
    "     {\n",
    "       printf (\"matriz[%d][%d] = %d\\n\", i,j, matriz[i][j]);\n",
    "     }\n",
    "  }\n",
    " \n",
    "  return 0;\n",
    "}"
   ]
  },
  {
   "cell_type": "markdown",
   "metadata": {},
   "source": [
    "### Arrays de arrays"
   ]
  },
  {
   "cell_type": "markdown",
   "metadata": {},
   "source": [
    "É definido como um array de dimensão $k$, onde a quantidade de elementos em cada dimensão é $n_0, n_1, ..., n_{k-1}$. Escrevemos, então"
   ]
  },
  {
   "cell_type": "code",
   "execution_count": 13,
   "metadata": {},
   "outputs": [
    {
     "name": "stdout",
     "output_type": "stream",
     "text": [
      "tabela[0][0] = 13\n",
      "tabela[0][1] = 15\n",
      "tabela[0][2] = 17\n",
      "tabela[0][3] = 19\n",
      "tabela[0][4] = 21\n",
      "tabela[1][0] = 20\n",
      "tabela[1][1] = 22\n",
      "tabela[1][2] = 24\n",
      "tabela[1][3] = 26\n",
      "tabela[1][4] = 28\n",
      "tabela[2][0] = 31\n",
      "tabela[2][1] = 33\n",
      "tabela[2][2] = 35\n",
      "tabela[2][3] = 37\n",
      "tabela[2][4] = 39\n",
      "tabela[3][0] = 40\n",
      "tabela[3][1] = 42\n",
      "tabela[3][2] = 44\n",
      "tabela[3][3] = 46\n",
      "tabela[3][4] = 48\n"
     ]
    }
   ],
   "source": [
    "#include<stdio.h>\n",
    "int main(void)\n",
    "{\n",
    "  int  tabela[4][5] = {{13, 15, 17, 19, 21},\n",
    "                       {20, 22, 24, 26, 28},\n",
    "                       {31, 33, 35, 37, 39},\n",
    "                       {40, 42, 44, 46, 48} };\n",
    "  int i,j;\n",
    " \n",
    "  /* Imprimindo os atribuídos para a matriz */\n",
    "  for (i = 0; i <= 3; i++)\n",
    "  {\n",
    "     for(j = 0; j <=4; j++)\n",
    "     {\n",
    "       printf (\"tabela[%d][%d] = %d\\n\", i,j, tabela[i][j]);\n",
    "     }\n",
    "  }\n",
    " \n",
    "  return 0;\n",
    "}"
   ]
  },
  {
   "cell_type": "markdown",
   "metadata": {},
   "source": [
    "## Strings"
   ]
  },
  {
   "cell_type": "markdown",
   "metadata": {},
   "source": [
    "As strings em C são matrizes de caracteres. Embora os ponteiros em C estejam no assunto avançado explicados mais adiante, usaremos ponteiros para uma matriz de caracteres para definir strings simples, da seguinte maneira:\n",
    "\n",
    "char * name = \"John Smith\";\n",
    "\n",
    "Esse método cria uma string que só podemos usar para leitura. Se quisermos definir uma string que possa ser manipulada, precisamos defini-la como uma matriz de caracteres locais:\n",
    "\n",
    "char name[ ] = \"John Smith\"\n",
    "\n",
    "Essa notação é diferente porque aloca uma variável de matriz para que possamos manipulá-la. A notação de colchetes vazios [] indica ao compilador para calcular o tamanho da matriz automaticamente. Isso é de fato o mesmo que alocá-lo explicitamente, adicionando um ao comprimento da seqüência de caracteres:\n",
    "\n",
    "char name[11] = \"John Smith\";\n",
    "\n",
    "O motivo pelo qual precisamos adicionar um, embora a string John Smith tenha exatamente 10 caracteres, é para a terminação da string, um caractere especial (igual a 0) que indica o fim da string. O fim da seqüência de caracteres está marcado porque o programa não conhece o comprimento da string - apenas o compilador conhece de acordo com o código."
   ]
  },
  {
   "cell_type": "markdown",
   "metadata": {},
   "source": [
    "### Uso do printf"
   ]
  },
  {
   "cell_type": "markdown",
   "metadata": {},
   "source": [
    "O comando $\\textit{printf}$ pode ser usado para formatar uma string junto com outras strings, da seguinte maneira:"
   ]
  },
  {
   "cell_type": "code",
   "execution_count": 14,
   "metadata": {},
   "outputs": [
    {
     "name": "stdout",
     "output_type": "stream",
     "text": [
      "John Smith is 27 years old. \n"
     ]
    }
   ],
   "source": [
    "#include <stdio.h>\n",
    "int main()\n",
    "{\n",
    "char * name = \"John Smith\";\n",
    "int age = 27;\n",
    "printf(\"%s is %d years old. \\n\", name, age);\n",
    "return 0;\n",
    "}"
   ]
  },
  {
   "cell_type": "markdown",
   "metadata": {},
   "source": [
    "Observe que ao imprimir os caracteres, devemos adicionar um caractere da nova linha $(\\n)$ para que nossa próxima declaração printf seja impressa em uma nova linha."
   ]
  },
  {
   "cell_type": "markdown",
   "metadata": {},
   "source": [
    "### Uso do scanf\n",
    "\n",
    "O comando $scanf$ é usado para leitura dos valores digitados no teclado. Usamos da seguinte maneira:"
   ]
  },
  {
   "cell_type": "code",
   "execution_count": 27,
   "metadata": {},
   "outputs": [
    {
     "name": "stdout",
     "output_type": "stream",
     "text": [
      "Entre com a sua idade: \n",
      "Você tem 0 anos \n"
     ]
    }
   ],
   "source": [
    "#include <stdio.h>\n",
    "int main()\n",
    "{\n",
    "int idade;\n",
    "printf(\"Entre com a sua idade: \\n\");\n",
    "\n",
    "scanf (\"%d\", &idade);\n",
    "\n",
    "printf (\"Você tem %d anos \\n\", idade);\n",
    "}"
   ]
  },
  {
   "cell_type": "markdown",
   "metadata": {},
   "source": [
    "### Tamanho de uma String\n",
    "\n",
    "A função $\\textit{strlen}$ retorna o tamanho da string, que deverá ser passada como argumento"
   ]
  },
  {
   "cell_type": "code",
   "execution_count": 16,
   "metadata": {},
   "outputs": [
    {
     "name": "stdout",
     "output_type": "stream",
     "text": [
      "25\n"
     ]
    }
   ],
   "source": [
    "#include <stdio.h>\n",
    "#include <string.h>\n",
    "int main()\n",
    "{\n",
    "char * name = \"Linguagens de Programacao\";\n",
    "printf(\"%li\\n\",strlen(name));\n",
    "return 0;\n",
    "}"
   ]
  },
  {
   "cell_type": "code",
   "execution_count": 29,
   "metadata": {},
   "outputs": [
    {
     "name": "stdout",
     "output_type": "stream",
     "text": [
      "Entre com a data do seu aniversario (dd mm aa): \n",
      "Voce nasceu em 0/0/0\n"
     ]
    }
   ],
   "source": [
    "#include <stdio.h> \n",
    "int main() \n",
    "\n",
    "{ \n",
    "int dia, mes, ano; \n",
    "printf(\"Entre com a data do seu aniversario (dd mm aa): \\n\"); \n",
    "scanf(\"%d %d %d\", &dia, &mes, &ano); \n",
    "printf(\"Voce nasceu em %d/%d/%d\\n\", dia, mes, ano); \n",
    "}"
   ]
  },
  {
   "cell_type": "markdown",
   "metadata": {},
   "source": [
    "### Comparação de Strings\n",
    "\n",
    "A função $\\textit{strncmp}$ é usada para a comparação entre duas strings, retornando o número 0 se forem iguais ou um número diferente se forem diferentes. Os argumentos são as duas strings a serem comparadas e o comprimento de comparação máximo. Há também uma versão não segura desta função chamada strcmp, mas não é recomendável usá-la. Por exemplo:"
   ]
  },
  {
   "cell_type": "code",
   "execution_count": 17,
   "metadata": {},
   "outputs": [
    {
     "name": "stdout",
     "output_type": "stream",
     "text": [
      "Hello, John!\n"
     ]
    }
   ],
   "source": [
    "#include <stdio.h>\n",
    "#include <string.h>\n",
    "int main()\n",
    "{\n",
    "char * name = \"John\";\n",
    "if (strncmp(name, \"John\", 4) == 0) {\n",
    "    printf(\"Hello, John!\\n\");\n",
    "} \n",
    "else \n",
    "{\n",
    "    printf(\"You are not John. Go away. \\n\");\n",
    "}\n",
    "return 0;\n",
    "}"
   ]
  },
  {
   "cell_type": "code",
   "execution_count": 18,
   "metadata": {},
   "outputs": [
    {
     "name": "stdout",
     "output_type": "stream",
     "text": [
      "You are not John. Go away. \n"
     ]
    }
   ],
   "source": [
    "#include <stdio.h>\n",
    "#include <string.h>\n",
    "int main()\n",
    "{\n",
    "char * name = \"Alice\";\n",
    "if (strncmp(name, \"John\", 4) == 0) {\n",
    "    printf(\"Hello, John!\\n\");\n",
    "} \n",
    "else \n",
    "{\n",
    "    printf(\"You are not John. Go away. \\n\");\n",
    "}\n",
    "return 0;\n",
    "}"
   ]
  },
  {
   "cell_type": "markdown",
   "metadata": {},
   "source": [
    "### Concatenação de Strings\n",
    "\n",
    "A função $\\textit{strncat}$ acrescenta os primeiros n caracteres de seqüência de caracteres src à cadeia de destino onde n é min (n, comprimento (src)). Os argumentos passados são string de destino, string de origem e n - número máximo de caracteres a serem anexados. Exemplo de exemplo:"
   ]
  },
  {
   "cell_type": "code",
   "execution_count": 19,
   "metadata": {},
   "outputs": [
    {
     "name": "stdout",
     "output_type": "stream",
     "text": [
      "HelloWor\n",
      "HelloWorWorld\n"
     ]
    }
   ],
   "source": [
    "#include <stdio.h>\n",
    "#include <string.h>\n",
    "int main()\n",
    "{\n",
    "char dest[20]=\"Hello\";\n",
    "char src[20]=\"World\";\n",
    "strncat(dest,src,3);\n",
    "printf(\"%s\\n\",dest);\n",
    "strncat(dest,src,20);\n",
    "printf(\"%s\\n\",dest);\n",
    "return 0;\n",
    "}"
   ]
  },
  {
   "cell_type": "code",
   "execution_count": null,
   "metadata": {},
   "outputs": [],
   "source": []
  }
 ],
 "metadata": {
  "kernelspec": {
   "display_name": "C",
   "language": "c",
   "name": "c"
  },
  "language_info": {
   "file_extension": ".c",
   "mimetype": "text/plain",
   "name": "c"
  }
 },
 "nbformat": 4,
 "nbformat_minor": 2
}
