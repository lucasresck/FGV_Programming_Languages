{
 "cells": [
  {
   "cell_type": "markdown",
   "metadata": {},
   "source": [
    "# Vejamos algumas das bibliotecas mais utilizadas e suas descrições:"
   ]
  },
  {
   "cell_type": "markdown",
   "metadata": {},
   "source": [
    "## < assert.h >\n",
    "\n",
    "Implementa ajuda na detecção de erros em versões de depuração de programas.A função assert() testa se uma expressão é true (verdadeira).\n",
    "\n",
    "Ao executar seu programa, se a expressão for verdadeira (true), o assert se mantém silencioso, não acusa nada. Mas, se ao executar o programa e a expressão for falsa (false), o assert interromperá a execução do programa.\n",
    "\n",
    "Para utilizarmos o assert em nosso código é preciso utilizar o cabeçalho assert.h. \n",
    "\n",
    "                    #include <assert.h>\n",
    "                    \n",
    "Veja os exemplos:"
   ]
  },
  {
   "cell_type": "code",
   "execution_count": 21,
   "metadata": {},
   "outputs": [
    {
     "name": "stdout",
     "output_type": "stream",
     "text": [
      "Expressão verdadeira"
     ]
    }
   ],
   "source": [
    "#include <stdio.h>\n",
    "#include <assert.h>\n",
    "\n",
    "int main(int argc, char const *argv[])\n",
    "{\n",
    "    assert(1 == 1);\n",
    "    printf (\"Expressão verdadeira\");\n",
    "    return 0;\n",
    "}"
   ]
  },
  {
   "cell_type": "code",
   "execution_count": 22,
   "metadata": {},
   "outputs": [
    {
     "name": "stdout",
     "output_type": "stream",
     "text": [
      "Expressão falsa! Veja que aparecerá a mensagem de erro assim que a expressão for avaliada."
     ]
    },
    {
     "name": "stderr",
     "output_type": "stream",
     "text": [
      "tmpb6i1vu6w.out: /tmp/tmp4qk6f90l.c:7: main: Assertion `1 == 2' failed.\n",
      "[C kernel] Executable exited with code -6"
     ]
    }
   ],
   "source": [
    "#include <stdio.h>\n",
    "#include <assert.h>\n",
    "\n",
    "int main(int argc, char const *argv[])\n",
    "{\n",
    "    printf (\"Expressão falsa! Veja que aparecerá a mensagem de erro assim que a expressão for avaliada.\");\n",
    "    assert(1 == 2);\n",
    "    printf (\"Não aparece\");\n",
    "    return 0;\n",
    "}"
   ]
  },
  {
   "cell_type": "markdown",
   "metadata": {},
   "source": [
    "## < complex.h >\n",
    "\n",
    "Trata da manipulação de números complexos. \n",
    "Cada função declarada em complex.h possui três versões, cada uma trabalhando com um tipo diferente de ponto flutuante (double, float e long double). \n",
    "\n",
    "Exemplo:"
   ]
  },
  {
   "cell_type": "code",
   "execution_count": 23,
   "metadata": {},
   "outputs": [
    {
     "name": "stdout",
     "output_type": "stream",
     "text": [
      "Working with complex numbers:\n",
      "\u000b",
      "Starting values: Z1 = 1.00 + 3.00i\tZ2 = 1.00 -4.00i\n",
      "The sum: Z1 + Z2 = 2.00 -1.00i\n"
     ]
    }
   ],
   "source": [
    "#include <stdio.h>      /* Standard Library of Input and Output */\n",
    "#include <complex.h>    /* Standart Library of Complex Numbers */\n",
    "\n",
    "int main() \n",
    "{\n",
    "    double complex z1 = 1.0 + 3.0 * I;\n",
    "    double complex z2 = 1.0 - 4.0 * I;\n",
    "\n",
    "    printf(\"Working with complex numbers:\\n\\v\");\n",
    "\n",
    "    printf(\"Starting values: Z1 = %.2f + %.2fi\\tZ2 = %.2f %+.2fi\\n\", \n",
    "           creal(z1), \n",
    "           cimag(z1), \n",
    "           creal(z2), \n",
    "           cimag(z2));\n",
    "\n",
    "    double complex sum = z1 + z2;\n",
    "    printf(\"The sum: Z1 + Z2 = %.2f %+.2fi\\n\", creal(sum), cimag(sum));\n",
    "}"
   ]
  },
  {
   "cell_type": "markdown",
   "metadata": {},
   "source": [
    "##  < ctype.h >\n",
    "\n",
    "O arquivo de cabeçalho ctype.h da Biblioteca Padrão C declara várias funções que são úteis para testar e mapear caracteres.\n",
    "\n",
    "Todas as funções aceitam int como um parâmetro, funções para conversão de maiúsculas, minúsculas e outros tratamentos de caracteres.\n",
    "\n",
    "Todas as funções retornam não-zero (verdadeiro) se o argumento c satisfizer a condição descrita e zero (falso) se não."
   ]
  },
  {
   "cell_type": "markdown",
   "metadata": {},
   "source": [
    "Arquivo ctype.h.\n",
    "Interface da biblioteca ctype.\n",
    "\n",
    "- Seção 1: Funções booleanas          \n",
    "\n",
    "As funções desta seção devolvem 0 para dizer \"não\" e um inteiro diferente de 0 para dizer \"sim\".\n",
    "\n",
    "Um branco (white-space) é um dos seguintes bytes: \\  \\t \\n \\v \\f \\r.  A função isspace decide se o argumento representa um branco.  Uso típico: if (isspace (c)) ...\n",
    "\n",
    "int isspace (int c);                                    \n",
    "\n",
    "A função isdigit decide se o argumento é um dígito decimal (0 1 2 3 4 5 6 7 8 9).  Uso típico: if (isdigit (c)) .... \n",
    "\n",
    "int isdigit (int c);                                    \n",
    "\n",
    "A função islower decide se o argumento representa uma letra minúscula (a b c d e f g h i j k l m n o p q r s t u v w x y z).  As letras com diacríticos (como á e ç por exemplo) não estão no conjunto.  Uso típico: if (islower (c)) .... \n",
    "\n",
    "int islower (int c);                                    \n",
    "\n",
    "A função isupper decide se o argumento é uma letra maiúscula (A B C D E F G H I J K L M N O P Q R S T U V W X Y Z).  As letras com diacríticos (como Á e Ç por exemplo) não estão no conjunto. Uso típico: if (isupper (c)) .... \n",
    "\n",
    "int isupper (int c);                                    \n",
    "\n",
    "A função isalpha decide se o argumento representa uma letra (maiúscula ou minúscula).  Uso típico: if (isalpha (c)) .... \n",
    "\n",
    "int isalpha (int c);                                    \n",
    "\n",
    "A função isalnum decide se o argumento representa uma letra ou um dígito decimal.  Uso típico: if (isalnum (c)) .... \n",
    "\n",
    "int isalnum (int c);                                    \n",
    "\n",
    "A função ispunct decide se o argumento representa um caractere de pontuação ASCII (! \" # $ % & ' ( ) * + , - . / : ; < = > ? @ [ \\ ] ^ _ ` { | } ~).  Uso típico: if (ispunct (c)) .... \n",
    "\n",
    "int ispunct (int c);                                    \n",
    "\n",
    "\n",
    "- Seção 2: Funções de conversão\n",
    "                                                           \n",
    "A função toupper recebe uma letra c e devolve a correspondente letra maiúscula se tal existir (senão, devolve c).  Uso típico: C = toupper (c); \n",
    "\n",
    "int toupper (int c);                                    \n",
    "\n",
    "A função tolower recebe uma letra C e devolve a correspondente letra minúscula se tal existir (senão, devolve C).  Uso típico: c = tolower (C); \n",
    "\n",
    "int tolower (int C);                                    "
   ]
  },
  {
   "cell_type": "markdown",
   "metadata": {},
   "source": [
    "### < errno.h >\n",
    "\n",
    "Teste de códigos de erro reportados pelas funções de bibliotecas. É declarada por: \n",
    "\n",
    "                extern int errno"
   ]
  },
  {
   "cell_type": "code",
   "execution_count": 25,
   "metadata": {},
   "outputs": [
    {
     "name": "stderr",
     "output_type": "stream",
     "text": [
      "Value of errno: 2\n",
      "Error opening file: No such file or directory\n"
     ]
    }
   ],
   "source": [
    "#include <stdio.h>\n",
    "#include <errno.h>\n",
    "#include <string.h>\n",
    "\n",
    "extern int errno ;\n",
    "\n",
    "int main () {\n",
    "   FILE *fp;\n",
    "\n",
    "   fp = fopen(\"file.txt\", \"r\");\n",
    "   if( fp == NULL ) {\n",
    "      fprintf(stderr, \"Value of errno: %d\\n\", errno);\n",
    "      fprintf(stderr, \"Error opening file: %s\\n\", strerror(errno));\n",
    "   } else {\n",
    "      fclose(fp);\n",
    "   }\n",
    "   \n",
    "   return(0);\n",
    "}"
   ]
  },
  {
   "cell_type": "markdown",
   "metadata": {},
   "source": [
    " ### < fenv.h >\n",
    "\n",
    "Define várias funções e macros para tratar de exceções em variáveis do tipo ponto flutuante. \n",
    "\n",
    "O cabeçalho <fenv.h> deve definir os seguintes tipos de dados através de typedef:\n",
    "\n",
    "- fenv_t\n",
    "Representa todo o ambiente de ponto flutuante. O ambiente de ponto flutuante refere-se coletivamente a qualquer sinalizador de status de ponto flutuante e modos de controle suportados pela implementação.\n",
    "- fexcept_t\n",
    "Representa os sinalizadores de status de ponto flutuante coletivamente, incluindo qualquer status que a implementação associe aos sinalizadores. Um sinalizador de status de ponto flutuante é uma variável de sistema cujo valor é definido (mas nunca limpo) quando uma exceção de ponto flutuante é gerada, o que ocorre como um efeito colateral da aritmética de ponto flutuante excepcional para fornecer informações auxiliares. Um modo de controle de ponto flutuante é uma variável de sistema cujo valor pode ser definido pelo usuário para afetar o comportamento subseqüente da aritmética de ponto flutuante."
   ]
  },
  {
   "cell_type": "markdown",
   "metadata": {},
   "source": [
    "### < float.h >\n",
    "\n",
    "Define limites e precisão de variáveis de ponto flutuante."
   ]
  },
  {
   "cell_type": "code",
   "execution_count": 26,
   "metadata": {},
   "outputs": [
    {
     "name": "stderr",
     "output_type": "stream",
     "text": [
      "/tmp/tmp38vms936.c: In function ‘main’:\n",
      "/tmp/tmp38vms936.c:8:12: warning: format ‘%e’ expects argument of type ‘double’, but argument 2 has type ‘int’ [-Wformat=]\n",
      "     printf(\"The number of digits in the number = %.10e\\n\", FLT_MANT_DIG);\n",
      "            ^\n"
     ]
    },
    {
     "name": "stdout",
     "output_type": "stream",
     "text": [
      "The maximum value of float = 3.4028234664e+38 \n",
      "The minimum value of float = 1.1754943508e-38 \n",
      "The number of digits in the number = 1.1754943508e-38\n"
     ]
    }
   ],
   "source": [
    "#include <stdio.h>\n",
    "#include <float.h>\n",
    "\n",
    "int main () \n",
    "{\n",
    "   printf(\"The maximum value of float = %.10e \\n\", FLT_MAX);\n",
    "   printf(\"The minimum value of float = %.10e \\n\", FLT_MIN);\n",
    "    printf(\"The number of digits in the number = %.10e\\n\", FLT_MANT_DIG);\n",
    "}"
   ]
  },
  {
   "cell_type": "markdown",
   "metadata": {},
   "source": [
    "### < locale.h >\n",
    "\n",
    "Especifica constantes de acordo com a localização específica, como moeda, data, etc."
   ]
  },
  {
   "cell_type": "markdown",
   "metadata": {},
   "source": [
    "Exemplo 1: \n",
    "\n",
    "Vejamos um programa-exemplo que altera a localidade para a localidade padrão do sistema operacional"
   ]
  },
  {
   "cell_type": "code",
   "execution_count": 30,
   "metadata": {},
   "outputs": [
    {
     "name": "stdout",
     "output_type": "stream",
     "text": [
      "\n",
      "****** Verificando a localidade corrente ********\n",
      "\n",
      "Localidade corrente: C\n",
      "Não é possível usar acentuação ou ç corretamente...\n",
      "\n",
      "\n",
      "****** Alterando para a localidade do sistema ********\n",
      "\n",
      "A localidade corrente agora é en_US.UTF-8 \n",
      "Agora não tem mais problema algum!\n",
      "Já posso usar acentuação e também o caracter ç...\n",
      "\n",
      "\n"
     ]
    }
   ],
   "source": [
    "#include <stdio.h>\n",
    "#include <stdlib.h>\n",
    "#include <locale.h> //necessário para usar setlocale\n",
    " \n",
    "int main(void)\n",
    "{\n",
    " printf(\"\\n****** Verificando a localidade corrente ********\\n\\n\");\n",
    " printf (\"Localidade corrente: %s\\n\", setlocale(LC_ALL,NULL) );\n",
    " printf(\"Não é possível usar acentuação ou ç corretamente...\\n\\n\");\n",
    " \n",
    " printf(\"\\n****** Alterando para a localidade do sistema ********\\n\\n\");\n",
    " \n",
    " //alterando para o padrão do sistema operacional\n",
    " printf(\"A localidade corrente agora é %s \\n\",setlocale(LC_ALL,\"\"));\n",
    " printf(\"Agora não tem mais problema algum!\\n\");\n",
    " printf(\"Já posso usar acentuação e também o caracter ç...\\n\\n\\n\");\n",
    " \n",
    "  system(\"pause\");\n",
    "  return 0;\n",
    "}"
   ]
  },
  {
   "cell_type": "markdown",
   "metadata": {},
   "source": [
    "Exemplo 2:\n",
    "\n",
    "Vamos configurar o idioma português da seguinte forma:"
   ]
  },
  {
   "cell_type": "code",
   "execution_count": 29,
   "metadata": {},
   "outputs": [
    {
     "name": "stdout",
     "output_type": "stream",
     "text": [
      "Utilizando caracteres e acentuação da língua portuguesa!\n",
      "\n"
     ]
    },
    {
     "name": "stderr",
     "output_type": "stream",
     "text": [
      "sh: 1: pause: not found\n"
     ]
    }
   ],
   "source": [
    "#include <stdio.h>\n",
    "#include <stdlib.h>\n",
    "#include <locale.h>\n",
    "int main(void)\n",
    "{\n",
    "  setlocale(LC_ALL, \"Portuguese\");\n",
    "  printf(\"Utilizando caracteres e acentuação da língua portuguesa!\\n\\n\");\n",
    " \n",
    "  system(\"pause\");\n",
    "  return 0;\n",
    "}"
   ]
  },
  {
   "cell_type": "markdown",
   "metadata": {},
   "source": [
    "## < math.h >\n",
    "\n",
    "Funções matemáticas comuns em computação."
   ]
  },
  {
   "cell_type": "code",
   "execution_count": 41,
   "metadata": {},
   "outputs": [
    {
     "name": "stdout",
     "output_type": "stream",
     "text": [
      "3.162278\n",
      "54.598150\n",
      "1.386294\n",
      "2.000000\n",
      "5.200000\n",
      "5.000000\n",
      "-5.000000\n",
      "2.000000\n",
      "0.000000\n",
      "1.000000\n",
      "0.000000\n"
     ]
    }
   ],
   "source": [
    "#include <stdio.h>\n",
    "#include <math.h>\n",
    "\n",
    "int main()\n",
    "{\n",
    "    printf(\"%f\\n\",sqrt(10.0));\n",
    "    printf(\"%f\\n\",exp(4.0));\n",
    "    printf(\"%f\\n\",log(4.0));\n",
    "    printf(\"%f\\n\",log10(100.0));\n",
    "    printf(\"%f\\n\",fabs(-5.2));\n",
    "    printf(\"%f\\n\",ceil(4.5));\n",
    "    printf(\"%f\\n\",floor(-4.5));\n",
    "    printf(\"%f\\n\",pow(4.0,.5));\n",
    "    printf(\"%f\\n\",sin(0.0));\n",
    "    printf(\"%f\\n\",cos(0.0));\n",
    "    printf(\"%f\\n\",tan(0.0));\n",
    "    return 0;\n",
    "}\n"
   ]
  },
  {
   "cell_type": "markdown",
   "metadata": {},
   "source": [
    "## < stdbool.h >\n",
    "\n",
    "Trata da definição para tipo de dados booleano (TRUE ou FALSE).\n",
    "\n",
    "Veja como o booleano é usado o exemplo:"
   ]
  },
  {
   "cell_type": "code",
   "execution_count": 42,
   "metadata": {},
   "outputs": [
    {
     "name": "stdout",
     "output_type": "stream",
     "text": [
      "This will run as long as keep_going is true.\n",
      "Stopping!\n"
     ]
    }
   ],
   "source": [
    "#include <stdio.h>\n",
    "#include <stdlib.h>\n",
    "#include <stdbool.h>\n",
    "\n",
    "int main(void) {\n",
    "    bool keep_going = true;  // Could also be `bool keep_going = 1;`\n",
    "    while(keep_going) {\n",
    "        printf(\"This will run as long as keep_going is true.\\n\");\n",
    "        keep_going = false;    // Could also be `keep_going = 0;`\n",
    "    }\n",
    "    printf(\"Stopping!\\n\");\n",
    "    return EXIT_SUCCESS;\n",
    "}"
   ]
  },
  {
   "cell_type": "markdown",
   "metadata": {},
   "source": [
    "- < stdint.h >\n",
    "\n",
    "Padrões de definição de tipos de dados inteiros."
   ]
  },
  {
   "cell_type": "markdown",
   "metadata": {},
   "source": [
    "- < stddef.h >\n",
    "\n",
    "Padrões de definições de tipos."
   ]
  },
  {
   "cell_type": "markdown",
   "metadata": {},
   "source": [
    "## < stdio.h >\n",
    "\n",
    "Tratamento de entrada/saída."
   ]
  },
  {
   "cell_type": "markdown",
   "metadata": {},
   "source": [
    "- Seção 1 -- Entrada e saída de bytes (chars)\n",
    "\n",
    "                                                            \n",
    "A função fgetc lê o próximo byte (se tal existir) do arquivo arq. O byte é interpretado como um unsigned char, convertido em int, e em seguida devolvido pela função. Se arq terminou (e portanto não tem um próximo byte) a função devolve EOF. Uso típico:\n",
    "i = fgetc (stdin).\n",
    "\n",
    "int fgetc (FILE *arq);\n",
    " Esta função tem o mesmo comportamento que fgetc mas é implementada como uma macro.\n",
    " Uso típico: i = getc (stdin).\n",
    "\n",
    "int getc (FILE *arq); \n",
    "\n",
    "#define getchar ()  getc (stdin)\n",
    "\n",
    " Esta função converte c em um byte e coloca esse byte c de volta no arquivo arq de tal modo que ele será lido pela próxima chamada de fgetc ou getc. É preciso fazer pelo menos uma chamada de fgetc ou getc entre chamadas consecutivas de ungetc. Uso típico: ungetc (c, arquivo).\n",
    "\n",
    "int ungetc (int c, FILE *arq);\n",
    "Esta função converte c em um byte e escreve o byte no arquivo arq. Devolve o byte escrito (convertido em int) ou EOF no caso de algum erro. Uso típico:  fputc (c, stdout).\n",
    "\n",
    "int fputc (int c, FILE *arq);\n",
    "Mesmo comportamento que fputc, mas é implementada como uma macro. Uso típico: putc (c, stdout).\n",
    "\n",
    "int putc (int c, FILE *arq);\n",
    "\n",
    "#define putchar (x) putc ((x), stdout)\n",
    "\n",
    "- Seção 2 -- Entrada e saída de strings\n",
    "\n",
    "Lê no máximo n-1 bytes do arquivo arq e armazena-os no vetor s. (Se algum dos bytes lidos for 0, os resultados são imprevisíveis!) A leitura é interrompida se o arquivo terminar ou um byte n for encontrado; nesse último caso, o byte n é armazenado no vetor s. A menos que ocorra algum erro, a função armazena um byte 0 em s depois do último byte lido de arq. A função devolve s a menos que o arquivo tenha terminado ou algum erro tenha ocorrido, caso em que devolve NULL. Uso típico: fgets (s, n, stdin);\n",
    "\n",
    "char *fgets (char *s, int n, FILE *arq);\n",
    "Recebe uma string str (com byte final 0) e grava essa string no arquivo arq. O byte \\0 não é gravado. Devolve EOF se ocorrer algum erro e devolve um inteiro positivo em caso contrário. Uso típico: fputs (s, stdout);\n",
    "\n",
    "int fputs (char *str, FILE *arq);\n",
    "\n",
    "\n",
    "- Seção 3 -- Entrada e saída com formato\n",
    "\n",
    "int printf (char *, ...);\n",
    "int fprintf (FILE *, char *, ...);\n",
    "int sprintf (char *, char *, ...);\n",
    "\n",
    "int scanf (char *, ...);\n",
    "int fscanf (FILE *, char *, ...);\n",
    "int sscanf (char *, char *, ...);\n",
    "\n",
    "\n",
    "- Seção 4 -- Arquivos (files) \n",
    "\n",
    "typedef struct {\n",
    "   int            _cnt;  // available characters in buffer\n",
    "   unsigned char *_ptr;  // next char from/to in buffer\n",
    "   unsigned char *_base; // the buffer\n",
    "   unsigned char  _flag; // the state of the stream\n",
    "   unsigned char  _file; // UNIX System file descriptor\n",
    "   . . .\n",
    "} "
   ]
  },
  {
   "cell_type": "markdown",
   "metadata": {},
   "source": [
    "## < stdlib.h >\n",
    "\n",
    "Implementa funções para diversas operações, incluindo conversão,  alocação de memória, controle de processo, funções de busca e ordenação."
   ]
  },
  {
   "cell_type": "markdown",
   "metadata": {},
   "source": [
    "- Seção 1: Comunicação com o sistema operacional          \n",
    "                                                      \n",
    "O programa terminou de maneira excepcional.\n",
    "\n",
    "#define\tEXIT_FAILURE  1                                    \n",
    "                                                           \n",
    "O programa terminou de maneira normal.\n",
    "\n",
    "#define\tEXIT_SUCCESS  0                                    \n",
    "                                                           \n",
    "\n",
    "A função exit interrompe a execução do programa e fecha os arquivos que o programa tenha porventura aberto. Se status = 0, o sistema operacional é informado de que o programa terminou com sucesso; caso contrário, o sistema operacional é informado de que o programa terminou de maneira excepcional. Uso típico: exit (EXIT_FAILURE).\n",
    "\n",
    "void exit (int status);                                    \n",
    "\n",
    "- Seção 2: Números pseudoaleatórios                      \n",
    "                                                           \n",
    "#define RAND_MAX  2147483647\n",
    "                          \n",
    "A função rand (\"random\") devolve um número inteiro aleatório no intervalo fechado 0..RAND_MAX. Uso típico:  i = rand ().\n",
    "\n",
    "int rand (void);\n",
    "                                                                A função srand define uma \"semente\" para a função rand. Ela deve ser chamada antes do primeiro uso de rand para que a sequência de números devolvidos por rand não seja sempre a mesma. Uso típico: srand (time (NULL)).\n",
    "\n",
    "void srand (unsigned int);                          \n",
    "                                                           \n",
    "- Seção 3: Conversão de strings em números                \n",
    "\n",
    "A função strtol (\"string-to-long\") recebe uma string s de caracteres ASCII e um inteiro b no conjunto 2..36, interpreta s como um número inteiro representado na base b, e devolve esse inteiro. Exemplo:\n",
    "strtol (\"-1234\", NULL, 10) vale -1234 e strtol (\"159\", NULL, 16) vale 9f.                        \n",
    " A string s deve ter a seguinte forma:\n",
    " - Uma sequência (possivelmente vazia) de caracteres brancos. Esses caracteres são descartados.\n",
    " - Possivelmente um caractere '+' ou um caractere '-'.\n",
    " - Uma sequência não vazia de dígitos na base b. (Se b for 10, os dígitos pertencem ao conjunto 0..9; se b for 16, os dígitos são 0..9 e a..f; etc.).\n",
    "- Uma sequência que começa com um caractere (tipicamente 0) diferente de qualquer dígito na base b. Essa string final é conhecida como cauda de s e é ignorada pela função. Se o parâmetro tailptr é diferente de NULL, strtol armazena  em *tailptr o endereço da cauda de s. \n",
    "\n",
    "Se o inteiro representado por s não cabe em um long int, strtol devolve LONG_MAX ou LONG_MIN (conforme o sinal do inteiro). [Este resumo omite alguns detalhes; veja a documentação completa.]  Uso típico:\n",
    " n = strtol (s, NULL, 10).\n",
    "\n",
    "long int strtol (char *s, char **tailptr, int b);               \n",
    "\n",
    "\n",
    "OBSOLETA: A função atoi (\"alphanumeric-to-integer\") recebe uma string que representa um número inteiro em notação decimal e converte essa string no número inteiro correspondente. Exemplo:                                                \n",
    "      atoi (\"-1234\") vale -1234,                      \n",
    "      atoi (\"1234\") vale 1234.                        \n",
    "É responsabilidade do usuário garantir que o número representado pela string pertence ao intervalo fechado INT_MIN..INT_MAX. Uso típico: i = atoi (s).\n",
    "\n",
    "int atoi (char *);                                  \n",
    "                                                           \n",
    "                                                           \n",
    "OBSOLETA: A função atof (\"alphanumeric-to-float\") recebe uma string que representa um número real em notação decimal e converte essa string no número real correspondente. Exemplo: atof (\"1234.99\") vale 1234,99. \n",
    "Uso típico: f = atof (str).\n",
    "\n",
    "double atof (char *);                               \n",
    "                                                           \n",
    "                                                          \n",
    "- Seção 4: Alocação de memória                            \n",
    "                                                           \n",
    "#define NULL 0                                      \n",
    "                                                            size_t (\"size-type\") é o tipo de objeto devolvido pelo operador sizeof.\n",
    "\n",
    "typedef unsigned int size_t;                        \n",
    "                                                           \n",
    "                                                           \n",
    "A função malloc (\"memory-allocation\") recebe um inteiro N e aloca um bloco de N bytes consecutivos na memória. Devolve o endereço do primeiro byte alocado. Se não puder alocar os N bytes, malloc devolve NULL. Uso típico: ptr = malloc (N).\n",
    "\n",
    "void *malloc (size_t N);                              \n",
    "                                                           \n",
    "\n",
    "A função realloc muda para N o tamanho do bloco de bytes na memória apontado por ptr. O bloco deve ter sido originalmente alocado por malloc ou realloc. Ficam inalterados os primeiros K bytes do bloco, sendo K o menor entre N e o número original de bytes do bloco. (Tipicamente, N é maior que o número de bytes original, um novo bloco de N bytes é alocado, e o conteúdo do bloco original é copiado para o novo bloco.) A função devolve o endereço do novo bloco de bytes (ou NULL em caso de falha). Se o bloco for realocado para outro lugar na memória, o bloco original é desalocado. Uso típico: ptr = realloc (ptr, N).\n",
    "\n",
    "void *realloc (void *ptr, size_t N);       \n",
    "                                                           \n",
    "A função free recebe o endereço de um bloco de bytes previamente alocado por malloc ou realloc e desaloca (= libera) o bloco de bytes. Uso típico: free (ptr).\n",
    "\n",
    "void free (void *);                                   \n",
    "\n",
    "\n",
    "- Seção 5: Busca binária                            \n",
    "\n",
    "A função bsearch (\"binary-search\") recebe o endereço key de um objeto e um vetor v[0..n-1] de objetos. Cada objeto ocupa s bytes. O vetor está em ordem crescente, sendo a comparação entre elementos do vetor dada pela função compar (veja detalhes abaixo). A função devolve o endereço de um elemento do vetor que tenha valor igual a *key ou devolve NULL se tal elemento não existe.\n",
    "\n",
    "void *bsearch (void *key, void *v, size_t n, size_t s,\n",
    "               int (*compar) (void *, void *));\n",
    "\n",
    "\n",
    "- Seção 6: Ordenação                        \n",
    "                  \n",
    "A função qsort (\"quick-sort\") rearranja o vetor v[0..n-1] em ordem crescente. Cada elemento ocupa s bytes. A comparação entre elementos do vetor é dada pela função compar. [Detalhes abaixo.]\n",
    "\n",
    "void qsort (void *v, size_t n, size_t s, \n",
    "            int (*compar) (void *, void *));"
   ]
  },
  {
   "cell_type": "markdown",
   "metadata": {},
   "source": [
    "## < string.h >\n",
    "\n",
    "Tratamento de  strings. As funções mais usadas são as seguintes:\n",
    "         \n",
    "         strcat - concatena duas strings\n",
    "         strchr - operação de digitalização de uma string\n",
    "         strcmp - compara duas strings\n",
    "         strcpy - copia a string\n",
    "         strlen - mostra o tamanho da string\n",
    "         strncat - concatena uma string com parte de outra\n",
    "         strncmp - compara partes de duas strings\n",
    "         strncpy - copia parte de de uma string\n",
    "         strrchr - operação de digitalização de uma string "
   ]
  },
  {
   "cell_type": "code",
   "execution_count": 52,
   "metadata": {},
   "outputs": [
    {
     "name": "stdout",
     "output_type": "stream",
     "text": [
      "Nome = Fulano de Tal"
     ]
    }
   ],
   "source": [
    "#include <stdio.h>\n",
    "#include <string.h> //necessário para strcpy\n",
    "\n",
    "int main (void)\n",
    "{\n",
    "   char nome[15];\n",
    "\n",
    "   strcpy(nome, \"Fulano de Tal\");\n",
    "   printf(\"Nome = %s\", nome);\n",
    "   return 0;\n",
    "}"
   ]
  },
  {
   "cell_type": "code",
   "execution_count": 54,
   "metadata": {},
   "outputs": [
    {
     "name": "stdout",
     "output_type": "stream",
     "text": [
      "str2 = Curso\n"
     ]
    }
   ],
   "source": [
    "#include <stdio.h>\n",
    "#include <string.h>//necessário para strncpy\n",
    "\n",
    "int main (void)\n",
    "{\n",
    "   char str1[8] = \"Curso C\";\n",
    "   char str2[5];\n",
    " \n",
    "   strncpy(str2, str1, 5);\n",
    " \n",
    "   str2[5] = '\\0';\n",
    "   printf(\"str2 = %s\\n\", str2);\n",
    " \n",
    "  return 0;\n",
    "}"
   ]
  },
  {
   "cell_type": "code",
   "execution_count": 60,
   "metadata": {},
   "outputs": [
    {
     "name": "stdout",
     "output_type": "stream",
     "text": [
      "str = Linguagens deProgramação \n"
     ]
    },
    {
     "name": "stderr",
     "output_type": "stream",
     "text": [
      "*** stack smashing detected ***: /tmp/tmpb6i1vu6w.out terminated\n",
      "[C kernel] Executable exited with code -6"
     ]
    }
   ],
   "source": [
    "//Exemplo strcat\n",
    "#include <stdio.h>\n",
    "#include <string.h>//necessário para strcat\n",
    "\n",
    "int main (void)\n",
    "{\n",
    "   char str[13] = \"Linguagens de\";\n",
    "   strcat(str, \"Programação \");\n",
    "   printf(\"str = %s\\n\", str);\n",
    "   return 0;\n",
    "}"
   ]
  },
  {
   "cell_type": "markdown",
   "metadata": {},
   "source": [
    "## < tgmath.h >\n",
    "\n",
    "tgmath.h é um cabeçalho padrão C que define muitas macros genéricas de tipos que podem ser usadas para uma variedade de operações matemáticas. Este cabeçalho também inclui math.he complex.h. Para todas as funções nos cabeçalhos math.h e complex.h que não têm um sufixo f (float) ou l (long double) e cujo tipo correspondente é duplo (com a exceção de modf ()), existe uma macro correspondente. "
   ]
  },
  {
   "cell_type": "code",
   "execution_count": 79,
   "metadata": {},
   "outputs": [
    {
     "name": "stderr",
     "output_type": "stream",
     "text": [
      "/tmp/tmpb6i1vu6w.out: symbol lookup error: /tmp/tmp0vevt2lv.out: undefined symbol: sqrt\n",
      "[C kernel] Executable exited with code 127"
     ]
    }
   ],
   "source": [
    "#include <stdio.h>\n",
    "#include <tgmath.h>\n",
    " \n",
    "int main(void)\n",
    "{\n",
    "    int i = 2;\n",
    "    printf(\"sqrt(2) = %f\\n\", sqrt(i)); \n",
    " \n",
    "    float f = 0.5;\n",
    "    printf(\"sin(0.5) = %f\\n\", sinf(f));   \n",
    " \n",
    "    float complex dc = 1 + 0.5*I;\n",
    "    float complex z = csqrtf(dc);     \n",
    "    printf(\"sqrt(1 + 0.5i) = %f+%fi\\n\",\n",
    "           crealf(z),  \n",
    "           cimagf(z));\n",
    "}"
   ]
  },
  {
   "cell_type": "markdown",
   "metadata": {},
   "source": [
    "##  < time.h >\n",
    "\n",
    "Trata de tipos de data e hora.\n",
    "\n",
    "    struct tm \n",
    "    {\n",
    "\n",
    "       int tm_sec;          segundos,  de 0 a 59 \n",
    "       int tm_min;          minutos, de 0 a 59\n",
    "       int tm_hour;         horas, de 0 a 23\n",
    "       int tm_mday;         dias do mês, de 1 a 31\n",
    "       int tm_mon;          mês, de 0 a 11 \n",
    "       int tm_year;         número do ano, desde 1900 \n",
    "       int tm_wday;         dia da semana, de 0 a 6   \n",
    "       int tm_yday;         dia do ano, de 0 a 365  \n",
    "       int tm_isdst;        horário de verão\n",
    "    };"
   ]
  },
  {
   "cell_type": "code",
   "execution_count": 46,
   "metadata": {},
   "outputs": [
    {
     "name": "stdout",
     "output_type": "stream",
     "text": [
      "The current date/time is: Sun Apr 22 17:25:40 2018\n"
     ]
    }
   ],
   "source": [
    "#define _POSIX_C_SOURCE 200112L\n",
    "#include <stdio.h>\n",
    "#include <stdlib.h>\n",
    "#include <time.h>\n",
    "\n",
    "int main(void)\n",
    "{\n",
    "    time_t rawtime;\n",
    "    struct tm * timeinfo;\n",
    "    struct tm   timeinfoBuffer;\n",
    "    char *result;\n",
    "\n",
    "    time(&rawtime);\n",
    "    \n",
    "    timeinfo = localtime_r(&rawtime , &timeinfoBuffer);\n",
    "    \n",
    "    result = malloc(26 * sizeof(char));\n",
    "   \n",
    "    result = asctime_r(timeinfo, result);\n",
    "    printf(\"The current date/time is: %s\", result);\n",
    "   \n",
    "}"
   ]
  },
  {
   "cell_type": "markdown",
   "metadata": {},
   "source": [
    "## < wchar.h >\n",
    "\n",
    "Tratamento de caracteres para suportar diversas línguas."
   ]
  },
  {
   "cell_type": "code",
   "execution_count": 15,
   "metadata": {},
   "outputs": [
    {
     "name": "stdout",
     "output_type": "stream",
     "text": [
      " Hello World\n"
     ]
    }
   ],
   "source": [
    "#include <stdio.h>\n",
    "#include <wchar.h>\n",
    "#define SIZE 32\n",
    "\n",
    "int main() {\n",
    "\n",
    "      wchar_t destination[SIZE] = L\"Hello\"; /*SIZE should be sufficient enough to store both strings and NULL termination '\\0' */\n",
    "      wchar_t * source  = L\" World\";\n",
    "      wchar_t * ptr;\n",
    "\n",
    "      ptr = wcscat( destination, source );\n",
    "      printf(\" %ls\\n\", ptr ); /* prints \"hello World\"*/\n",
    "     /*OR printf(\"%ls\\n\" , destination);*/\n",
    "\n",
    "      return 0;\n",
    "\n",
    "}"
   ]
  }
 ],
 "metadata": {
  "kernelspec": {
   "display_name": "C",
   "language": "c",
   "name": "c"
  },
  "language_info": {
   "file_extension": ".c",
   "mimetype": "text/plain",
   "name": "c"
  }
 },
 "nbformat": 4,
 "nbformat_minor": 2
}
