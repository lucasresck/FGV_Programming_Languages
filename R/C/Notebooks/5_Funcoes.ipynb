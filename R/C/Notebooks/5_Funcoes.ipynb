{
 "cells": [
  {
   "cell_type": "markdown",
   "metadata": {},
   "source": [
    "## Funções:"
   ]
  },
  {
   "cell_type": "markdown",
   "metadata": {},
   "source": [
    "##### Definição: \n",
    "Uma função nada mais é do que uma subrotina usada em um programa. Em C, denominamos função a um conjunto de comandos que realiza uma tarefa específica em um módulo dependente de código."
   ]
  },
  {
   "cell_type": "markdown",
   "metadata": {},
   "source": [
    "As funções C são simples, mas por causa de como C funciona, o poder das funções é um pouco limitado.\n",
    "\n",
    "- As funções recebem uma quantidade fixa ou variável de argumentos.\n",
    "- As funções só podem retornar um valor ou retornar nenhum valor.\n",
    "Em C, os argumentos são copiados por valor para funções, o que significa que não podemos alterar os argumentos para afetar seu valor fora da função. Para fazer isso, devemos usar ponteiros, que são ensinados mais tarde.\n",
    "\n",
    "Todas as funções devem ser declaradas antes de serem usadas.As funções da biblioteca padrão, tais como printf(), scanf() e getchar(), são pré-definidas, mas memsmo assim devem ser declaradas (deve ser anunciado ao compilador que elas existem).É por isso que incluímos a linha #include <stdio.h> no início do código fonte.\n",
    "\n",
    "As funções são definidas usando a seguinte sintaxe:"
   ]
  },
  {
   "cell_type": "markdown",
   "metadata": {},
   "source": [
    "Esqueleto da função:\n",
    "    \n",
    "       tipo_de_retorno nome_da_função (listagem de parâmetros)\n",
    "       {\n",
    "          instruções;\n",
    "          retorno_da_função;\n",
    "       }"
   ]
  },
  {
   "cell_type": "code",
   "execution_count": 16,
   "metadata": {},
   "outputs": [
    {
     "name": "stdout",
     "output_type": "stream",
     "text": [
      "2"
     ]
    }
   ],
   "source": [
    "#include <stdio.h>\n",
    "int foo(int bar) {\n",
    "return bar * 2;\n",
    "}\n",
    "\n",
    "int main() {\n",
    "int c = foo(1);\n",
    "printf(\"%d\",c)\n",
    ";\n",
    "}"
   ]
  },
  {
   "cell_type": "markdown",
   "metadata": {},
   "source": [
    "No exemplo acima temos a função foo que recebe um argumento, bar. A função recebe um número inteiro, o multiplica por dois e retorna o resultado.\n",
    "\n",
    "\n",
    "Em C, as funções devem ser definidas pela primeira vez antes de serem usadas no código. Elas podem ser declaradas primeiro e depois implementadas usando um arquivo de cabeçalho ou no início do arquivo C ou podem ser implementados na ordem em que são usados (menos preferível). A maneira correta de usar funções é a seguinte:"
   ]
  },
  {
   "cell_type": "code",
   "execution_count": 17,
   "metadata": {},
   "outputs": [
    {
     "name": "stdout",
     "output_type": "stream",
     "text": [
      "The value of foo is 2"
     ]
    }
   ],
   "source": [
    "#include <stdio.h>\n",
    "/* declarando a função */\n",
    "int foo(int bar);\n",
    "\n",
    "int main() {\n",
    "    /* cchamando a função na main */\n",
    "    printf(\"The value of foo is %d\", foo(1));\n",
    "}\n",
    "\n",
    "int foo(int bar) {\n",
    "    return bar + 1;\n",
    "}"
   ]
  },
  {
   "cell_type": "markdown",
   "metadata": {},
   "source": [
    "$\\textbf{obs.: }$ $/* (comentário) */$ é usado para criar comentários no programa. Abaixo está um exemplo de como documentar uma função de forma mais completa:\n",
    "\n",
    "      /* função nome_da_função()\n",
    "       *  ação:        o que a função faz\n",
    "       *  entrada:     descrição dos argumentos passados para a função\n",
    "       *  saída:       descrição do valor retornado pela função\n",
    "       *  suposições:  o que você assume ser verdade para que a função funcione apropriadamente\n",
    "       *  algoritmo:   como o problema é resolvido (método)\n",
    "       */"
   ]
  },
  {
   "cell_type": "markdown",
   "metadata": {},
   "source": [
    "Podemos, também, criar funções que não nos retornam valor usando a palavra-chave $\\textit{void}$. Veja o exemplo:"
   ]
  },
  {
   "cell_type": "code",
   "execution_count": 18,
   "metadata": {},
   "outputs": [
    {
     "name": "stdout",
     "output_type": "stream",
     "text": [
      "Oi!\n"
     ]
    }
   ],
   "source": [
    "#include <stdio.h> \n",
    "void oi(void);\n",
    "\n",
    "    int main()\n",
    "    {\n",
    "        oi();\n",
    "    }\n",
    "  \n",
    "    void oi(void)\n",
    "    {\n",
    "        printf(\"Oi!\\n\");\n",
    "    }"
   ]
  },
  {
   "cell_type": "markdown",
   "metadata": {},
   "source": [
    "Neste exemplo, o programa consiste de duas funções, $main()$ e $oi()$. A ordem em que as funções são definidas não é importante, desde que protótipos de funções são usados. A linha\n",
    "\n",
    "                    void oi(void);\n",
    "é o protótipo de função para a finção $oi$ e é usado para declarar a função (os protótipos são sempre colocados próximos ao início do programa, antes das funções serem definidas).\n",
    "\n",
    "A função $oi( )$ imprime \"Oi!\". A função $printf()$ é o corpo da função. \n",
    "\n",
    "A função $oi()$ é chamada dentro da função $main()$ e, pela chamada de função ser uma sentença válida em C, foi terminada com o $;$.\n",
    "\n",
    "                         oi();\n",
    "                         "
   ]
  },
  {
   "cell_type": "markdown",
   "metadata": {},
   "source": [
    "#### Exemplo 1) Função Potência"
   ]
  },
  {
   "cell_type": "code",
   "execution_count": 50,
   "metadata": {},
   "outputs": [
    {
     "name": "stdout",
     "output_type": "stream",
     "text": [
      "4"
     ]
    }
   ],
   "source": [
    "#include <stdio.h>\n",
    "long int potencia(int num1, int num2)\n",
    "{\n",
    "  unsigned int count;\n",
    "  long int total=num1;\n",
    "  for(count=1; count<num2; ++count)\n",
    "  {\n",
    "  total=total*num1;\n",
    "  }\n",
    "  return total;\n",
    "}\n",
    "int main()\n",
    "{\n",
    "printf(\"%li\", potencia(2,2));\n",
    "return 0;\n",
    "}\n",
    "int main2()\n",
    "{\n",
    "printf(\"%li\", potencia(3,5));\n",
    "return 0;\n",
    "}"
   ]
  },
  {
   "cell_type": "code",
   "execution_count": 51,
   "metadata": {},
   "outputs": [
    {
     "name": "stdout",
     "output_type": "stream",
     "text": [
      "243"
     ]
    }
   ],
   "source": [
    "#include <stdio.h>\n",
    "long int potencia(int num1, int num2)\n",
    "{\n",
    "  unsigned int count;\n",
    "  long int total=num1;\n",
    "  for(count=1; count<num2; ++count)\n",
    "  {\n",
    "  total=total*num1;\n",
    "  }\n",
    "  return total;\n",
    "}\n",
    "int main()\n",
    "{\n",
    "printf(\"%li\", potencia(3,5));\n",
    "return 0;\n",
    "}"
   ]
  },
  {
   "cell_type": "markdown",
   "metadata": {},
   "source": [
    "#### Exemplo 2) Função raiz"
   ]
  },
  {
   "cell_type": "code",
   "execution_count": 20,
   "metadata": {},
   "outputs": [
    {
     "name": "stdout",
     "output_type": "stream",
     "text": [
      "2.000000"
     ]
    }
   ],
   "source": [
    "#include <stdio.h>\n",
    "float raiz_quadrada (float numero)\n",
    "{\n",
    "int n;\n",
    " float recorre = numero;\n",
    " for (n = 0; n < 10; ++n)\n",
    " {\n",
    " recorre = recorre/2 + numero/(2*recorre);\n",
    " }\n",
    " return(recorre);\n",
    " }\n",
    " int main()\n",
    " {\n",
    " printf(\"%f\", raiz_quadrada(4));\n",
    " return 0;\n",
    " }"
   ]
  },
  {
   "cell_type": "code",
   "execution_count": 52,
   "metadata": {},
   "outputs": [
    {
     "name": "stdout",
     "output_type": "stream",
     "text": [
      "11.000000"
     ]
    }
   ],
   "source": [
    "#include <stdio.h>\n",
    "float raiz_quadrada (float numero)\n",
    "{\n",
    "int n;\n",
    " float recorre = numero;\n",
    " for (n = 0; n < 10; ++n)\n",
    " {\n",
    " recorre = recorre/2 + numero/(2*recorre);\n",
    " }\n",
    " return(recorre);\n",
    " }\n",
    " int main()\n",
    " {\n",
    " printf(\"%f\", raiz_quadrada(121));\n",
    " return 0;\n",
    " }"
   ]
  },
  {
   "cell_type": "markdown",
   "metadata": {},
   "source": [
    "#### Exemplo 3) Função fatorial"
   ]
  },
  {
   "cell_type": "code",
   "execution_count": 21,
   "metadata": {},
   "outputs": [
    {
     "name": "stdout",
     "output_type": "stream",
     "text": [
      "120"
     ]
    }
   ],
   "source": [
    "#include <stdio.h>\n",
    "int fatorial (int n)\n",
    "{\n",
    "    int i=1,p=1;\n",
    "    for(i=1;i<=n;i++)\n",
    "    {\n",
    "        p=p*i;\n",
    "    }\n",
    "    return (p);\n",
    "}\n",
    "int main()\n",
    "{\n",
    "printf(\"%d\", fatorial(5));\n",
    "return 0;\n",
    "}"
   ]
  },
  {
   "cell_type": "code",
   "execution_count": 53,
   "metadata": {},
   "outputs": [
    {
     "name": "stdout",
     "output_type": "stream",
     "text": [
      "3628800"
     ]
    }
   ],
   "source": [
    "#include <stdio.h>\n",
    "int fatorial (int n)\n",
    "{\n",
    "    int i=1,p=1;\n",
    "    for(i=1;i<=n;i++)\n",
    "    {\n",
    "        p=p*i;\n",
    "    }\n",
    "    return (p);\n",
    "}\n",
    "int main()\n",
    "{\n",
    "printf(\"%d\", fatorial(10));\n",
    "return 0;\n",
    "}"
   ]
  },
  {
   "cell_type": "markdown",
   "metadata": {},
   "source": [
    "#### Exemplo 4) Função combinação"
   ]
  },
  {
   "cell_type": "code",
   "execution_count": 1,
   "metadata": {},
   "outputs": [
    {
     "name": "stdout",
     "output_type": "stream",
     "text": [
      "10"
     ]
    }
   ],
   "source": [
    "#include <stdio.h>\n",
    "int fatorial (int n)\n",
    "{\n",
    "int i=1,p=1;\n",
    "    for(i=1;i<=n;i++)\n",
    "    {\n",
    "        p=p*i;\n",
    "    }\n",
    "    return (p);\n",
    "}\n",
    "int combinacao(int i, int j)\n",
    "{\n",
    "    int c;\n",
    "    if(j==0 || j==i) c=1;\n",
    "    else c=fatorial(i)/(fatorial(j)*fatorial(i-j));\n",
    "    return (c);\n",
    "}\n",
    "\n",
    "int main()\n",
    "{\n",
    "printf(\"%d\", combinacao(5,3));\n",
    "return 0;\n",
    "}"
   ]
  },
  {
   "cell_type": "code",
   "execution_count": 2,
   "metadata": {},
   "outputs": [
    {
     "name": "stdout",
     "output_type": "stream",
     "text": [
      "20"
     ]
    }
   ],
   "source": [
    "#include <stdio.h>\n",
    "int fatorial (int n)\n",
    "{\n",
    "int i=1,p=1;\n",
    "    for(i=1;i<=n;i++)\n",
    "    {\n",
    "        p=p*i;\n",
    "    }\n",
    "    return (p);\n",
    "}\n",
    "int combinacao(int i, int j)\n",
    "{\n",
    "    int c;\n",
    "    if(j==0 || j==i) c=1;\n",
    "    else c= fatorial(i) /(fatorial(j)*fatorial(i-j));\n",
    "    return (c);\n",
    "}\n",
    "\n",
    "int main()\n",
    "{\n",
    "printf(\"%d\", combinacao(6,3));\n",
    "return 0;\n",
    "}"
   ]
  },
  {
   "cell_type": "markdown",
   "metadata": {},
   "source": [
    "Exemplo:\n",
    "\n",
    "Escreva uma função $\\textit{print_big}$ que recebe um argumento (inteiro) e imprima a linha $\\textit{x is bigger than 10}$ se o argumento passado é maior que 10."
   ]
  },
  {
   "cell_type": "code",
   "execution_count": 23,
   "metadata": {},
   "outputs": [
    {
     "name": "stdout",
     "output_type": "stream",
     "text": [
      "11 is bigger than 10\n",
      "22 is bigger than 10\n",
      "33 is bigger than 10\n"
     ]
    }
   ],
   "source": [
    "#include <stdio.h>\n",
    "void print_big(int number);\n",
    "\n",
    "int main() \n",
    "{\n",
    "  int array[] = { 1, 11, 2, 22, 3, 33 };\n",
    "  int i;\n",
    "  for (i = 0; i < 6; i++) {\n",
    "    print_big(array[i]);\n",
    "  }\n",
    "  return 0;\n",
    "}\n",
    "void print_big(int number){\n",
    "    if(number > 10){\n",
    "        printf(\"%d is bigger than 10\\n\",number);\n",
    "    }\n",
    "}"
   ]
  },
  {
   "cell_type": "markdown",
   "metadata": {
    "collapsed": true
   },
   "source": []
  },
  {
   "cell_type": "code",
   "execution_count": null,
   "metadata": {},
   "outputs": [],
   "source": []
  }
 ],
 "metadata": {
  "kernelspec": {
   "display_name": "C",
   "language": "c",
   "name": "c"
  },
  "language_info": {
   "file_extension": ".c",
   "mimetype": "text/plain",
   "name": "c"
  }
 },
 "nbformat": 4,
 "nbformat_minor": 2
}
