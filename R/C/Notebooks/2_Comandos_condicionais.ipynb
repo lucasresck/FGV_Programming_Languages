{
 "cells": [
  {
   "cell_type": "markdown",
   "metadata": {},
   "source": [
    "# Comandos condicionais"
   ]
  },
  {
   "cell_type": "markdown",
   "metadata": {},
   "source": [
    "A execução de um programa C começa com a função main(). Em todos os exemplos que vimos até este momento, sentenças são executadas sequencialmente. A ordem sequencial de execução de senteças pode ser alterada se certas condições forem satisfeitas durante a execução do programa. Isto é chamado desvio condicional.\n",
    "\n",
    "A expressão mais simples em C é o $\\textit{if}$. \n",
    "Sua representação é:\n",
    "\n",
    "         if (expressão)\n",
    "         sentença"
   ]
  },
  {
   "cell_type": "code",
   "execution_count": 9,
   "metadata": {},
   "outputs": [
    {
     "name": "stdout",
     "output_type": "stream",
     "text": [
      "Trocou \n",
      "Os numeros ordenados: 13 15\n"
     ]
    }
   ],
   "source": [
    "#include <stdio.h>\n",
    "\n",
    "int main() \n",
    "{\n",
    "  int num1, num2, aux;\n",
    "  num1 = 15;\n",
    "  num2= 13;\n",
    " \n",
    "  if (num1 > num2) \n",
    "  {\n",
    "    aux = num1;\n",
    "    num1 = num2;\n",
    "    num2 = aux;\n",
    "    printf(\"Trocou \\n\");\n",
    "  }\n",
    "\n",
    "  printf(\"Os numeros ordenados: %d %d\\n\", num1, num2);\n",
    "\n",
    "}"
   ]
  },
  {
   "cell_type": "markdown",
   "metadata": {},
   "source": [
    "No caso de desejarmos uma sequencia de sentenças, dependendo do valor lógico da condição, podemos usar o comando $\\textit{if-else}$. A estrutura fica sendo:\n",
    "\n",
    "         if (condição)\n",
    "         sentença1 \n",
    "         else\n",
    "         sentença 2\n",
    "         \n",
    "O que acontece é que, caso a condição seja verdadeira, realizamos a sentença 1. Caso falsa, realizamos a sentença 2."
   ]
  },
  {
   "cell_type": "code",
   "execution_count": 10,
   "metadata": {},
   "outputs": [
    {
     "name": "stdout",
     "output_type": "stream",
     "text": [
      "O número 5 é ímpar.\n"
     ]
    }
   ],
   "source": [
    "#include <stdio.h>\n",
    "\n",
    "int main(void)\n",
    "{\n",
    "  int num= 5;\n",
    "  \n",
    "  /* imprime uma mensagem dizendo se o numero e par ou impar */\n",
    "  if (num % 2 == 0)\n",
    "    printf(\"O número %d é par.\\n\", num);\n",
    "  else\n",
    "    printf(\"O número %d é ímpar.\\n\", num);      \n",
    "\n",
    "}"
   ]
  },
  {
   "cell_type": "markdown",
   "metadata": {},
   "source": [
    "No exemplo anterior podemos ver que, dado o valor de num, ele passou pela validação:\n",
    "\n",
    "           5 % 2 == 0? (o resto de 5 por 2 é zero?)\n",
    "                            FALSO\n",
    "              Então imprima \"O número 5 é ímpar\"\n",
    "Caso num fosse um número par a conndição teria valor lógico verdadeiro e seria impresso \" O número num é par.\" . Veja:\n"
   ]
  },
  {
   "cell_type": "code",
   "execution_count": 11,
   "metadata": {},
   "outputs": [
    {
     "name": "stdout",
     "output_type": "stream",
     "text": [
      "O número 16 é par.\n"
     ]
    }
   ],
   "source": [
    "#include <stdio.h>\n",
    "\n",
    "int main(void)\n",
    "{\n",
    "  int num= 16;\n",
    "  \n",
    "  /* imprime uma mensagem dizendo se o numero e par ou impar */\n",
    "  if (num % 2 == 0)\n",
    "    printf(\"O número %d é par.\\n\", num);\n",
    "  else\n",
    "    printf(\"O número %d é ímpar.\\n\", num);      \n",
    "\n",
    "}"
   ]
  }
 ],
 "metadata": {
  "kernelspec": {
   "display_name": "C",
   "language": "c",
   "name": "c"
  },
  "language_info": {
   "file_extension": ".c",
   "mimetype": "text/plain",
   "name": "c"
  }
 },
 "nbformat": 4,
 "nbformat_minor": 2
}
