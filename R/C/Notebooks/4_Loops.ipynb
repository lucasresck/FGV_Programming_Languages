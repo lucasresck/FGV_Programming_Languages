{
 "cells": [
  {
   "cell_type": "markdown",
   "metadata": {},
   "source": [
    "# Loop For:\n",
    "\n",
    "$\\textit{Loops for}$ em C são diretos. Eles fornecem a capacidade de criar um loop - um bloco de código que é executado várias vezes. O $for$ requer uma variável de iterador, geralmente registrada como i.\n",
    "\n",
    "Esse loop nos fornece as seguintes funcionalidades:\n",
    "- Inicializa a variável do iterador usando um valor inicial\n",
    "- Verifica se o iterador atingiu seu valor final\n",
    "- Aumenta o iterador\n",
    "\n",
    "A ideia é:\n",
    "\n",
    "         Para (valor inicial até condição_final passo n)faça:\n",
    "                 Inicio\n",
    "                 Instruções;\n",
    "                 Fim;\n",
    "Ficando assim: \n",
    "\n",
    "         for(valor_inicial; condição_final; valor_incremento)\n",
    "                 {\n",
    "                  instruções;\n",
    "                 }\n",
    "                                \n",
    "Por exemplo, se quisermos iterar em um bloco por 10 vezes, escrevemos:"
   ]
  },
  {
   "cell_type": "code",
   "execution_count": 1,
   "metadata": {},
   "outputs": [
    {
     "name": "stdout",
     "output_type": "stream",
     "text": [
      "0\n",
      "1\n",
      "2\n",
      "3\n",
      "4\n",
      "5\n",
      "6\n",
      "7\n",
      "8\n",
      "9\n"
     ]
    }
   ],
   "source": [
    "#include <stdio.h>\n",
    "int main() \n",
    "{\n",
    "int i;\n",
    "for (i = 0; i < 10; i++) {\n",
    "    printf(\"%d\\n\", i);\n",
    "}\n",
    "return 0;\n",
    "}"
   ]
  },
  {
   "cell_type": "code",
   "execution_count": 2,
   "metadata": {},
   "outputs": [
    {
     "name": "stdout",
     "output_type": "stream",
     "text": [
      "contador = 0\n",
      "contador = 1\n",
      "contador = 2\n",
      "contador = 3\n",
      "contador = 4\n",
      "ACABOU !!!!\n"
     ]
    }
   ],
   "source": [
    "#include <stdio.h>\n",
    "\n",
    "int main()\n",
    "{\n",
    "int contador;\n",
    "for ( contador = 0; contador < 5; contador += 1 )\n",
    "    printf( \"contador = %d\\n\", contador );\n",
    "\n",
    "printf (\"ACABOU !!!!\\n\");\n",
    "}"
   ]
  },
  {
   "cell_type": "markdown",
   "metadata": {},
   "source": [
    "O $\\textit{loop for}$ pode iterar sobre os valores dos arrays. Por exemplo, se quisermos somar todos os valores de uma matriz, usaríamos o iterador i como índice de matrizes:"
   ]
  },
  {
   "cell_type": "code",
   "execution_count": 3,
   "metadata": {},
   "outputs": [
    {
     "name": "stdout",
     "output_type": "stream",
     "text": [
      "Sum of the array is 55\n"
     ]
    }
   ],
   "source": [
    "#include <stdio.h>\n",
    "int main() \n",
    "{\n",
    "int array[10] = { 1, 2, 3, 4, 5, 6, 7, 8, 9, 10 };\n",
    "int sum = 0;\n",
    "int i;\n",
    "\n",
    "for (i = 0; i < 10; i++) {\n",
    "    sum += array[i];\n",
    "}\n",
    "printf(\"Sum of the array is %d\\n\", sum);\n",
    "return 0;\n",
    "}"
   ]
  },
  {
   "cell_type": "markdown",
   "metadata": {},
   "source": [
    " Exemplo:\n",
    "\n",
    "Calcule o fatorial (multiplicação de todos os termos array[0] até array[9], inclusive) da variável array."
   ]
  },
  {
   "cell_type": "code",
   "execution_count": 4,
   "metadata": {},
   "outputs": [
    {
     "name": "stdout",
     "output_type": "stream",
     "text": [
      "10! is 3628800.\n"
     ]
    }
   ],
   "source": [
    "#include <stdio.h>\n",
    "\n",
    "int main() \n",
    "{\n",
    "  int array[] = { 1, 2, 3, 4, 5, 6, 7, 8, 9, 10 };\n",
    "  int factorial = 1;\n",
    "\n",
    "  int i;\n",
    "\n",
    "  for(i=0;i<10;i++)\n",
    "  {\n",
    "    factorial *= array[i];\n",
    "  }\n",
    "\n",
    "  printf(\"10! is %d.\\n\", factorial);\n",
    "}"
   ]
  },
  {
   "cell_type": "markdown",
   "metadata": {
    "collapsed": true
   },
   "source": [
    "# Loop While \n",
    "\n",
    "Os $\\textit{loops while}$ são semelhantes aos $\\textit{loops for}$, mas têm menos funcionalidades. Um $loop while$ continua a executar o bloco $while$ enquanto a condição no $while$ for mantida. Por exemplo, o código a seguir será executado exatamente dez vezes:"
   ]
  },
  {
   "cell_type": "markdown",
   "metadata": {},
   "source": [
    "O $\\textit{loops while}$ possui a estrutura:\n",
    "             \n",
    "                     Iniciar a variável de controle\n",
    "                     Enquanto (condição) faça\n",
    "                              Início\n",
    "                              Instruções;\n",
    "                     Atualizar a variável de controle;\n",
    "                              Fim;\n",
    "Ficando assim:\n",
    "\n",
    "                  while (condição)\n",
    "                       {\n",
    "                       Instrução ou bloco de instruções;\n",
    "                       }\n",
    "                       \n",
    "Veja que também podemos usar $while$ dentro de $while$:"
   ]
  },
  {
   "cell_type": "code",
   "execution_count": 5,
   "metadata": {},
   "outputs": [
    {
     "name": "stdout",
     "output_type": "stream",
     "text": [
      "7\n",
      "5\n",
      "9\n",
      "5\n",
      "11\n",
      "6\n"
     ]
    }
   ],
   "source": [
    "#include <stdio.h>\n",
    "int main()\n",
    "{\n",
    "    int array[] = {1, 7, 4, 5, 9, 3, 5, 11, 6, 3, 4};\n",
    "    int i = 0;\n",
    "\n",
    "    while (i < 10) \n",
    "    {\n",
    "        if(array[i] < 5)\n",
    "        {\n",
    "            i++;\n",
    "            continue;\n",
    "        }\n",
    "        printf(\"%d\\n\", array[i]);\n",
    "        i++;\n",
    "    }\n",
    "\n",
    "    return 0;\n",
    "}"
   ]
  },
  {
   "cell_type": "code",
   "execution_count": 6,
   "metadata": {},
   "outputs": [
    {
     "name": "stdout",
     "output_type": "stream",
     "text": [
      "  1  2  3  4\n",
      "  2  4  6  8\n",
      "  3  6  9 12\n",
      "  4  8 12 16\n"
     ]
    }
   ],
   "source": [
    "#include <stdio.h>\n",
    "\n",
    "int main( )\n",
    "{\n",
    "  int linha, coluna;\n",
    "  linha = 1; \n",
    "  while (linha < 5)\n",
    "  {\n",
    "    coluna = 1; \n",
    "    while (coluna < 5)\n",
    "    {\n",
    "      printf( \"%3d\", linha*coluna );\n",
    "      coluna += 1;\n",
    "    }\n",
    "    linha += 1;\n",
    "    printf( \"\\n\" );\n",
    "  } \n",
    "}"
   ]
  },
  {
   "cell_type": "code",
   "execution_count": 7,
   "metadata": {},
   "outputs": [
    {
     "name": "stdout",
     "output_type": "stream",
     "text": [
      "\n",
      "\t\n",
      "\t+\n",
      "\t++\n",
      "\t+++\n",
      "\t++++\n",
      "\t+++++\n",
      "\t++++++\n",
      "\t+++++++\n",
      "\t++++++++\n",
      "\t+++++++++\n",
      "\t++++++++++\n",
      "\t+++++++++++\n",
      "\t++++++++++++\n",
      "\t+++++++++++++\n"
     ]
    }
   ],
   "source": [
    "#include <stdio.h>\n",
    "\n",
    "int main( )\n",
    "{  \n",
    "  int linha, coluna;\n",
    "  printf(\"\\n\");\n",
    "  linha = 1;\n",
    "  while (linha < 15)\n",
    "  {\n",
    "    printf( \"\\t\" );\n",
    "    coluna = 1;\n",
    "    while (coluna < linha)\n",
    "    {\n",
    "      printf( \"+\" );\n",
    "      coluna += 1;\n",
    "    }\n",
    "    printf( \"\\n\" );\n",
    "    linha += 1;\n",
    "  }\n",
    "}\n"
   ]
  },
  {
   "cell_type": "markdown",
   "metadata": {},
   "source": [
    "## Equivalência entre For e While "
   ]
  },
  {
   "cell_type": "markdown",
   "metadata": {},
   "source": [
    "Embora qualquer código possa ser escrito usando $while$ ou $for$, a escolha é baseada principalmente no estilo. Por exemplo, se precisamos de uma inicialização e um incremento, então o $for$ geralmente é usado. No caso em que o número de repetições não é pré-determinado em geral usa-se o $while$.\n",
    "\n",
    "Com o comando for:\n",
    "\n",
    "    for (inicialização; teste; incremento)\n",
    "        sentença;\n",
    "        \n",
    "é equivalente a:\n",
    "\n",
    "    inicialização;\n",
    "    while (teste)\n",
    "    {\n",
    "        sentença;\n",
    "        incremento;\n",
    "    };\n",
    "\n",
    "Vejamos o exemplo a seguir.\n",
    "\n",
    "Estrutura com $For$:"
   ]
  },
  {
   "cell_type": "code",
   "execution_count": 8,
   "metadata": {},
   "outputs": [
    {
     "name": "stdout",
     "output_type": "stream",
     "text": [
      "\t30\n",
      "\t27\n",
      "\t24\n",
      "\t21\n",
      "\t18\n",
      "\t15\n",
      "\t12\n",
      "\t 9\n",
      "\t 6\n",
      "\t soma = 162\n"
     ]
    }
   ],
   "source": [
    "#include <stdio.h>\n",
    "\n",
    "int main( )\n",
    "{\n",
    "\n",
    "  int i, soma;\n",
    "  \n",
    "  soma = 0;\n",
    "  for( i = 30; i >= 5; i -= 1 ){\n",
    "    if( (i % 3) == 0 ){\n",
    "      printf( \"\\t%2d\\n\", i );\n",
    "      soma += i;\n",
    "    }\n",
    "  }\n",
    "  printf( \"\\t soma = %d\\n\", soma );\n",
    "}"
   ]
  },
  {
   "cell_type": "markdown",
   "metadata": {},
   "source": [
    "Estrutura com $While$:"
   ]
  },
  {
   "cell_type": "code",
   "execution_count": 9,
   "metadata": {},
   "outputs": [
    {
     "name": "stdout",
     "output_type": "stream",
     "text": [
      "\t30 \n",
      "\t27 \n",
      "\t24 \n",
      "\t21 \n",
      "\t18 \n",
      "\t15 \n",
      "\t12 \n",
      "\t 9 \n",
      "\t 6 \n",
      "\t soma = 162 \n"
     ]
    }
   ],
   "source": [
    "#include <stdio.h>\n",
    "\n",
    "int main( )\n",
    "{\n",
    "int i, soma;\n",
    "soma = 0;\n",
    "i = 30;\n",
    "    while (i>= 5)\n",
    "    {\n",
    "        if ((i%3)==0)\n",
    "        {\n",
    "        printf (\"\\t%2d \\n\", i);\n",
    "        soma += i;\n",
    "        }\n",
    "        i -=1;\n",
    "    }\n",
    "    printf (\"\\t soma = %d \\n\", soma);\n",
    "    return 0;\n",
    "}"
   ]
  },
  {
   "cell_type": "markdown",
   "metadata": {},
   "source": [
    "## Estrutura Do...While:\n",
    "\n",
    "O comando $do...while$ é semelhante ao $while$. Sua diferença é que a validação do teste vem depois do corpo da repetição ser executado. Sua estrutura é:\n",
    "\n",
    "    do\n",
    "    corpo da repetição\n",
    "    while (expressão do teste)\n",
    "    \n",
    "Exemplo:"
   ]
  },
  {
   "cell_type": "code",
   "execution_count": 10,
   "metadata": {},
   "outputs": [
    {
     "name": "stdout",
     "output_type": "stream",
     "text": [
      "contador = 0\n",
      "contador = 1\n",
      "contador = 2\n",
      "contador = 3\n",
      "contador = 4\n",
      "contador = 5\n",
      "contador = 6\n",
      "contador = 7\n",
      "contador = 8\n",
      "contador = 9\n",
      "Acabamos de contar!\n"
     ]
    }
   ],
   "source": [
    "#include <stdio.h>\n",
    "\n",
    "int main( )\n",
    "{\n",
    "int contador = 0;\n",
    "    do \n",
    "    {\n",
    "        printf(\"contador = %d\\n\", contador);\n",
    "        contador +=1;\n",
    "    }\n",
    "    while(contador < 10);\n",
    "    printf( \"Acabamos de contar!\\n\");\n",
    "}\n",
    "\n"
   ]
  },
  {
   "cell_type": "code",
   "execution_count": 11,
   "metadata": {},
   "outputs": [
    {
     "name": "stdout",
     "output_type": "stream",
     "text": [
      "20\n",
      "19\n",
      "18\n",
      "17\n",
      "16\n",
      "15\n",
      "14\n",
      "Obrigado.\n"
     ]
    }
   ],
   "source": [
    "#include <stdio.h>\n",
    "\n",
    "int main( )\n",
    "{\n",
    "  \n",
    "  int num;\n",
    "  num = 20;\n",
    "\n",
    "  do\n",
    "  {\n",
    "    printf( \"%d\\n\", num );\n",
    "    num -= 1;\n",
    "  } \n",
    "  while( num % 13 != 0 );\n",
    "  \n",
    "  printf( \"Obrigado.\\n\" );\n",
    "}"
   ]
  }
 ],
 "metadata": {
  "kernelspec": {
   "display_name": "C",
   "language": "c",
   "name": "c"
  },
  "language_info": {
   "file_extension": ".c",
   "mimetype": "text/plain",
   "name": "c"
  }
 },
 "nbformat": 4,
 "nbformat_minor": 2
}
