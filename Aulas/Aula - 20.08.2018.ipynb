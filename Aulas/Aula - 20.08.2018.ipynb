{
 "cells": [
  {
   "cell_type": "markdown",
   "metadata": {},
   "source": [
    "# Aula - 20/08/2018"
   ]
  },
  {
   "cell_type": "markdown",
   "metadata": {},
   "source": [
    "$\\textbf{range}$ é gerador, não ocupa memória: ele sabe onde está e sabe gerar o próximo.  \n",
    "t"
   ]
  },
  {
   "cell_type": "markdown",
   "metadata": {},
   "source": [
    "Tupla com um elemento:"
   ]
  },
  {
   "cell_type": "code",
   "execution_count": 4,
   "metadata": {},
   "outputs": [
    {
     "name": "stdout",
     "output_type": "stream",
     "text": [
      "(1,)\n"
     ]
    }
   ],
   "source": [
    "x = 1,\n",
    "print(x)"
   ]
  },
  {
   "cell_type": "code",
   "execution_count": 5,
   "metadata": {},
   "outputs": [
    {
     "name": "stdout",
     "output_type": "stream",
     "text": [
      "1\n"
     ]
    }
   ],
   "source": [
    "x = (1)\n",
    "print(x)"
   ]
  },
  {
   "cell_type": "code",
   "execution_count": 6,
   "metadata": {},
   "outputs": [],
   "source": [
    "import time"
   ]
  },
  {
   "cell_type": "code",
   "execution_count": 7,
   "metadata": {},
   "outputs": [
    {
     "name": "stdout",
     "output_type": "stream",
     "text": [
      "1.224574\n",
      "1.227527\n",
      "1.229778\n",
      "1.23179\n",
      "1.234175\n",
      "1.236408\n",
      "1.238514\n",
      "1.240407\n",
      "1.242377\n",
      "1.244163\n",
      "1.246319\n",
      "1.247959\n",
      "1.249937\n",
      "1.251807\n",
      "1.253583\n",
      "1.255253\n",
      "1.257217\n",
      "1.258996\n",
      "1.260584\n",
      "1.262498\n",
      "1.264102\n",
      "1.265704\n",
      "1.267485\n",
      "1.269292\n",
      "1.27104\n",
      "1.273146\n",
      "1.274792\n",
      "1.276608\n",
      "1.278435\n",
      "1.280269\n",
      "1.282332\n",
      "1.284415\n",
      "1.286208\n",
      "1.288051\n",
      "1.289797\n",
      "1.291415\n",
      "1.293058\n",
      "1.294871\n",
      "1.296536\n",
      "1.298199\n",
      "1.299834\n",
      "1.301437\n",
      "1.3031\n",
      "1.304982\n",
      "1.306777\n",
      "1.308473\n",
      "1.310272\n",
      "1.311956\n",
      "1.313583\n",
      "1.315412\n",
      "1.317242\n",
      "1.318861\n",
      "1.320781\n",
      "1.322431\n",
      "1.324171\n",
      "1.325802\n",
      "1.327447\n",
      "1.32911\n",
      "1.330804\n",
      "1.332439\n",
      "1.334064\n",
      "1.335862\n",
      "1.337564\n"
     ]
    },
    {
     "ename": "KeyboardInterrupt",
     "evalue": "",
     "output_type": "error",
     "traceback": [
      "\u001b[0;31m---------------------------------------------------------------------------\u001b[0m",
      "\u001b[0;31mKeyboardInterrupt\u001b[0m                         Traceback (most recent call last)",
      "\u001b[0;32m<ipython-input-7-e28bef3835dc>\u001b[0m in \u001b[0;36m<module>\u001b[0;34m()\u001b[0m\n\u001b[1;32m      1\u001b[0m \u001b[0;32mwhile\u001b[0m \u001b[0;32mTrue\u001b[0m\u001b[0;34m:\u001b[0m\u001b[0;34m\u001b[0m\u001b[0m\n\u001b[1;32m      2\u001b[0m     \u001b[0mprint\u001b[0m\u001b[0;34m(\u001b[0m\u001b[0mtime\u001b[0m\u001b[0;34m.\u001b[0m\u001b[0mclock\u001b[0m\u001b[0;34m(\u001b[0m\u001b[0;34m)\u001b[0m\u001b[0;34m)\u001b[0m\u001b[0;34m\u001b[0m\u001b[0m\n\u001b[0;32m----> 3\u001b[0;31m     \u001b[0mtime\u001b[0m\u001b[0;34m.\u001b[0m\u001b[0msleep\u001b[0m\u001b[0;34m(\u001b[0m\u001b[0;36m2\u001b[0m\u001b[0;34m)\u001b[0m\u001b[0;34m\u001b[0m\u001b[0m\n\u001b[0m",
      "\u001b[0;31mKeyboardInterrupt\u001b[0m: "
     ]
    }
   ],
   "source": [
    "while True:\n",
    "    print(time.clock())\n",
    "    time.sleep(2)"
   ]
  },
  {
   "cell_type": "code",
   "execution_count": null,
   "metadata": {},
   "outputs": [],
   "source": []
  }
 ],
 "metadata": {
  "kernelspec": {
   "display_name": "Python 3",
   "language": "python",
   "name": "python3"
  },
  "language_info": {
   "codemirror_mode": {
    "name": "ipython",
    "version": 3
   },
   "file_extension": ".py",
   "mimetype": "text/x-python",
   "name": "python",
   "nbconvert_exporter": "python",
   "pygments_lexer": "ipython3",
   "version": "3.5.2"
  }
 },
 "nbformat": 4,
 "nbformat_minor": 2
}
