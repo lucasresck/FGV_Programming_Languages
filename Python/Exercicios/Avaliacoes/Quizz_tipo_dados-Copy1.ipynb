{
 "cells": [
  {
   "cell_type": "markdown",
   "metadata": {},
   "source": [
    "1 - Quais são as estruturas de dados primitivas mais comuns na linguagem Python? Exemplifique criando variáveis de cada uma destas estruturas."
   ]
  },
  {
   "cell_type": "code",
   "execution_count": 1,
   "metadata": {},
   "outputs": [
    {
     "name": "stdout",
     "output_type": "stream",
     "text": [
      "<class 'int'> <class 'float'> <class 'bool'> <class 'str'> <class 'list'> <class 'set'> <class 'dict'> <class 'tuple'>\n"
     ]
    }
   ],
   "source": [
    "inteiro = 1\n",
    "ponto = 1.5\n",
    "booleano = True\n",
    "string = \"Uma string\"\n",
    "lista = [1, 1, 2, 3, 4]\n",
    "conjunto = {1, 2, 3}\n",
    "dicionário = {'a': 1, 'b': 2}\n",
    "tupla = (1, 2, 3, 4, 5)\n",
    "print(type(inteiro), type(ponto), type(booleano), type(string), type(lista), type(conjunto), type(dicionário),type(tupla))"
   ]
  },
  {
   "cell_type": "markdown",
   "metadata": {},
   "source": [
    "2 - Dê pelo menos 5 exemplos de conversões entre tipos de dados, utilizando as variáveis criadas na questão anterior  "
   ]
  },
  {
   "cell_type": "code",
   "execution_count": 2,
   "metadata": {},
   "outputs": [
    {
     "name": "stdout",
     "output_type": "stream",
     "text": [
      "{1, 2, 3, 4} <class 'set'>\n"
     ]
    }
   ],
   "source": [
    "conjunto2 = set(lista)\n",
    "print(conjunto2, type(conjunto2))"
   ]
  },
  {
   "cell_type": "code",
   "execution_count": 3,
   "metadata": {},
   "outputs": [
    {
     "name": "stdout",
     "output_type": "stream",
     "text": [
      "1.0 <class 'float'>\n"
     ]
    }
   ],
   "source": [
    "ponto2 = float(inteiro)\n",
    "print(ponto2, type(ponto2))"
   ]
  },
  {
   "cell_type": "code",
   "execution_count": 4,
   "metadata": {},
   "outputs": [
    {
     "name": "stdout",
     "output_type": "stream",
     "text": [
      "True <class 'bool'>\n"
     ]
    }
   ],
   "source": [
    "booleano2 = bool(inteiro)\n",
    "print(booleano2, type(booleano2))"
   ]
  },
  {
   "cell_type": "code",
   "execution_count": 5,
   "metadata": {},
   "outputs": [
    {
     "name": "stdout",
     "output_type": "stream",
     "text": [
      "[1, 2, 3, 4, 5] <class 'list'>\n"
     ]
    }
   ],
   "source": [
    "lista2 = list(tupla)\n",
    "print(lista2, type(lista2))"
   ]
  },
  {
   "cell_type": "code",
   "execution_count": 6,
   "metadata": {},
   "outputs": [
    {
     "name": "stdout",
     "output_type": "stream",
     "text": [
      "(1, 1, 2, 3, 4) <class 'tuple'>\n"
     ]
    }
   ],
   "source": [
    "tupla2 = tuple(lista)\n",
    "print(tupla2, type(tupla2))"
   ]
  },
  {
   "cell_type": "markdown",
   "metadata": {},
   "source": [
    "3- Exemplifique o uso de algumas primitivas, de forma isolada ou combinada, para criar as seguintes estruturas de dados:  \n",
    "\n",
    "+ Um registro médico\n",
    "+ Uma matriz de pixels em formato RGB\n",
    "+ Um conjunto de coordenadas geográficas representando a sede da prefeitura e do corpo de bombeiros em 4 cidades diferentes"
   ]
  },
  {
   "cell_type": "markdown",
   "metadata": {
    "collapsed": true
   },
   "source": [
    "Um dicionário com strings pode ser usado para armazenar registros:"
   ]
  },
  {
   "cell_type": "code",
   "execution_count": 7,
   "metadata": {},
   "outputs": [
    {
     "data": {
      "text/plain": [
       "{'altura': 170, 'idade': 18, 'peso': 70}"
      ]
     },
     "execution_count": 7,
     "metadata": {},
     "output_type": "execute_result"
    }
   ],
   "source": [
    "registro_medico = {'peso': 70, 'altura': 170, 'idade': 18}\n",
    "registro_medico"
   ]
  },
  {
   "cell_type": "markdown",
   "metadata": {
    "collapsed": true
   },
   "source": [
    "Uma lista dentro de outra lista, por sua vez, pode ser usada para armazenar dados como uma matriz:"
   ]
  },
  {
   "cell_type": "code",
   "execution_count": 8,
   "metadata": {},
   "outputs": [
    {
     "data": {
      "text/plain": [
       "[[1, 2], [3, 4]]"
      ]
     },
     "execution_count": 8,
     "metadata": {},
     "output_type": "execute_result"
    }
   ],
   "source": [
    "matriz = [[1, 2], [3, 4]]\n",
    "matriz"
   ]
  },
  {
   "cell_type": "markdown",
   "metadata": {},
   "source": [
    "Pode-se utilizar um conjunto de tuplas para representar um conjunto de coordenadas. Abaixo, cadadicionário contém as coordenadas das instituições (prefeitura e corpo de bombeiro) de cada cidade e um dicionário agrupa todos esses dicionários:"
   ]
  },
  {
   "cell_type": "code",
   "execution_count": 9,
   "metadata": {},
   "outputs": [
    {
     "data": {
      "text/plain": [
       "{'cidade1': {'bombeiros': (782, 827), 'prefeitura': (72, 478)},\n",
       " 'cidade2': {'bombeiros': (10, 749), 'prefeitura': (378, 28)},\n",
       " 'cidade3': {'bombeiros': (83, 214), 'prefeitura': (426, 23)},\n",
       " 'cidade4': {'bombeiros': (72, 618), 'prefeitura': (729, 62)}}"
      ]
     },
     "execution_count": 9,
     "metadata": {},
     "output_type": "execute_result"
    }
   ],
   "source": [
    "coordenadas = {'cidade1': {'prefeitura': (72, 478), 'bombeiros': (782, 827)}, 'cidade2': {'prefeitura': (378, 28), 'bombeiros': (10, 749)}, 'cidade3': {'prefeitura': (426, 23), 'bombeiros': (83, 214)}, 'cidade4': {'prefeitura': (729, 62), 'bombeiros': (72, 618)}, }\n",
    "coordenadas"
   ]
  },
  {
   "cell_type": "markdown",
   "metadata": {},
   "source": [
    "4- Exemplifique o acesso aos elementos de informação das estruturas criadas na questão anterior."
   ]
  },
  {
   "cell_type": "markdown",
   "metadata": {
    "collapsed": true
   },
   "source": [
    "Quero acessar a altura do paciente que tem o registro médico, então escrevo entre colchetes a chave que eu busco ('altura'):"
   ]
  },
  {
   "cell_type": "code",
   "execution_count": 10,
   "metadata": {},
   "outputs": [
    {
     "data": {
      "text/plain": [
       "170"
      ]
     },
     "execution_count": 10,
     "metadata": {},
     "output_type": "execute_result"
    }
   ],
   "source": [
    "registro_medico['altura']"
   ]
  },
  {
   "cell_type": "markdown",
   "metadata": {
    "collapsed": true
   },
   "source": [
    "Quero saber a cor do pixel o canto superior direito extremo, ou seja, o pixel na linha 1 e na coluna 2. Acesso ele por matriz[linha - 1][coluna - 1]:"
   ]
  },
  {
   "cell_type": "code",
   "execution_count": 11,
   "metadata": {},
   "outputs": [
    {
     "data": {
      "text/plain": [
       "2"
      ]
     },
     "execution_count": 11,
     "metadata": {},
     "output_type": "execute_result"
    }
   ],
   "source": [
    "matriz[0][1]"
   ]
  },
  {
   "cell_type": "markdown",
   "metadata": {},
   "source": [
    "Agora quero acessar as coordenadas dos bombeiros da cidade 2, então escrevo coordenadas[cidade][instituição]:"
   ]
  },
  {
   "cell_type": "code",
   "execution_count": 12,
   "metadata": {},
   "outputs": [
    {
     "data": {
      "text/plain": [
       "(10, 749)"
      ]
     },
     "execution_count": 12,
     "metadata": {},
     "output_type": "execute_result"
    }
   ],
   "source": [
    "coordenadas['cidade2']['bombeiros']"
   ]
  },
  {
   "cell_type": "markdown",
   "metadata": {},
   "source": [
    "5- Explique o que são, exemplifique, e mostre algumas características de:  \n",
    "\n",
    "+ Tipos mutáveis e tipos imutáveis  \n",
    "+ Tipos \"container\"\n",
    "+ Tipos sequenciais\n"
   ]
  },
  {
   "cell_type": "markdown",
   "metadata": {
    "collapsed": true
   },
   "source": [
    "Tipos mutáveis: uma vez definidas, as variáveis desses tipos podem ser modificadas. Esses tipos contém métodos que alterem a variável. Tipos imutáveis, por sua vez, não têm métodos que alteram suas variáveis. Para alterar o valor da variável, deve-se recriá-la. A lista é um exemplo de tipo mutável, enquanto a tupla é um exemplo de tipo imutável. Para \"modificar\" uma tupla, na verdade é necessário reatribuir o valor da tupla."
   ]
  },
  {
   "cell_type": "markdown",
   "metadata": {
    "collapsed": true
   },
   "source": [
    "Uma variável do tipo sequencial pode conter uma sequência de elementos, como a lista, por exemplo: lista = [1, 2, 3, 4]. Outro exemplo é a string: string = 'string'. Porém, as sequências devem ter ordem definida pelo usuário."
   ]
  },
  {
   "cell_type": "markdown",
   "metadata": {},
   "source": [
    "Uma variável do tipo \"container\" é aquela que contém outros elementos, como as listas e os conjuntos, por exemplo. Porém, não necessariamente precisa ter ordem."
   ]
  },
  {
   "cell_type": "markdown",
   "metadata": {},
   "source": [
    "6- Exemplifique chamadas de métodos em variáveis associadas a tipos de dados que:  \n",
    "+ Não modifiquem a variável e não retornem valores à chamada do método \n",
    "+ Modifiquem a variável mas não retornem valores à chamada do método\n",
    "+ Não modifiquem a variável mas retornem valores à chamada do método\n",
    "+ Modifiquem a variável e retornem valores à chamada do método  "
   ]
  },
  {
   "cell_type": "code",
   "execution_count": 13,
   "metadata": {},
   "outputs": [
    {
     "name": "stdout",
     "output_type": "stream",
     "text": [
      "a\n",
      "None a\n"
     ]
    }
   ],
   "source": [
    "b = 'a'\n",
    "a = print(b)\n",
    "print(a, b)"
   ]
  },
  {
   "cell_type": "code",
   "execution_count": 14,
   "metadata": {},
   "outputs": [],
   "source": [
    "lista = [1, 2]\n",
    "lista.append(3)"
   ]
  },
  {
   "cell_type": "code",
   "execution_count": 15,
   "metadata": {},
   "outputs": [
    {
     "data": {
      "text/plain": [
       "'STRING'"
      ]
     },
     "execution_count": 15,
     "metadata": {},
     "output_type": "execute_result"
    }
   ],
   "source": [
    "string = 'string'\n",
    "string.upper()"
   ]
  },
  {
   "cell_type": "code",
   "execution_count": 16,
   "metadata": {},
   "outputs": [
    {
     "name": "stdout",
     "output_type": "stream",
     "text": [
      "3 [1, 2]\n"
     ]
    }
   ],
   "source": [
    "a = lista.pop()\n",
    "print(a, lista)"
   ]
  },
  {
   "cell_type": "markdown",
   "metadata": {},
   "source": [
    "7- Exemplifique o uso de métodos para:  \n",
    "+ Testar se uma string pode ser convertida para um inteiro  \n",
    "+ Testar se um conjunto é subconjunto de outro\n",
    "+ Concatenar duas listas\n",
    "+ Contar as ocorrências de um elemento em uma lista"
   ]
  },
  {
   "cell_type": "code",
   "execution_count": 17,
   "metadata": {},
   "outputs": [
    {
     "name": "stdout",
     "output_type": "stream",
     "text": [
      "False\n"
     ]
    },
    {
     "data": {
      "text/plain": [
       "False"
      ]
     },
     "execution_count": 17,
     "metadata": {},
     "output_type": "execute_result"
    }
   ],
   "source": [
    "string = 'string'\n",
    "booleano = string.isnumeric()\n",
    "print(booleano)\n",
    "string2 = '123'\n",
    "booleano"
   ]
  },
  {
   "cell_type": "code",
   "execution_count": 18,
   "metadata": {},
   "outputs": [
    {
     "data": {
      "text/plain": [
       "True"
      ]
     },
     "execution_count": 18,
     "metadata": {},
     "output_type": "execute_result"
    }
   ],
   "source": [
    "conjunto = {1, 2, 3}\n",
    "conjunto2 = {1}\n",
    "conjunto2.issubset(conjunto)"
   ]
  },
  {
   "cell_type": "code",
   "execution_count": 19,
   "metadata": {},
   "outputs": [
    {
     "name": "stdout",
     "output_type": "stream",
     "text": [
      "[1, 2, 3, 4]\n"
     ]
    }
   ],
   "source": [
    "lista1 = [1, 2]\n",
    "lista2 = [3, 4]\n",
    "lista1.extend(lista2)\n",
    "print(lista1)"
   ]
  },
  {
   "cell_type": "code",
   "execution_count": 20,
   "metadata": {},
   "outputs": [
    {
     "data": {
      "text/plain": [
       "1"
      ]
     },
     "execution_count": 20,
     "metadata": {},
     "output_type": "execute_result"
    }
   ],
   "source": [
    "lista1.count(1)"
   ]
  },
  {
   "cell_type": "markdown",
   "metadata": {},
   "source": [
    "Deescreva, em linhas gerais, o que é uma linguagem de programação, e para que serve.  "
   ]
  },
  {
   "cell_type": "markdown",
   "metadata": {
    "collapsed": true
   },
   "source": [
    "Uma linguagem de programação é uma maneira de se criar código que o computador entende, para que ele execute funções pré-determinadas."
   ]
  },
  {
   "cell_type": "markdown",
   "metadata": {},
   "source": [
    "Feedback: o que você está achando do curso até agora?  "
   ]
  },
  {
   "cell_type": "markdown",
   "metadata": {},
   "source": [
    "Estou adorando. A parte de git está um pouco confusa, mas é incrível aprender Python."
   ]
  },
  {
   "cell_type": "markdown",
   "metadata": {},
   "source": []
  },
  {
   "cell_type": "markdown",
   "metadata": {},
   "source": [
    "$a^2$"
   ]
  }
 ],
 "metadata": {
  "kernelspec": {
   "display_name": "Python 3",
   "language": "python",
   "name": "python3"
  },
  "language_info": {
   "codemirror_mode": {
    "name": "ipython",
    "version": 3
   },
   "file_extension": ".py",
   "mimetype": "text/x-python",
   "name": "python",
   "nbconvert_exporter": "python",
   "pygments_lexer": "ipython3",
   "version": "3.5.2"
  }
 },
 "nbformat": 4,
 "nbformat_minor": 2
}
