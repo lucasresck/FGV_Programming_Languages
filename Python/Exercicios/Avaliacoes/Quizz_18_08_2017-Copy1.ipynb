{
 "cells": [
  {
   "cell_type": "markdown",
   "metadata": {},
   "source": [
    "1 - Dada a lista:"
   ]
  },
  {
   "cell_type": "code",
   "execution_count": 1,
   "metadata": {},
   "outputs": [],
   "source": [
    "lista = [1,2,3,'4',5,6.3,7.4 + 2j,\"123\",[1,2,3], 93, \"98\"]"
   ]
  },
  {
   "cell_type": "markdown",
   "metadata": {},
   "source": [
    "Crie um código para imprimir o antecessor e o sucessor de cada elemento de uma lista:\n",
    "+ Caso este elemento seja inteiro, imprimir o valor;  \n",
    "+ Caso seja uma string, imprimir o inteiro correspondente;  \n",
    "+ Caso seja um real, imprima a parte inteira;\n",
    "+ Caso seja um imaginário, imprima a parte inteira e real;\n",
    "+ Caso seja uma sequência, aplique as regras acima para cada elemento da sequência.  "
   ]
  },
  {
   "cell_type": "code",
   "execution_count": 3,
   "metadata": {},
   "outputs": [
    {
     "name": "stdout",
     "output_type": "stream",
     "text": [
      "1\n",
      "2\n",
      "3\n",
      "4\n",
      "5\n",
      "6\n",
      "7\n",
      "123\n",
      "1\n",
      "2\n",
      "3\n",
      "93\n",
      "98\n"
     ]
    }
   ],
   "source": [
    "for elemento in range(0, 11):\n",
    "    if type(lista[elemento]) == int:\n",
    "        print(lista[elemento])\n",
    "    elif type(lista[elemento]) == str:\n",
    "        print(int(lista[elemento]))\n",
    "    elif type(lista[elemento]) == float:\n",
    "        print(int(lista[elemento]))\n",
    "    elif type(lista[elemento]) == complex:\n",
    "        print(int(lista[elemento].real))\n",
    "    else:\n",
    "        for elemento2 in range(0, len(lista[elemento])):\n",
    "            if type(lista[elemento][elemento2]) == int:\n",
    "                print(lista[elemento][elemento2])\n",
    "            elif type(lista[elemento][elemento2]) == str:\n",
    "                print(int(lista[elemento][elemento2]))\n",
    "            elif type(lista[elemento][elemento2]) == float:\n",
    "                print(int(lista[elemento][elemento2]))\n",
    "            else:\n",
    "                print(int(lista[elemento][elemento2].real))"
   ]
  },
  {
   "cell_type": "code",
   "execution_count": 6,
   "metadata": {},
   "outputs": [],
   "source": [
    "def Print(elemento):\n",
    "    if type(elemento) == int:\n",
    "        print(elemento)\n",
    "    elif type(elemento) == str:\n",
    "        print(int(elemento))\n",
    "    elif type(elemento) == float:\n",
    "        print(int(elemento))\n",
    "    elif type(elemento) == complex:\n",
    "        print(int(elemento.real))\n",
    "    else:\n",
    "        AntecessorESucessor(elemento)\n",
    "            "
   ]
  },
  {
   "cell_type": "code",
   "execution_count": 7,
   "metadata": {},
   "outputs": [],
   "source": [
    "def AntecessorESucessor(lista):\n",
    "    for j in range(len(lista) - 1):\n",
    "        Print(lista[j - 1])\n",
    "        Print(lista[j + 1])\n",
    "    Print(lista[-2])\n",
    "    Print(lista[0])"
   ]
  },
  {
   "cell_type": "code",
   "execution_count": 8,
   "metadata": {},
   "outputs": [
    {
     "name": "stdout",
     "output_type": "stream",
     "text": [
      "98\n",
      "2\n",
      "1\n",
      "3\n",
      "2\n",
      "4\n",
      "3\n",
      "5\n",
      "4\n",
      "6\n",
      "5\n",
      "7\n",
      "6\n",
      "123\n",
      "7\n",
      "3\n",
      "2\n",
      "1\n",
      "3\n",
      "2\n",
      "1\n",
      "123\n",
      "93\n",
      "3\n",
      "2\n",
      "1\n",
      "3\n",
      "2\n",
      "1\n",
      "98\n",
      "93\n",
      "1\n"
     ]
    }
   ],
   "source": [
    "AntecessorESucessor(lista)"
   ]
  },
  {
   "cell_type": "markdown",
   "metadata": {},
   "source": [
    "\n",
    "2 - Os fatores primos de 13195 são 5, 7, 13 e 29. Qual o maior fator primo de 600851475143?  \n",
    "https://projecteuler.net/problem=3  "
   ]
  },
  {
   "cell_type": "code",
   "execution_count": 12,
   "metadata": {},
   "outputs": [],
   "source": [
    "import time"
   ]
  },
  {
   "cell_type": "code",
   "execution_count": 20,
   "metadata": {
    "scrolled": true
   },
   "outputs": [
    {
     "name": "stdout",
     "output_type": "stream",
     "text": [
      "[71, 839, 1471, 6857]\n",
      "0.001950979232788086\n"
     ]
    }
   ],
   "source": [
    "#A ideia e ir subindo ate encontrar um primo e dividir. Depois, fazer o mesmo, ate fatorar todo o numero.\n",
    "time0 = time.time()\n",
    "i = 3\n",
    "n = 600851475143\n",
    "fatores = []\n",
    "while i <= n:\n",
    "    if n % i == 0:\n",
    "        fatores.append(i)\n",
    "        n = int(n / i)\n",
    "    else:\n",
    "        i += 2\n",
    "print(fatores)\n",
    "print(time.time() - time0)"
   ]
  },
  {
   "cell_type": "markdown",
   "metadata": {},
   "source": [
    "3- Crie um programa que imprima os números de 1 a 100, mas nos múltiplos de 3 imprima “Fizz” em vez do  número e nos múltiplos de 5 imprima “Buzz”. Para os números que são múltiplos de tanto 3 como 5, imprima “FizzBuzz”.  "
   ]
  },
  {
   "cell_type": "code",
   "execution_count": null,
   "metadata": {},
   "outputs": [],
   "source": [
    "for i in range(1, 101):\n",
    "    if i % 3 == 0 and i % 5 != 0:\n",
    "        print('Fizz')\n",
    "    elif i % 3 != 0 and i % 5 == 0:\n",
    "        print('Buzz')\n",
    "    elif i % 3 == 0 and i % 5 == 0:\n",
    "        print('FizzBuzz')\n",
    "    else:\n",
    "        print(i)"
   ]
  },
  {
   "cell_type": "markdown",
   "metadata": {},
   "source": [
    "4- Usando a biblioteca \"random\", crie um programa para calcular a média da soma de dois dados de 6 faces (D6) em 10000 lançamentos."
   ]
  },
  {
   "cell_type": "code",
   "execution_count": null,
   "metadata": {},
   "outputs": [],
   "source": [
    "import random"
   ]
  },
  {
   "cell_type": "code",
   "execution_count": null,
   "metadata": {},
   "outputs": [],
   "source": [
    "soma = 0\n",
    "for lancamento in range(1, 10001):\n",
    "    dado1 = random.randint(1, 6)\n",
    "    dado2 = random.randint(1, 6)\n",
    "    soma = soma + dado1 + dado2\n",
    "media = soma / 10000\n",
    "print(media)"
   ]
  }
 ],
 "metadata": {
  "kernelspec": {
   "display_name": "Python 3",
   "language": "python",
   "name": "python3"
  },
  "language_info": {
   "codemirror_mode": {
    "name": "ipython",
    "version": 3
   },
   "file_extension": ".py",
   "mimetype": "text/x-python",
   "name": "python",
   "nbconvert_exporter": "python",
   "pygments_lexer": "ipython3",
   "version": "3.5.2"
  }
 },
 "nbformat": 4,
 "nbformat_minor": 2
}
