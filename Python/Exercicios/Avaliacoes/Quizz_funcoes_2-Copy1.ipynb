{
 "cells": [
  {
   "cell_type": "markdown",
   "metadata": {},
   "source": [
    "1 - Dadas uma lista qualquer, como a do exemplo abaixo:"
   ]
  },
  {
   "cell_type": "code",
   "execution_count": 39,
   "metadata": {},
   "outputs": [],
   "source": [
    "lista = [1,2,3,'4',5,6.3,7.4 + 2j,\"123\",[1,2,3], 93, \"98\", (1,2,3,'4')]"
   ]
  },
  {
   "cell_type": "code",
   "execution_count": 35,
   "metadata": {},
   "outputs": [],
   "source": [
    "lista = [1, [4, 5, 6], 3]"
   ]
  },
  {
   "cell_type": "code",
   "execution_count": 36,
   "metadata": {},
   "outputs": [
    {
     "data": {
      "text/plain": [
       "1"
      ]
     },
     "execution_count": 36,
     "metadata": {},
     "output_type": "execute_result"
    }
   ],
   "source": [
    "4\n",
    "2\n",
    "1\n",
    "3\n",
    "2\n",
    "4\n",
    "3\n",
    "1\n",
    "2\n",
    "1\n",
    "3\n",
    "\n",
    "\n",
    "4\n",
    "2\n",
    "1\n",
    "3\n",
    "2\n",
    "4\n",
    "3\n",
    "1\n",
    "2\n",
    "1\n",
    "3"
   ]
  },
  {
   "cell_type": "markdown",
   "metadata": {},
   "source": [
    "Crie uma função recursiva para imprimir o antecessor e o sucessor de cada elemento de uma lista:\n",
    "+ Caso este elemento seja inteiro, imprimir o valor;  \n",
    "+ Caso seja uma string, imprimir o inteiro correspondente;  \n",
    "+ Caso seja um real, imprima a parte inteira;\n",
    "+ Caso seja um imaginário, imprima a parte inteira e real;\n",
    "+ Caso seja uma sequência, aplique as regras acima para cada elemento da sequência.  "
   ]
  },
  {
   "cell_type": "code",
   "execution_count": 37,
   "metadata": {},
   "outputs": [],
   "source": [
    "def printt(element):\n",
    "    if type(element) == int:\n",
    "        print(element)\n",
    "    elif type(element) == str:\n",
    "        print(int(element))\n",
    "    elif type(element) == float:\n",
    "        print(int(element))\n",
    "    elif type(element) == complex:\n",
    "        print(int(element.real))\n",
    "    else:\n",
    "        se(element)    \n",
    "\n",
    "def se(listt):\n",
    "    for element in range(0, len(listt) - 1):\n",
    "        printt(listt[element - 1])\n",
    "        printt(listt[element + 1])\n",
    "    printt(listt[len(listt) - 2])\n",
    "    printt(listt[0])"
   ]
  },
  {
   "cell_type": "code",
   "execution_count": 40,
   "metadata": {},
   "outputs": [
    {
     "name": "stdout",
     "output_type": "stream",
     "text": [
      "4\n",
      "2\n",
      "1\n",
      "3\n",
      "2\n",
      "4\n",
      "3\n",
      "1\n",
      "2\n",
      "1\n",
      "3\n",
      "2\n",
      "4\n",
      "3\n",
      "5\n",
      "4\n",
      "6\n",
      "5\n",
      "7\n",
      "6\n",
      "123\n",
      "7\n",
      "3\n",
      "2\n",
      "1\n",
      "3\n",
      "2\n",
      "1\n",
      "123\n",
      "93\n",
      "3\n",
      "2\n",
      "1\n",
      "3\n",
      "2\n",
      "1\n",
      "98\n",
      "93\n",
      "4\n",
      "2\n",
      "1\n",
      "3\n",
      "2\n",
      "4\n",
      "3\n",
      "1\n",
      "98\n",
      "1\n"
     ]
    }
   ],
   "source": [
    "se(lista)"
   ]
  },
  {
   "cell_type": "markdown",
   "metadata": {},
   "source": [
    "2 - Crie uma função, ou conjunto de funções, para exibir por extenso o valor de qualquer número inteiro até 1000.  \n",
    "Exemplo:  \n",
    "\n",
    "    print(imprime_extenso(234))  \n",
    "    > 'duzentos e trinta e quatro'  "
   ]
  },
  {
   "cell_type": "code",
   "execution_count": 77,
   "metadata": {},
   "outputs": [],
   "source": [
    "def imprime_extenso(n):\n",
    "    n = str(n)[::-1]\n",
    "    for digit in range(0, len(n)):\n",
    "        if digit == 0:\n",
    "            if int(n[digit]) == 0:\n",
    "                ext = \"zero\"\n",
    "            elif int(n[digit]) == 1:\n",
    "                ext = \"um\"\n",
    "            elif int(n[digit]) == 2:\n",
    "                ext = \"dois\"\n",
    "            elif int(n[digit]) == 3:\n",
    "                ext = \"três\"\n",
    "            elif int(n[digit]) == 4:\n",
    "                ext = \"quatro\"\n",
    "            elif int(n[digit]) == 5:\n",
    "                ext = \"cinco\"\n",
    "            elif int(n[digit]) == 6:\n",
    "                ext = \"seis\"\n",
    "            elif int(n[digit]) == 7:\n",
    "                ext = \"sete\"\n",
    "            elif int(n[digit]) == 8:\n",
    "                ext = \"oito\"\n",
    "            elif int(n[digit]) == 9:\n",
    "                ext = \"nove\"\n",
    "        elif digit == 1:\n",
    "            if int(n[digit]) == 1:\n",
    "                if int(n[digit - 1]) == 0:\n",
    "                    ext = \"dez\"\n",
    "                elif int(n[digit - 1]) == 1:\n",
    "                    ext = \"onze\"\n",
    "                elif int(n[digit - 1]) == 2:\n",
    "                    ext = \"doze\"\n",
    "                elif int(n[digit - 1]) == 3:\n",
    "                    ext = \"treze\"\n",
    "                elif int(n[digit - 1]) == 4:\n",
    "                    ext = \"quatorze\"\n",
    "                elif int(n[digit - 1]) == 5:\n",
    "                    ext = \"quinze\"\n",
    "                elif int(n[digit - 1]) == 6:\n",
    "                    ext = \"dezesseis\"\n",
    "                elif int(n[digit - 1]) == 7:\n",
    "                    ext = \"dezessete\"\n",
    "                elif int(n[digit - 1]) == 8:\n",
    "                    ext = \"dezoito\"\n",
    "                elif int(n[digit - 1]) == 9:\n",
    "                    ext = \"dezenove\"\n",
    "            elif int(n[digit]) == 2:\n",
    "                ext = \"vinte e \" + ext\n",
    "            elif int(n[digit]) == 3:\n",
    "                ext = \"trinta e \" + ext\n",
    "            elif int(n[digit]) == 4:\n",
    "                ext = \"quarenta e \" + ext\n",
    "            elif int(n[digit]) == 5:\n",
    "                ext = \"cinquenta e \" + ext\n",
    "            elif int(n[digit]) == 6:\n",
    "                ext = \"sessenta e \" + ext\n",
    "            elif int(n[digit]) == 7:\n",
    "                ext = \"setenta e \" + ext\n",
    "            elif int(n[digit]) == 8:\n",
    "                ext = \"oitenta e \" + ext\n",
    "            elif int(n[digit]) == 9:\n",
    "                ext = \"noventa e \" + ext\n",
    "            if 'e zero' in ext:\n",
    "                ext = ext.split()[0]\n",
    "        elif digit == 2:\n",
    "            if int(n[digit]) == 0:\n",
    "                ext = \"mil\"\n",
    "            elif int(n[digit]) == 1:\n",
    "                ext = \"cento e \" + ext\n",
    "            elif int(n[digit]) == 2:\n",
    "                ext = \"duzentos e \" + ext\n",
    "            elif int(n[digit]) == 3:\n",
    "                ext = \"trezentos e \" + ext\n",
    "            elif int(n[digit]) == 4:\n",
    "                ext = \"quatrocentos e \" + ext\n",
    "            elif int(n[digit]) == 5:\n",
    "                ext = \"quizentos e \" + ext\n",
    "            elif int(n[digit]) == 6:\n",
    "                ext = \"seiscentos e \" + ext\n",
    "            elif int(n[digit]) == 7:\n",
    "                ext = \"setecentos e \" + ext\n",
    "            elif int(n[digit]) == 8:\n",
    "                ext = \"oitocentos e \" + ext\n",
    "            elif int(n[digit]) == 9:\n",
    "                ext = \"novecentos e \" + ext\n",
    "    return ext"
   ]
  },
  {
   "cell_type": "code",
   "execution_count": 78,
   "metadata": {},
   "outputs": [
    {
     "name": "stdout",
     "output_type": "stream",
     "text": [
      "duzentos e trinta e quatro\n"
     ]
    }
   ],
   "source": [
    "print(imprime_extenso(234))"
   ]
  },
  {
   "cell_type": "markdown",
   "metadata": {},
   "source": [
    "3- Em alguns lugares é comum lembrar um número do telefone associando seus dígitos a letras. Dessa maneira a expressão MY LOVE significa 69 5683. Claro que existem alguns problemas, uma vez que alguns números de telefone não formam uma palavra ou uma frase e os dígitos 1 e 0 não estão associados a nenhuma letra.  \n",
    "\n",
    "Sua tarefa é ler uma expressão e encontrar o número de telefone correspondente baseado na tabela abaixo. Uma expressão é composta por letras maiúsculas (A-Z), hifens (-) e os números 1 e 0.  \n",
    "\n",
    "Letras  ->  Número  \n",
    "ABC    ->  2   \n",
    "DEF    ->  3   \n",
    "GHI    ->  4   \n",
    "JKL    ->  5   \n",
    "MNO    ->  6   \n",
    "PQRS    ->  7   \n",
    "TUV    ->  8   \n",
    "WXYZ   ->  9   \n",
    "\n",
    "Entrada  \n",
    "\n",
    "A entrada consiste de um conjunto de expressões. Cada expressão está sozinha em uma linha e possui C caracteres, onde 1 ≤ C ≤ 30. A entrada é terminada por fim de arquivo (EOF).  \n",
    "\n",
    "Saída  \n",
    "\n",
    "Para cada expressão você deve imprimir o número de telefone correspondente.  \n",
    "\n",
    "Exemplo de entrada:  \n",
    "\n",
    "1-HOME-SWEET-HOME  \n",
    "MY-MISERABLE-JOB  \n",
    "\n",
    "Saída correspondente:\n",
    "\n",
    "1-4663-79338-4663  \n",
    "69-647372253-562  "
   ]
  },
  {
   "cell_type": "code",
   "execution_count": 28,
   "metadata": {},
   "outputs": [
    {
     "name": "stdout",
     "output_type": "stream",
     "text": [
      "MY-MISERABLE-JOB  \n",
      "69-647372253-562  \n"
     ]
    }
   ],
   "source": [
    "text = input()\n",
    "message = \"\"\n",
    "for char in text:\n",
    "    if char == \"A\" or char == \"B\" or char == \"C\":\n",
    "        message = message + \"2\"\n",
    "    elif char == \"D\" or char == \"E\" or char == \"F\":\n",
    "        message = message + \"3\"\n",
    "    elif char == \"G\" or char == \"H\" or char == \"I\":\n",
    "        message = message + \"4\"\n",
    "    elif char == \"J\" or char == \"K\" or char == \"L\":\n",
    "        message = message + \"5\"\n",
    "    elif char == \"M\" or char == \"N\" or char == \"O\":\n",
    "        message = message + \"6\"\n",
    "    elif char == \"P\" or char == \"Q\" or char == \"R\" or char == \"S\":\n",
    "        message = message + \"7\"\n",
    "    elif char == \"T\" or char == \"U\" or char == \"V\":\n",
    "        message = message + \"8\"\n",
    "    elif char == \"W\" or char == \"X\" or char == \"Y\" or char == \"Z\":\n",
    "        message = message + \"9\"\n",
    "    else:\n",
    "        message = message + char\n",
    "print(message)"
   ]
  },
  {
   "cell_type": "markdown",
   "metadata": {},
   "source": [
    "4- Dada um texto em formato string, encontre todas as palavras pertencentes a esta string que contenham uma determinada letra, passada como parâmetro. "
   ]
  },
  {
   "cell_type": "code",
   "execution_count": 13,
   "metadata": {},
   "outputs": [],
   "source": [
    "import string\n",
    "\n",
    "def find(text, letter):\n",
    "    text = text.split()\n",
    "    for word in text:\n",
    "        if letter in word.lower():\n",
    "            print(word.strip(string.punctuation))"
   ]
  },
  {
   "cell_type": "code",
   "execution_count": 15,
   "metadata": {},
   "outputs": [
    {
     "name": "stdout",
     "output_type": "stream",
     "text": [
      "Eu\n",
      "estou\n",
      "aqui\n"
     ]
    }
   ],
   "source": [
    "find(\"Eu estou aqui\", \"u\")"
   ]
  },
  {
   "cell_type": "code",
   "execution_count": null,
   "metadata": {},
   "outputs": [],
   "source": []
  }
 ],
 "metadata": {
  "kernelspec": {
   "display_name": "Python 3",
   "language": "python",
   "name": "python3"
  },
  "language_info": {
   "codemirror_mode": {
    "name": "ipython",
    "version": 3
   },
   "file_extension": ".py",
   "mimetype": "text/x-python",
   "name": "python",
   "nbconvert_exporter": "python",
   "pygments_lexer": "ipython3",
   "version": "3.5.2"
  }
 },
 "nbformat": 4,
 "nbformat_minor": 2
}
