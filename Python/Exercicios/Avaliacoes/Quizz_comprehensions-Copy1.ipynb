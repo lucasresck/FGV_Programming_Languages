{
 "cells": [
  {
   "cell_type": "markdown",
   "metadata": {},
   "source": [
    "1 - Dada a string abaixo:"
   ]
  },
  {
   "cell_type": "code",
   "execution_count": 75,
   "metadata": {},
   "outputs": [],
   "source": [
    "jgr = 'Só se pode viver perto de outro, e conhecer outra pessoa, \\\n",
    "sem perigo de ódio, se a gente tem amor. Qualquer amor já é um pouquinho \\\n",
    "de saúde, um descanso na loucura.'"
   ]
  },
  {
   "cell_type": "markdown",
   "metadata": {},
   "source": [
    "Use uma list comprehension para criar uma lista de tuplas na forma:\n",
    "(palavra em maiúscula, palavra em minúscula, tamanho da palavra)"
   ]
  },
  {
   "cell_type": "code",
   "execution_count": 76,
   "metadata": {},
   "outputs": [
    {
     "name": "stdout",
     "output_type": "stream",
     "text": [
      "[('SÓ', 'só', 2), ('SE', 'se', 2), ('PODE', 'pode', 4), ('VIVER', 'viver', 5), ('PERTO', 'perto', 5), ('DE', 'de', 2), ('OUTRO', 'outro', 5), ('E', 'e', 1), ('CONHECER', 'conhecer', 8), ('OUTRA', 'outra', 5), ('PESSOA', 'pessoa', 6), ('SEM', 'sem', 3), ('PERIGO', 'perigo', 6), ('DE', 'de', 2), ('ÓDIO', 'ódio', 4), ('SE', 'se', 2), ('A', 'a', 1), ('GENTE', 'gente', 5), ('TEM', 'tem', 3), ('AMOR', 'amor', 4), ('QUALQUER', 'qualquer', 8), ('AMOR', 'amor', 4), ('JÁ', 'já', 2), ('É', 'é', 1), ('UM', 'um', 2), ('POUQUINHO', 'pouquinho', 9), ('DE', 'de', 2), ('SAÚDE', 'saúde', 5), ('UM', 'um', 2), ('DESCANSO', 'descanso', 8), ('NA', 'na', 2), ('LOUCURA', 'loucura', 7)]\n"
     ]
    }
   ],
   "source": [
    "import string\n",
    "List = [(word.upper(), word.lower(), len(word)) for word in map(lambda word: word.strip(string.punctuation),jgr.split())]\n",
    "print(List)"
   ]
  },
  {
   "cell_type": "markdown",
   "metadata": {},
   "source": [
    "2 - Extraia, do texto abaixo, um dicionário de frequências de palavras na forma {palavra: frequência}. Limpe as palavras no quanto for possível."
   ]
  },
  {
   "cell_type": "code",
   "execution_count": 77,
   "metadata": {},
   "outputs": [],
   "source": [
    "texto = '''\n",
    "Cansaço\n",
    "O que há em mim é sobretudo cansaço —\n",
    "Não disto nem daquilo,\n",
    "Nem sequer de tudo ou de nada:\n",
    "Cansaço assim mesmo, ele mesmo,\n",
    "Cansaço.\n",
    "\n",
    "A subtileza das sensações inúteis,\n",
    "As paixões violentas por coisa nenhuma,\n",
    "Os amores intensos por o suposto em alguém,\n",
    "Essas coisas todas —\n",
    "Essas e o que falta nelas eternamente —;\n",
    "Tudo isso faz um cansaço,\n",
    "Este cansaço,\n",
    "Cansaço. \n",
    "\n",
    "'''"
   ]
  },
  {
   "cell_type": "code",
   "execution_count": 78,
   "metadata": {},
   "outputs": [
    {
     "name": "stdout",
     "output_type": "stream",
     "text": [
      "{'as': 1, 'isso': 1, 'violentas': 1, 'eternamente': 1, 'nelas': 1, 'de': 2, 'sequer': 1, 'o': 3, 'ou': 1, 'sobretudo': 1, 'essas': 2, 'disto': 1, 'mim': 1, 'inúteis': 1, 'das': 1, 'um': 1, 'os': 1, 'em': 2, 'ele': 1, 'todas': 1, 'cansaço': 7, 'tudo': 2, 'paixões': 1, 'subtileza': 1, 'este': 1, 'nada': 1, 'e': 1, 'coisa': 1, 'a': 1, 'há': 1, 'faz': 1, '—': 3, 'não': 1, 'suposto': 1, 'falta': 1, 'coisas': 1, 'daquilo': 1, 'mesmo': 2, 'sensações': 1, 'é': 1, 'alguém': 1, 'assim': 1, 'nem': 2, 'que': 2, 'intensos': 1, 'por': 2, 'amores': 1, 'nenhuma': 1}\n"
     ]
    }
   ],
   "source": [
    "words = list(map(lambda word: word.strip(string.punctuation).lower(), texto.split()))\n",
    "frequencys = {word: words.count(word) for word in words}\n",
    "print(frequencys)"
   ]
  },
  {
   "cell_type": "markdown",
   "metadata": {},
   "source": [
    "3- Dadas as características do Calendário Gregoriano:  \n",
    "\n",
    " + Janeiro, Março, Maio, Julho, Agosto, Outubro e Dezembro têm trinta e um dias;\n",
    " + Abril, Junho, Setembro e Novembro têm trinta dias;\n",
    " + Fevereiro tem 28 dias, exceto em anos bissextos, quando tem 29.\n",
    " + Anos bissextos ocorrem quando o ano for divisível por 4, mas não quando for divisível por 100, exceto quando for divisível também por 400.\n",
    " \n",
    " + 1o de Janeiro de 1900 caiu em uma segunda-feira.\n",
    "\n",
    "Responda: Quantos sábados cairam no dia primeiro do mês durante o século XX? (1o de Janeiro de 1901 até 31 Dezembro de 2000)?\n"
   ]
  },
  {
   "cell_type": "markdown",
   "metadata": {
    "collapsed": true
   },
   "source": [
    "O primeiro sábado caiu no dia 6."
   ]
  },
  {
   "cell_type": "code",
   "execution_count": 79,
   "metadata": {},
   "outputs": [
    {
     "name": "stdout",
     "output_type": "stream",
     "text": [
      "171\n"
     ]
    }
   ],
   "source": [
    "dia = 1\n",
    "sabados = 0\n",
    "for ano in range(1901, 2001):\n",
    "    for mes in range(1, 13):\n",
    "        if (dia + 2) % 7 == 0:\n",
    "            sabados += 1\n",
    "        if mes == 1 or mes == 3 or mes == 5 or mes == 7 or mes == 8 or mes == 10 or mes == 12:\n",
    "            dia += 31\n",
    "        elif mes == 2 and ano % 4 == 0: #Se é bissexto\n",
    "            dia += 29\n",
    "        elif mes == 2:\n",
    "            dia += 28\n",
    "        else:\n",
    "            dia += 30\n",
    "print(sabados)"
   ]
  },
  {
   "cell_type": "markdown",
   "metadata": {},
   "source": [
    "4- Procure gerar um número (pseudo-)aleatório entre 0 e 9 de forma criativa, usando funções geradoras e o módulo time. \n",
    "Não utilize o módulo random."
   ]
  },
  {
   "cell_type": "code",
   "execution_count": 80,
   "metadata": {},
   "outputs": [],
   "source": [
    "## exemplo para inspirar vocês. Há que se verificar se os números gerados parecem ser aleatórios.\n",
    "import time\n",
    "\n",
    "def numero_aleatorio():\n",
    "    x = time.time()\n",
    "    while True:\n",
    "        num = time.time() - x\n",
    "        #print(num)\n",
    "        num = [n for n in str(num) if n.isdigit()]\n",
    "        num = num[6]\n",
    "        yield int(num)\n",
    "\n",
    "gen = numero_aleatorio()"
   ]
  },
  {
   "cell_type": "code",
   "execution_count": 81,
   "metadata": {},
   "outputs": [
    {
     "name": "stdout",
     "output_type": "stream",
     "text": [
      "8\n"
     ]
    }
   ],
   "source": [
    "print(next(gen))"
   ]
  },
  {
   "cell_type": "code",
   "execution_count": 135,
   "metadata": {},
   "outputs": [],
   "source": [
    "import time\n",
    "\n",
    "def Random():\n",
    "    time0 = time.time()\n",
    "    while True:\n",
    "        number = str(time.time() - time0)[-1::-1][1]\n",
    "        yield int(number)\n",
    "        \n",
    "Random = Random()"
   ]
  },
  {
   "cell_type": "code",
   "execution_count": 136,
   "metadata": {},
   "outputs": [
    {
     "data": {
      "text/plain": [
       "0"
      ]
     },
     "execution_count": 136,
     "metadata": {},
     "output_type": "execute_result"
    }
   ],
   "source": [
    "next(Random)\n"
   ]
  },
  {
   "cell_type": "code",
   "execution_count": 154,
   "metadata": {},
   "outputs": [
    {
     "data": {
      "text/plain": [
       "4.486058"
      ]
     },
     "execution_count": 154,
     "metadata": {},
     "output_type": "execute_result"
    }
   ],
   "source": [
    "Sum = 0\n",
    "for i in range(1000000):\n",
    "    Sum += next(Random)\n",
    "Sum / 1000000"
   ]
  },
  {
   "cell_type": "code",
   "execution_count": null,
   "metadata": {},
   "outputs": [],
   "source": []
  }
 ],
 "metadata": {
  "kernelspec": {
   "display_name": "Python 3",
   "language": "python",
   "name": "python3"
  },
  "language_info": {
   "codemirror_mode": {
    "name": "ipython",
    "version": 3
   },
   "file_extension": ".py",
   "mimetype": "text/x-python",
   "name": "python",
   "nbconvert_exporter": "python",
   "pygments_lexer": "ipython3",
   "version": "3.5.2"
  }
 },
 "nbformat": 4,
 "nbformat_minor": 2
}
