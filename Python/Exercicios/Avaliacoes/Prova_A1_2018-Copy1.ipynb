{
 "cells": [
  {
   "cell_type": "markdown",
   "metadata": {},
   "source": [
    "A1 de Linguagens de Programação – 19/09/2018\n",
    "--\n",
    "Professor: Renato Rocha Souza  \n",
    "--"
   ]
  },
  {
   "cell_type": "markdown",
   "metadata": {},
   "source": [
    "Nome do Aluno(a):"
   ]
  },
  {
   "cell_type": "code",
   "execution_count": 1,
   "metadata": {},
   "outputs": [
    {
     "name": "stdout",
     "output_type": "stream",
     "text": [
      "Entre com o seu nome completo: Lucas Emanuel Resck Domingues\n",
      "Olá, Lucas Emanuel Resck Domingues!\n",
      "Bom trabalho!\n"
     ]
    }
   ],
   "source": [
    "meu_nome = input('Entre com o seu nome completo: ')\n",
    "print('Olá, {}!'.format(meu_nome))\n",
    "print('Bom trabalho!')"
   ]
  },
  {
   "cell_type": "code",
   "execution_count": 77,
   "metadata": {},
   "outputs": [],
   "source": [
    "# Somente estes módulos podem ser importados para a realização das questões\n",
    "import numpy as np\n",
    "import matplotlib.pyplot as plt\n",
    "import random\n",
    "import re\n",
    "import string\n",
    "import time\n",
    "from IPython.display import clear_output\n",
    "%matplotlib inline"
   ]
  },
  {
   "cell_type": "markdown",
   "metadata": {},
   "source": [
    "Questão 1 (2.5 pontos)  \n",
    "\n",
    "Partindo do código abaixo, escreva comandos para realizar as seguintes tarefas:  \n",
    "a) Crie uma função genérica para construir um dicionário de frequências de palavras de um texto (string), passado como parâmetro. Aplique a função ao texto;  \n",
    "b) Identifique os candidatos a nomes próprios no texto;  \n",
    "c) Imagine que o texto seja constituído pela soma de suas letras, com repetições. Com esta \"caixa de letras\", quantas vezes você conseguiria escrever seu nome completo? Use as letras da variável meu_nome, sem os espaços em branco.  \n",
    "d) Identifique as palavras que só ocorrem uma vez;  \n",
    "e) Crie código para salvar os resultados em um arquivo chamado \"respostas_q1.txt\" no computador.  "
   ]
  },
  {
   "cell_type": "code",
   "execution_count": 258,
   "metadata": {},
   "outputs": [],
   "source": [
    "with open('../../Dados/DomCasmurroMachadoAssis.txt', 'r', encoding='utf-8') as f:\n",
    "    texto = f.read()"
   ]
  },
  {
   "cell_type": "code",
   "execution_count": 259,
   "metadata": {},
   "outputs": [],
   "source": [
    "#a)\n",
    "def dicionario(texto):\n",
    "    palavras = texto.split()\n",
    "    palavras = map(lambda palavra: palavra.strip().lower().strip(string.punctuation), palavras)\n",
    "    palavras = list(palavras)\n",
    "    frequencia = {palavra: palavras.count(palavra) for palavra in palavras}\n",
    "    return frequencia"
   ]
  },
  {
   "cell_type": "code",
   "execution_count": 260,
   "metadata": {},
   "outputs": [],
   "source": [
    "a = dicionario(texto)"
   ]
  },
  {
   "cell_type": "code",
   "execution_count": 262,
   "metadata": {},
   "outputs": [],
   "source": [
    "palavras = texto.split()\n",
    "PalavrasSemPont = [palavra.strip().strip(string.punctuation) for palavra in palavras]\n",
    "nomes = []\n",
    "for palavra in range(1, len(PalavrasSemPont)):\n",
    "    if PalavrasSemPont[palavra].istitle() and not palavras[palavra - 1][-1] in string.punctuation:\n",
    "        nomes.append(PalavrasSemPont[palavra])\n",
    "b = nomes"
   ]
  },
  {
   "cell_type": "code",
   "execution_count": 263,
   "metadata": {},
   "outputs": [],
   "source": [
    "letras_nome = {}\n",
    "for letra in string.ascii_lowercase:\n",
    "    letras_nome.update({letra: meu_nome.lower().count(letra)})\n",
    "\n",
    "letras_nome = letras_nome.items()\n",
    "letras_nome2 = []\n",
    "for letra in letras_nome:\n",
    "    letras_nome2.append(letra[1])\n",
    "    \n",
    "letras_nome2 = np.array(letras_nome2)\n",
    "\n",
    "letras_texto = {}\n",
    "for letra in string.ascii_lowercase:\n",
    "    letras_texto.update({letra: texto.count(letra)})\n",
    "    \n",
    "letras_texto = letras_texto.items()\n",
    "letras_texto2 = []\n",
    "for letra in letras_texto:\n",
    "    letras_texto2.append(letra[1])\n",
    "    \n",
    "letras_texto2 = np.array(letras_texto2)\n",
    "\n",
    "contagem = 0\n",
    "while not 0 in letras_texto2:\n",
    "    letras_texto2 = letras_texto2 - 1\n",
    "    contagem += 1\n",
    "    \n",
    "c = contagem   "
   ]
  },
  {
   "cell_type": "code",
   "execution_count": 264,
   "metadata": {},
   "outputs": [],
   "source": [
    "palavras = texto.split()\n",
    "palavras = [palavra.strip().strip(string.punctuation).lower() for palavra in palavras]\n",
    "UmaVez = []\n",
    "for palavra in palavras:\n",
    "    if palavras.count(palavra) == 1:\n",
    "        UmaVez.append(palavra)\n",
    "d = set(UmaVez)"
   ]
  },
  {
   "cell_type": "code",
   "execution_count": 272,
   "metadata": {},
   "outputs": [],
   "source": [
    "with open(\"respostas_q1.txt\", mode = \"w\", encoding = \"utf-8\") as arquivo:\n",
    "    arquivo.write(\"a) \" + str(a) + \"\\n\")\n",
    "    arquivo.write(\"b) \" + str(b) + \"\\n\")\n",
    "    arquivo.write(\"c) \" + str(c) + \"\\n\")\n",
    "    arquivo.write(\"d) \" + str(d) + \"\\n\")"
   ]
  },
  {
   "cell_type": "markdown",
   "metadata": {},
   "source": [
    "Questão 2 (2.0 pontos)  \n",
    "\n",
    "Seja d(n) definido como a suma dos divisores inteiros de n. Se d(a) = b e d(b) = a, sendo a ≠ b, então a e b são um \"par amigável\" de números.  \n",
    "\n",
    "Por exemplo, os divisores inteiros de 220 são 1, 2, 4, 5, 10, 11, 20, 22, 44, 55 e 110; então d(220) = 284.  \n",
    "Os divisores inteiros de 284 são 1, 2, 4, 71 e 142; então d(284) = 220.  \n",
    "\n",
    "Encontre todos os \"pares amigáveis\" de números menores que 20000.  Crie uma lista de tuplas com esses pares.  "
   ]
  },
  {
   "cell_type": "code",
   "execution_count": 281,
   "metadata": {},
   "outputs": [],
   "source": [
    "def d(n):\n",
    "    divisores = []\n",
    "    for numero in range(n - 1, 0, -1):\n",
    "        if n % numero == 0:\n",
    "            divisores.append(numero)\n",
    "    soma = sum(divisores)\n",
    "    return soma"
   ]
  },
  {
   "cell_type": "code",
   "execution_count": 282,
   "metadata": {},
   "outputs": [],
   "source": [
    "SomaDiv = [0] * 20000\n",
    "for numero in range(1, 20000):\n",
    "    SomaDiv[numero] = d(numero)"
   ]
  },
  {
   "cell_type": "code",
   "execution_count": 286,
   "metadata": {},
   "outputs": [
    {
     "name": "stdout",
     "output_type": "stream",
     "text": [
      "[(220, 284), (1184, 1210), (2620, 2924), (5020, 5564), (6232, 6368), (10744, 10856), (12285, 14595), (17296, 18416)]\n"
     ]
    }
   ],
   "source": [
    "amigaveis = []\n",
    "for a in range(1, 20000):\n",
    "    b = SomaDiv[a]\n",
    "    if b < 20000:\n",
    "        c = SomaDiv[b]\n",
    "        if c == a and a != b:\n",
    "            if not (b, a) in amigaveis:\n",
    "                amigaveis.append((a, b))\n",
    "print(amigaveis)"
   ]
  },
  {
   "cell_type": "markdown",
   "metadata": {},
   "source": [
    "Questão 3 (2.5 pontos)  \n",
    "\n",
    "Usando funções geradoras, crie um objeto que emule um dado de oito faces (1-8) que seja viciado, de tal forma que a probabilidade desta função geradora retornar certo valor seja proporcional ao próprio valor (por exemplo, a face 6 é 3 vezes mais provável de sair do que a face 2).  \n",
    "\n",
    "(a) Usando os comandos plt.plot ou plt.hist, mostre graficamente o resultado de 10000 lançamentos;  \n",
    "(b) Modifique esta função geradora de forma que ela termine automaticamente quando todos os valores possíveis (1,2,3,4,5,6,7,8) tiverem sido retornados pelo menos uma vez. Neste caso, ela retornará o tempo absoluto total que ocorreu desde a primeira iteração.  "
   ]
  },
  {
   "cell_type": "code",
   "execution_count": 155,
   "metadata": {},
   "outputs": [],
   "source": [
    "def dado():\n",
    "    while True:\n",
    "        numero = random.randint(1, 36)\n",
    "        if numero == 1:\n",
    "            resultado = 1\n",
    "        elif numero <= 3:\n",
    "            resultado = 2\n",
    "        elif numero <= 6:\n",
    "            resultado = 3\n",
    "        elif numero <= 10:\n",
    "            resultado = 4\n",
    "        elif numero <= 15:\n",
    "            resultado = 5\n",
    "        elif numero <= 21:\n",
    "            resultado = 6\n",
    "        elif numero <= 28:\n",
    "            resultado = 7\n",
    "        else:\n",
    "            resultado = 8\n",
    "        yield resultado"
   ]
  },
  {
   "cell_type": "code",
   "execution_count": 156,
   "metadata": {},
   "outputs": [],
   "source": [
    "dadinho = dado()\n",
    "resultados = []\n",
    "for i in range(10000):\n",
    "    resultados.append(next(dadinho))"
   ]
  },
  {
   "cell_type": "code",
   "execution_count": 157,
   "metadata": {},
   "outputs": [
    {
     "data": {
      "image/png": "[encoded data removed]",
      "text/plain": [
       "<Figure size 432x288 with 1 Axes>"
      ]
     },
     "metadata": {},
     "output_type": "display_data"
    }
   ],
   "source": [
    "plt.bar([1, 2, 3, 4, 5, 6, 7, 8], [resultados.count(1), resultados.count(2), resultados.count(3), resultados.count(4), resultados.count(5), resultados.count(6), resultados.count(7), resultados.count(8)])\n",
    "plt.show()"
   ]
  },
  {
   "cell_type": "code",
   "execution_count": 187,
   "metadata": {},
   "outputs": [],
   "source": [
    "def dado2():\n",
    "    resultados = [1, 2, 3, 4, 5, 6, 7, 8]\n",
    "    tempo0 = time.time()\n",
    "    while resultados != []:\n",
    "        numero = random.randint(1, 36)\n",
    "        if numero == 1 and 1 in resultados:\n",
    "            resultados.remove(1)\n",
    "        elif numero == 2 and 2 in resultados:\n",
    "            resultados.remove(2)\n",
    "        elif numero == 3 and 3 in resultados:\n",
    "            resultados.remove(3)\n",
    "        elif numero == 4 and 4 in resultados:\n",
    "            resultados.remove(4)\n",
    "        elif numero == 5 and 5 in resultados:\n",
    "            resultados.remove(5)\n",
    "        elif numero == 6 and 6 in resultados:\n",
    "            resultados.remove(6)\n",
    "        elif numero == 7 and 7 in resultados:\n",
    "            resultados.remove(7)\n",
    "        elif numero == 8 and 8 in resultados:\n",
    "            resultados.remove(8)\n",
    "        yield 0\n",
    "    yield time.time() - tempo0"
   ]
  },
  {
   "cell_type": "code",
   "execution_count": 188,
   "metadata": {},
   "outputs": [],
   "source": [
    "dadinho2 = dado2()"
   ]
  },
  {
   "cell_type": "code",
   "execution_count": 189,
   "metadata": {},
   "outputs": [
    {
     "name": "stdout",
     "output_type": "stream",
     "text": [
      "0.0004062652587890625\n"
     ]
    }
   ],
   "source": [
    "tempo = 0\n",
    "while tempo == 0:\n",
    "    tempo = next(dadinho2)\n",
    "print(tempo)"
   ]
  },
  {
   "cell_type": "markdown",
   "metadata": {},
   "source": [
    "Questão 4 (3.0 pontos)   \n",
    "\n",
    "Crie uma classe chamada \"Elevador\" que recebe, ao instanciada, o número de andares do edifício e inicia no andar mais baixo.  \n",
    "Crie métodos e propriedades para permitir que o elevador:  \n",
    "- Receba uma chamada (usuário aperta um botão em um andar);  \n",
    "- Receba um andar como destino (usuários apertam botões dentro do elevador);  \n",
    "- Informe em qual andar o elevador está;  \n",
    "- Informe a sequência de andares ainda por visitar;\n",
    "- Informe a quantidade de vezes que parou em cada andar (passar pelo andar sem \"parar\" no andar não conta);  \n",
    "\n",
    "Leve em consideração que cada deslocamento de andar demora 3 segundos.  \n",
    "Simule o comportamento do elevador atendendo à dez usuários, que têm andar de origem, andar de destino e sequência de chegada (fora e dentro do elevador) definidos aleatóriamente.  "
   ]
  },
  {
   "cell_type": "code",
   "execution_count": 439,
   "metadata": {},
   "outputs": [],
   "source": [
    "class Elevador():\n",
    "    def __init__(self, nandares):\n",
    "        self.nandares = nandares\n",
    "        self.posicao = 0\n",
    "        paradas = list(range(nandares + 1))\n",
    "        paradas1 = [0] * (nandares + 1)\n",
    "        self.paradas = list(zip(paradas, paradas1))\n",
    "        self.paradas = [list(tupla) for tupla in self.paradas]\n",
    "        self.paradas[0][1] = 1 #Posição inicial\n",
    "        \n",
    "    def chamada(self, andares):\n",
    "        self.andares = andares\n",
    "        if type(self.andares) == list:\n",
    "            self.andares = list(set(self.andares))\n",
    "            self.andares.sort()\n",
    "            \n",
    "        if self.andares[0] == self.posicao:\n",
    "            self.andares.remove(self.posicao)\n",
    "            \n",
    "        if self.andares[0] > self.posicao:\n",
    "            self.sentido = \"cima\"\n",
    "        else:\n",
    "            self.sentido = \"baixo\"\n",
    "        time.sleep(abs((self.andares[0] - self.posicao) * 3))\n",
    "        self.posicao = self.andares[0]\n",
    "        self.andares.remove(self.posicao)\n",
    "        \n",
    "        if self.posicao == 0:\n",
    "            self.sentido = \"cima\"\n",
    "        elif self.posicao == self.nandares:\n",
    "            self.sentido = \"baixo\"\n",
    "            \n",
    "        self.paradas[self.posicao][1] += 1\n",
    "        \n",
    "    def destino(self, andar):\n",
    "        if not andar in self.andares:\n",
    "            self.andares.append(andar)\n",
    "        if type(self.andares) == list:\n",
    "            self.andares.sort()\n",
    "            \n",
    "        if self.andares[0] == self.posicao:\n",
    "            self.andares.remove(self.posicao)\n",
    "            \n",
    "        if self.sentido == \"cima\":\n",
    "            andarescima = [andar for andar in self.andares if andar > self.posicao]\n",
    "            time.sleep(abs((andarescima[0] - self.posicao) * 3))\n",
    "            self.posicao = andarescima[0]\n",
    "        else:\n",
    "            andaresbaixo = [andar for andar in self.andares if andar < self.posicao]\n",
    "            time.sleep(abs((andaresbaixo[-1] - self.posicao) * 3))\n",
    "            self.posicao = andaresbaixo[-1]\n",
    "        self.andares.remove(self.posicao)\n",
    "        \n",
    "        if self.posicao == 0:\n",
    "            self.sentido = \"cima\"\n",
    "        elif self.posicao == self.nandares:\n",
    "            self.sentido = \"baixo\"\n",
    "            \n",
    "        self.paradas[self.posicao][1] += 1"
   ]
  },
  {
   "cell_type": "code",
   "execution_count": 440,
   "metadata": {},
   "outputs": [],
   "source": [
    "fgv = Elevador(10)"
   ]
  },
  {
   "cell_type": "code",
   "execution_count": 441,
   "metadata": {},
   "outputs": [
    {
     "name": "stdout",
     "output_type": "stream",
     "text": [
      "4 [6, 8, 9, 10] [[0, 1], [1, 0], [2, 0], [3, 0], [4, 1], [5, 0], [6, 0], [7, 0], [8, 0], [9, 0], [10, 0]]\n",
      "5 [6, 8, 9, 10] [[0, 1], [1, 0], [2, 0], [3, 0], [4, 1], [5, 1], [6, 0], [7, 0], [8, 0], [9, 0], [10, 0]]\n",
      "6 [8, 9, 10] [[0, 1], [1, 0], [2, 0], [3, 0], [4, 1], [5, 1], [6, 1], [7, 0], [8, 0], [9, 0], [10, 0]]\n",
      "8 [9, 10] [[0, 1], [1, 0], [2, 0], [3, 0], [4, 1], [5, 1], [6, 1], [7, 0], [8, 1], [9, 0], [10, 0]]\n",
      "9 [7, 10] [[0, 1], [1, 0], [2, 0], [3, 0], [4, 1], [5, 1], [6, 1], [7, 0], [8, 1], [9, 1], [10, 0]]\n"
     ]
    },
    {
     "ename": "KeyboardInterrupt",
     "evalue": "",
     "output_type": "error",
     "traceback": [
      "\u001b[0;31m---------------------------------------------------------------------------\u001b[0m",
      "\u001b[0;31mKeyboardInterrupt\u001b[0m                         Traceback (most recent call last)",
      "\u001b[0;32m<ipython-input-441-8f322e9554fb>\u001b[0m in \u001b[0;36m<module>\u001b[0;34m()\u001b[0m\n\u001b[1;32m     24\u001b[0m \u001b[0mPossiveisEscolhas\u001b[0m \u001b[0;34m=\u001b[0m \u001b[0mlist\u001b[0m\u001b[0;34m(\u001b[0m\u001b[0mrange\u001b[0m\u001b[0;34m(\u001b[0m\u001b[0;36m11\u001b[0m\u001b[0;34m)\u001b[0m\u001b[0;34m)\u001b[0m\u001b[0;34m\u001b[0m\u001b[0m\n\u001b[1;32m     25\u001b[0m \u001b[0mPossiveisEscolhas\u001b[0m\u001b[0;34m.\u001b[0m\u001b[0mremove\u001b[0m\u001b[0;34m(\u001b[0m\u001b[0mfgv\u001b[0m\u001b[0;34m.\u001b[0m\u001b[0mposicao\u001b[0m\u001b[0;34m)\u001b[0m\u001b[0;34m\u001b[0m\u001b[0m\n\u001b[0;32m---> 26\u001b[0;31m \u001b[0mfgv\u001b[0m\u001b[0;34m.\u001b[0m\u001b[0mdestino\u001b[0m\u001b[0;34m(\u001b[0m\u001b[0mrandom\u001b[0m\u001b[0;34m.\u001b[0m\u001b[0mchoice\u001b[0m\u001b[0;34m(\u001b[0m\u001b[0mPossiveisEscolhas\u001b[0m\u001b[0;34m)\u001b[0m\u001b[0;34m)\u001b[0m\u001b[0;34m\u001b[0m\u001b[0m\n\u001b[0m\u001b[1;32m     27\u001b[0m \u001b[0mprint\u001b[0m\u001b[0;34m(\u001b[0m\u001b[0mfgv\u001b[0m\u001b[0;34m.\u001b[0m\u001b[0mposicao\u001b[0m\u001b[0;34m,\u001b[0m \u001b[0mfgv\u001b[0m\u001b[0;34m.\u001b[0m\u001b[0mandares\u001b[0m\u001b[0;34m,\u001b[0m \u001b[0mfgv\u001b[0m\u001b[0;34m.\u001b[0m\u001b[0mparadas\u001b[0m\u001b[0;34m)\u001b[0m\u001b[0;34m\u001b[0m\u001b[0m\n\u001b[1;32m     28\u001b[0m \u001b[0;34m\u001b[0m\u001b[0m\n",
      "\u001b[0;32m<ipython-input-439-c7621392371f>\u001b[0m in \u001b[0;36mdestino\u001b[0;34m(self, andar)\u001b[0m\n\u001b[1;32m     44\u001b[0m         \u001b[0;32mif\u001b[0m \u001b[0mself\u001b[0m\u001b[0;34m.\u001b[0m\u001b[0msentido\u001b[0m \u001b[0;34m==\u001b[0m \u001b[0;34m\"cima\"\u001b[0m\u001b[0;34m:\u001b[0m\u001b[0;34m\u001b[0m\u001b[0m\n\u001b[1;32m     45\u001b[0m             \u001b[0mandarescima\u001b[0m \u001b[0;34m=\u001b[0m \u001b[0;34m[\u001b[0m\u001b[0mandar\u001b[0m \u001b[0;32mfor\u001b[0m \u001b[0mandar\u001b[0m \u001b[0;32min\u001b[0m \u001b[0mself\u001b[0m\u001b[0;34m.\u001b[0m\u001b[0mandares\u001b[0m \u001b[0;32mif\u001b[0m \u001b[0mandar\u001b[0m \u001b[0;34m>\u001b[0m \u001b[0mself\u001b[0m\u001b[0;34m.\u001b[0m\u001b[0mposicao\u001b[0m\u001b[0;34m]\u001b[0m\u001b[0;34m\u001b[0m\u001b[0m\n\u001b[0;32m---> 46\u001b[0;31m             \u001b[0mtime\u001b[0m\u001b[0;34m.\u001b[0m\u001b[0msleep\u001b[0m\u001b[0;34m(\u001b[0m\u001b[0mabs\u001b[0m\u001b[0;34m(\u001b[0m\u001b[0;34m(\u001b[0m\u001b[0mandarescima\u001b[0m\u001b[0;34m[\u001b[0m\u001b[0;36m0\u001b[0m\u001b[0;34m]\u001b[0m \u001b[0;34m-\u001b[0m \u001b[0mself\u001b[0m\u001b[0;34m.\u001b[0m\u001b[0mposicao\u001b[0m\u001b[0;34m)\u001b[0m \u001b[0;34m*\u001b[0m \u001b[0;36m3\u001b[0m\u001b[0;34m)\u001b[0m\u001b[0;34m)\u001b[0m\u001b[0;34m\u001b[0m\u001b[0m\n\u001b[0m\u001b[1;32m     47\u001b[0m             \u001b[0mself\u001b[0m\u001b[0;34m.\u001b[0m\u001b[0mposicao\u001b[0m \u001b[0;34m=\u001b[0m \u001b[0mandarescima\u001b[0m\u001b[0;34m[\u001b[0m\u001b[0;36m0\u001b[0m\u001b[0;34m]\u001b[0m\u001b[0;34m\u001b[0m\u001b[0m\n\u001b[1;32m     48\u001b[0m         \u001b[0;32melse\u001b[0m\u001b[0;34m:\u001b[0m\u001b[0;34m\u001b[0m\u001b[0m\n",
      "\u001b[0;31mKeyboardInterrupt\u001b[0m: "
     ]
    }
   ],
   "source": [
    "fgv.chamada([random.randint(0, 10) for n in range(10)])\n",
    "print(fgv.posicao, fgv.andares, fgv.paradas)\n",
    "\n",
    "PossiveisEscolhas = list(range(11))\n",
    "PossiveisEscolhas.remove(fgv.posicao)\n",
    "fgv.destino(random.choice(PossiveisEscolhas))\n",
    "print(fgv.posicao, fgv.andares, fgv.paradas)\n",
    "\n",
    "PossiveisEscolhas = list(range(11))\n",
    "PossiveisEscolhas.remove(fgv.posicao)\n",
    "fgv.destino(random.choice(PossiveisEscolhas))\n",
    "print(fgv.posicao, fgv.andares, fgv.paradas)\n",
    "\n",
    "PossiveisEscolhas = list(range(11))\n",
    "PossiveisEscolhas.remove(fgv.posicao)\n",
    "fgv.destino(random.choice(PossiveisEscolhas))\n",
    "print(fgv.posicao, fgv.andares, fgv.paradas)\n",
    "\n",
    "PossiveisEscolhas = list(range(11))\n",
    "PossiveisEscolhas.remove(fgv.posicao)\n",
    "fgv.destino(random.choice(PossiveisEscolhas))\n",
    "print(fgv.posicao, fgv.andares, fgv.paradas)\n",
    "\n",
    "PossiveisEscolhas = list(range(11))\n",
    "PossiveisEscolhas.remove(fgv.posicao)\n",
    "fgv.destino(random.choice(PossiveisEscolhas))\n",
    "print(fgv.posicao, fgv.andares, fgv.paradas)\n",
    "\n",
    "PossiveisEscolhas = list(range(11))\n",
    "PossiveisEscolhas.remove(fgv.posicao)\n",
    "fgv.destino(random.choice(PossiveisEscolhas))\n",
    "print(fgv.posicao, fgv.andares, fgv.paradas)\n",
    "\n",
    "PossiveisEscolhas = list(range(11))\n",
    "PossiveisEscolhas.remove(fgv.posicao)\n",
    "fgv.destino(random.choice(PossiveisEscolhas))\n",
    "print(fgv.posicao, fgv.andares, fgv.paradas)\n",
    "\n",
    "PossiveisEscolhas = list(range(11))\n",
    "PossiveisEscolhas.remove(fgv.posicao)\n",
    "fgv.destino(random.choice(PossiveisEscolhas))\n",
    "print(fgv.posicao, fgv.andares, fgv.paradas)\n",
    "\n",
    "PossiveisEscolhas = list(range(11))\n",
    "PossiveisEscolhas.remove(fgv.posicao)\n",
    "fgv.destino(random.choice(PossiveisEscolhas))\n",
    "print(fgv.posicao, fgv.andares, fgv.paradas)\n",
    "\n",
    "PossiveisEscolhas = list(range(11))\n",
    "PossiveisEscolhas.remove(fgv.posicao)\n",
    "fgv.destino(random.choice(PossiveisEscolhas))\n",
    "print(fgv.posicao, fgv.andares, fgv.paradas)"
   ]
  },
  {
   "cell_type": "markdown",
   "metadata": {},
   "source": [
    "Questão bônus I (0.5 ponto)   \n",
    "\n",
    "Ilustre graficamente as posições do elevador acima para a simulação pedida:  "
   ]
  },
  {
   "cell_type": "code",
   "execution_count": null,
   "metadata": {},
   "outputs": [],
   "source": [
    "#seu código aqui"
   ]
  },
  {
   "cell_type": "markdown",
   "metadata": {},
   "source": [
    "Questão bônus II (0.5 ponto)   \n",
    "\n",
    "Crie um simulador de prédio inteligente, controlando chamadas feitas para n > 1 elevadores:  "
   ]
  },
  {
   "cell_type": "code",
   "execution_count": null,
   "metadata": {},
   "outputs": [],
   "source": [
    "#seu código aqui"
   ]
  }
 ],
 "metadata": {
  "kernelspec": {
   "display_name": "Python 3",
   "language": "python",
   "name": "python3"
  },
  "language_info": {
   "codemirror_mode": {
    "name": "ipython",
    "version": 3
   },
   "file_extension": ".py",
   "mimetype": "text/x-python",
   "name": "python",
   "nbconvert_exporter": "python",
   "pygments_lexer": "ipython3",
   "version": "3.5.2"
  }
 },
 "nbformat": 4,
 "nbformat_minor": 2
}
