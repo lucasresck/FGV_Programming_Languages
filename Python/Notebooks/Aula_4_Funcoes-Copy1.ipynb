{
 "cells": [
  {
   "cell_type": "markdown",
   "metadata": {},
   "source": [
    "FGV - Escola de Matemática Aplicada\n",
    "==\n",
    "Introdução à Programação com a Linguagem Python\n",
    "--"
   ]
  },
  {
   "cell_type": "markdown",
   "metadata": {},
   "source": [
    "### Funções:"
   ]
  },
  {
   "cell_type": "code",
   "execution_count": 1,
   "metadata": {},
   "outputs": [],
   "source": [
    "def faz_nada():\n",
    "    print('não fiz nada')"
   ]
  },
  {
   "cell_type": "code",
   "execution_count": 2,
   "metadata": {},
   "outputs": [
    {
     "name": "stdout",
     "output_type": "stream",
     "text": [
      "não fiz nada\n"
     ]
    }
   ],
   "source": [
    "faz_nada()"
   ]
  },
  {
   "cell_type": "code",
   "execution_count": 3,
   "metadata": {},
   "outputs": [
    {
     "name": "stdout",
     "output_type": "stream",
     "text": [
      "não fiz nada\n"
     ]
    }
   ],
   "source": [
    "x = faz_nada()"
   ]
  },
  {
   "cell_type": "code",
   "execution_count": 4,
   "metadata": {},
   "outputs": [
    {
     "name": "stdout",
     "output_type": "stream",
     "text": [
      "None\n"
     ]
    }
   ],
   "source": [
    "print(x)"
   ]
  },
  {
   "cell_type": "code",
   "execution_count": 5,
   "metadata": {},
   "outputs": [],
   "source": [
    "def soma(x,y):\n",
    "    return x+y"
   ]
  },
  {
   "cell_type": "code",
   "execution_count": 6,
   "metadata": {},
   "outputs": [
    {
     "data": {
      "text/plain": [
       "9"
      ]
     },
     "execution_count": 6,
     "metadata": {},
     "output_type": "execute_result"
    }
   ],
   "source": [
    "soma(3,6)"
   ]
  },
  {
   "cell_type": "code",
   "execution_count": 8,
   "metadata": {},
   "outputs": [
    {
     "name": "stdout",
     "output_type": "stream",
     "text": [
      "7\n"
     ]
    }
   ],
   "source": [
    "x = soma(2,5)\n",
    "print(x)"
   ]
  },
  {
   "cell_type": "code",
   "execution_count": 9,
   "metadata": {},
   "outputs": [],
   "source": [
    "def diz_se_e_par(numero):\n",
    "    if numero%2 == 0:\n",
    "        return 'Par'\n",
    "    else:\n",
    "        return 'Ímpar'"
   ]
  },
  {
   "cell_type": "code",
   "execution_count": 10,
   "metadata": {},
   "outputs": [
    {
     "name": "stdout",
     "output_type": "stream",
     "text": [
      "Ímpar\n"
     ]
    }
   ],
   "source": [
    "resposta = diz_se_e_par(235)\n",
    "print(resposta)"
   ]
  },
  {
   "cell_type": "code",
   "execution_count": 11,
   "metadata": {},
   "outputs": [],
   "source": [
    "def soma2(*args):\n",
    "    print(args)\n",
    "    print('a soma é {}'.format(sum(args)))\n",
    "    return sum(args)"
   ]
  },
  {
   "cell_type": "code",
   "execution_count": 12,
   "metadata": {},
   "outputs": [
    {
     "name": "stdout",
     "output_type": "stream",
     "text": [
      "(23, 45, 18)\n",
      "a soma é 86\n"
     ]
    }
   ],
   "source": [
    "y = soma2(23, 45, 18)\n",
    "#print(y)"
   ]
  },
  {
   "cell_type": "code",
   "execution_count": 19,
   "metadata": {},
   "outputs": [],
   "source": [
    "import time"
   ]
  },
  {
   "cell_type": "code",
   "execution_count": 22,
   "metadata": {},
   "outputs": [
    {
     "name": "stdout",
     "output_type": "stream",
     "text": [
      "0.0004942417144775391\n"
     ]
    }
   ],
   "source": [
    "def ordem(x,y,z):\n",
    "    if x >= y and x >= z:\n",
    "        print('o maior é {}'.format(x))\n",
    "        if y >= z:\n",
    "            print('o do meio é {}'.format(y))\n",
    "            print('o menor é {}'.format(z))\n",
    "        else:\n",
    "            print('o do meio é {}'.format(z))\n",
    "            print('o menor é {}'.format(y))\n",
    "    elif y >= x and y >= z:\n",
    "        print('o maior é {}'.format(y))\n",
    "        if x >= z:\n",
    "            print('o do meio é {}'.format(x))\n",
    "            print('o menor é {}'.format(z))\n",
    "        else:\n",
    "            print('o do meio é {}'.format(z))\n",
    "            print('o menor é {}'.format(x))\n",
    "    else:\n",
    "        print('o maior é {}'.format(z))\n",
    "        if x >= y:\n",
    "            print('o do meio é {}'.format(x))\n",
    "            print('o menor é {}'.format(y))\n",
    "        else:\n",
    "            print('o do meio é {}'.format(y))\n",
    "            print('o menor é {}'.format(x))"
   ]
  },
  {
   "cell_type": "code",
   "execution_count": 14,
   "metadata": {},
   "outputs": [
    {
     "name": "stdout",
     "output_type": "stream",
     "text": [
      "o maior é 98\n",
      "o do meio é 56\n",
      "o menor é 21\n"
     ]
    }
   ],
   "source": [
    "ordem(56,21,98)"
   ]
  },
  {
   "cell_type": "code",
   "execution_count": 27,
   "metadata": {},
   "outputs": [
    {
     "name": "stdout",
     "output_type": "stream",
     "text": [
      "0.0004665851593017578\n"
     ]
    }
   ],
   "source": [
    "def compara(x,y):\n",
    "    if x >= y:\n",
    "        print('o do meio é {}'.format(x))\n",
    "        print('o menor é {}'.format(y))\n",
    "    else:\n",
    "        print('o do meio é {}'.format(y))\n",
    "        print('o menor é {}'.format(x))\n",
    "\n",
    "def ordem2(x,y,z):\n",
    "    if x >= y and x >= z:\n",
    "        print('o maior é {}'.format(x))\n",
    "        compara(y,z)\n",
    "    elif y >= x and y >= z:\n",
    "        print('o maior é {}'.format(y))\n",
    "        compara(x,z)\n",
    "    else:\n",
    "        print('o maior é {}'.format(z))\n",
    "        compara(x,y)"
   ]
  },
  {
   "cell_type": "code",
   "execution_count": 28,
   "metadata": {},
   "outputs": [
    {
     "name": "stdout",
     "output_type": "stream",
     "text": [
      "0.0005307197570800781\n"
     ]
    }
   ],
   "source": [
    "def anuncia(x,y):\n",
    "    print('o do meio é {}'.format(x))\n",
    "    print('o menor é {}'.format(y))\n",
    "    \n",
    "#def anuncia(status,numero):\n",
    "#    print('O {} é {}'.format(status, numero))\n",
    "        \n",
    "def compara2(x,y):\n",
    "    if x >= y:\n",
    "        anuncia(x,y)\n",
    "    else:\n",
    "        anuncia(y,x)\n",
    "\n",
    "def ordem3(x,y,z):\n",
    "    if x >= y and x >= z:\n",
    "        print('o maior é {}'.format(x))\n",
    "        compara2(y,z)\n",
    "    elif y >= x and y >= z:\n",
    "        print('o maior é {}'.format(y))\n",
    "        compara2(x,z)\n",
    "    else:\n",
    "        print('o maior é {}'.format(z))\n",
    "        compara2(x,y)"
   ]
  },
  {
   "cell_type": "code",
   "execution_count": 29,
   "metadata": {},
   "outputs": [
    {
     "name": "stdout",
     "output_type": "stream",
     "text": [
      "o maior é 98\n",
      "o do meio é 56\n",
      "o menor é 21\n"
     ]
    }
   ],
   "source": [
    "ordem2(56,21,98)"
   ]
  },
  {
   "cell_type": "code",
   "execution_count": 33,
   "metadata": {},
   "outputs": [],
   "source": [
    "def ordem4(x,y,z):\n",
    "    l = [x,y,z]\n",
    "    l.sort()\n",
    "    anuncia('maior',l[2])\n",
    "    anuncia('do meio',l[1])\n",
    "    anuncia('menor',l[0])"
   ]
  },
  {
   "cell_type": "code",
   "execution_count": 40,
   "metadata": {},
   "outputs": [
    {
     "name": "stdout",
     "output_type": "stream",
     "text": [
      "o do meio é maior\n",
      "o menor é 98\n",
      "o do meio é do meio\n",
      "o menor é 56\n",
      "o do meio é menor\n",
      "o menor é 56\n",
      "CPU times: user 0 ns, sys: 0 ns, total: 0 ns\n",
      "Wall time: 728 µs\n"
     ]
    }
   ],
   "source": [
    "%%time\n",
    "ordem4(56,56,98)"
   ]
  },
  {
   "cell_type": "code",
   "execution_count": 41,
   "metadata": {},
   "outputs": [],
   "source": [
    "#Cuidado com valores altos na função abaixo\n",
    "import time\n",
    "def fibo_recursivo(n):\n",
    "    if n <= 0:\n",
    "        print('número inválido')\n",
    "        return\n",
    "    if n == 1:\n",
    "        return 0\n",
    "    elif n == 2:\n",
    "        return 1\n",
    "    else:\n",
    "        #print(fibo_recursivo(n-1) + fibo_recursivo(n-2))\n",
    "        return fibo_recursivo(n-1) + fibo_recursivo(n-2)"
   ]
  },
  {
   "cell_type": "code",
   "execution_count": 44,
   "metadata": {},
   "outputs": [
    {
     "name": "stderr",
     "output_type": "stream",
     "text": [
      "\n",
      "KeyboardInterrupt\n",
      "\n"
     ]
    }
   ],
   "source": [
    "t0 = time.time()\n",
    "print(fibo_recursivo(1000))\n",
    "print(time.time() - t0)"
   ]
  },
  {
   "cell_type": "code",
   "execution_count": null,
   "metadata": {},
   "outputs": [],
   "source": [
    "x,y = 1,1\n",
    "while y < 1000:\n",
    "    x,y = y,x+y\n",
    "    print(x)"
   ]
  },
  {
   "cell_type": "code",
   "execution_count": null,
   "metadata": {},
   "outputs": [],
   "source": [
    "def fibo_nao_recursivo(n):\n",
    "    fibo1 = 0\n",
    "    fibo2 = 1\n",
    "    for numero in range(1,n):\n",
    "        fibo2, fibo1 = fibo2+fibo1, fibo2\n",
    "        #print(fibo2)\n",
    "    return fibo1"
   ]
  },
  {
   "cell_type": "code",
   "execution_count": null,
   "metadata": {},
   "outputs": [],
   "source": [
    "t0 = time.time()\n",
    "print(fibo_nao_recursivo(400))\n",
    "print(time.time() - t0)"
   ]
  },
  {
   "cell_type": "code",
   "execution_count": 11,
   "metadata": {},
   "outputs": [],
   "source": [
    "def raiz(n,raiz=2):\n",
    "    return n ** (1./raiz)"
   ]
  },
  {
   "cell_type": "code",
   "execution_count": 12,
   "metadata": {},
   "outputs": [
    {
     "data": {
      "text/plain": [
       "3.0"
      ]
     },
     "execution_count": 12,
     "metadata": {},
     "output_type": "execute_result"
    }
   ],
   "source": [
    "raiz(27,3)"
   ]
  },
  {
   "cell_type": "code",
   "execution_count": 13,
   "metadata": {},
   "outputs": [
    {
     "data": {
      "text/plain": [
       "3.9999999999999996"
      ]
     },
     "execution_count": 13,
     "metadata": {},
     "output_type": "execute_result"
    }
   ],
   "source": [
    "raiz(64,3)"
   ]
  },
  {
   "cell_type": "code",
   "execution_count": 3,
   "metadata": {},
   "outputs": [],
   "source": [
    "import math"
   ]
  },
  {
   "cell_type": "code",
   "execution_count": 4,
   "metadata": {},
   "outputs": [],
   "source": [
    "def raiz2(n,raiz=2):\n",
    "    return math.pow(n,(1./raiz))"
   ]
  },
  {
   "cell_type": "code",
   "execution_count": 5,
   "metadata": {},
   "outputs": [
    {
     "data": {
      "text/plain": [
       "3.9999999999999996"
      ]
     },
     "execution_count": 5,
     "metadata": {},
     "output_type": "execute_result"
    }
   ],
   "source": [
    "raiz2(64,3)"
   ]
  },
  {
   "cell_type": "code",
   "execution_count": 6,
   "metadata": {},
   "outputs": [],
   "source": [
    "def qualquer(primeiro=10,segundo=11):\n",
    "    return segundo + primeiro"
   ]
  },
  {
   "cell_type": "code",
   "execution_count": 7,
   "metadata": {},
   "outputs": [
    {
     "name": "stdout",
     "output_type": "stream",
     "text": [
      "21\n"
     ]
    }
   ],
   "source": [
    "x = qualquer()\n",
    "print(x)"
   ]
  },
  {
   "cell_type": "code",
   "execution_count": 8,
   "metadata": {},
   "outputs": [
    {
     "name": "stdout",
     "output_type": "stream",
     "text": [
      "22\n"
     ]
    }
   ],
   "source": [
    "x = qualquer(11)\n",
    "print(x)"
   ]
  },
  {
   "cell_type": "code",
   "execution_count": 9,
   "metadata": {},
   "outputs": [
    {
     "data": {
      "text/plain": [
       "13"
      ]
     },
     "execution_count": 9,
     "metadata": {},
     "output_type": "execute_result"
    }
   ],
   "source": [
    "qualquer(2) # primeiro = 2 e segundo = 11"
   ]
  },
  {
   "cell_type": "code",
   "execution_count": 10,
   "metadata": {},
   "outputs": [
    {
     "data": {
      "text/plain": [
       "12"
      ]
     },
     "execution_count": 10,
     "metadata": {},
     "output_type": "execute_result"
    }
   ],
   "source": [
    "qualquer(segundo=2) #primeiro = 10 e segundo = 2"
   ]
  },
  {
   "cell_type": "code",
   "execution_count": null,
   "metadata": {},
   "outputs": [],
   "source": [
    "a, *b, c, d = (1,2,3,4,5,6,7,8,9)"
   ]
  },
  {
   "cell_type": "code",
   "execution_count": null,
   "metadata": {},
   "outputs": [],
   "source": [
    "print(a)\n",
    "print(b)\n",
    "print(c)\n",
    "print(d)"
   ]
  },
  {
   "cell_type": "code",
   "execution_count": null,
   "metadata": {},
   "outputs": [],
   "source": [
    "a, *b, c, d = (1,2,3,4,5,6,7,8,9)"
   ]
  },
  {
   "cell_type": "code",
   "execution_count": null,
   "metadata": {},
   "outputs": [],
   "source": [
    "def indefinido(*args):\n",
    "    for arg in args:\n",
    "        print(arg)"
   ]
  },
  {
   "cell_type": "code",
   "execution_count": null,
   "metadata": {},
   "outputs": [],
   "source": [
    "indefinido(5,1,2,'string')"
   ]
  },
  {
   "cell_type": "code",
   "execution_count": null,
   "metadata": {},
   "outputs": [],
   "source": [
    "def soma_muitos(*args):\n",
    "    print(args)\n",
    "    return sum(args)"
   ]
  },
  {
   "cell_type": "code",
   "execution_count": null,
   "metadata": {},
   "outputs": [],
   "source": [
    "soma_muitos(1,2,3,4,5,6,7,8,9,10)"
   ]
  },
  {
   "cell_type": "code",
   "execution_count": null,
   "metadata": {},
   "outputs": [],
   "source": [
    "def muitos_args(a,*args):\n",
    "    print(a)\n",
    "    print(args)"
   ]
  },
  {
   "cell_type": "code",
   "execution_count": null,
   "metadata": {},
   "outputs": [],
   "source": [
    "muitos_args(1,2,3,4,5)"
   ]
  },
  {
   "cell_type": "code",
   "execution_count": 14,
   "metadata": {},
   "outputs": [],
   "source": [
    "def indefinido2(*args, **kwargs):\n",
    "    print(args)\n",
    "    print()\n",
    "    print(kwargs)"
   ]
  },
  {
   "cell_type": "code",
   "execution_count": 15,
   "metadata": {},
   "outputs": [
    {
     "name": "stdout",
     "output_type": "stream",
     "text": [
      "(2, 3, 4)\n",
      "\n",
      "{'inst': 'FGV', 'nome': 'Renato', 'bairro': 'Botafogo'}\n"
     ]
    }
   ],
   "source": [
    "indefinido2(2,3,4,nome='Renato',inst='FGV', bairro='Botafogo')"
   ]
  },
  {
   "cell_type": "code",
   "execution_count": null,
   "metadata": {},
   "outputs": [],
   "source": [
    "indefinido2(mensagem='Hello World')"
   ]
  },
  {
   "cell_type": "code",
   "execution_count": null,
   "metadata": {},
   "outputs": [],
   "source": [
    "def recebe_notas(**kwargs):\n",
    "    for chave, valor in kwargs.items():\n",
    "        print('A chave é {} e o valor é {}'.format(chave,valor))\n",
    "    if 'Matematica' in kwargs:\n",
    "        print('A nota de Matemática é {}'.format(kwargs['Matematica']))\n",
    "    else:\n",
    "        print('Não foi passada a nota de Matemática')"
   ]
  },
  {
   "cell_type": "code",
   "execution_count": null,
   "metadata": {},
   "outputs": [],
   "source": [
    "recebe_notas(Física=9,Portugues=8, História=6)"
   ]
  },
  {
   "cell_type": "code",
   "execution_count": null,
   "metadata": {},
   "outputs": [],
   "source": [
    "recebe_notas(Historia=8)"
   ]
  },
  {
   "cell_type": "code",
   "execution_count": null,
   "metadata": {},
   "outputs": [],
   "source": [
    "def mostra_e_soma(*args):\n",
    "    for valor in args:\n",
    "        print('Valor:\\t{0:7.2f}'.format(valor))\n",
    "    print('_______________')\n",
    "    print('Soma:\\t{0:7.2f}'.format(sum(args)))"
   ]
  },
  {
   "cell_type": "code",
   "execution_count": null,
   "metadata": {},
   "outputs": [],
   "source": [
    "mostra_e_soma(23,45,124,34.6,98.236)"
   ]
  },
  {
   "cell_type": "code",
   "execution_count": 18,
   "metadata": {},
   "outputs": [
    {
     "name": "stdout",
     "output_type": "stream",
     "text": [
      "Entre com seu nome: Lucas\n"
     ]
    }
   ],
   "source": [
    "nome = input('Entre com seu nome: ')"
   ]
  },
  {
   "cell_type": "code",
   "execution_count": 19,
   "metadata": {},
   "outputs": [
    {
     "data": {
      "text/plain": [
       "'Lucas'"
      ]
     },
     "execution_count": 19,
     "metadata": {},
     "output_type": "execute_result"
    }
   ],
   "source": [
    "nome"
   ]
  },
  {
   "cell_type": "code",
   "execution_count": 32,
   "metadata": {},
   "outputs": [
    {
     "name": "stdout",
     "output_type": "stream",
     "text": [
      "Entre com a idade de seus pais 48 e 49\n"
     ]
    }
   ],
   "source": [
    "valores = input('Entre com a idade de seus pais ')"
   ]
  },
  {
   "cell_type": "code",
   "execution_count": 33,
   "metadata": {},
   "outputs": [
    {
     "name": "stdout",
     "output_type": "stream",
     "text": [
      "48 e 49\n"
     ]
    }
   ],
   "source": [
    "print(valores)"
   ]
  },
  {
   "cell_type": "code",
   "execution_count": 34,
   "metadata": {},
   "outputs": [],
   "source": [
    "import re"
   ]
  },
  {
   "cell_type": "code",
   "execution_count": 35,
   "metadata": {},
   "outputs": [],
   "source": [
    "saida = re.findall(r'[0-9]{2}',valores)"
   ]
  },
  {
   "cell_type": "code",
   "execution_count": 36,
   "metadata": {},
   "outputs": [
    {
     "name": "stdout",
     "output_type": "stream",
     "text": [
      "['48', '49']\n"
     ]
    }
   ],
   "source": [
    "print(saida)"
   ]
  },
  {
   "cell_type": "code",
   "execution_count": null,
   "metadata": {},
   "outputs": [],
   "source": [
    "def cordial():\n",
    "    nome = input('Qual o seu nome? ')\n",
    "    print('Como você vai hoje, {} ?'.format(nome))"
   ]
  },
  {
   "cell_type": "code",
   "execution_count": null,
   "metadata": {},
   "outputs": [],
   "source": [
    "cordial()"
   ]
  },
  {
   "cell_type": "code",
   "execution_count": null,
   "metadata": {},
   "outputs": [],
   "source": [
    "def anuncia_tempo(tempo = 'chuvoso', umidade = 'alta'):\n",
    "    print('A umidade hoje está {}'.format(umidade))\n",
    "    print('O tempo hoje está {}'.format(tempo))"
   ]
  },
  {
   "cell_type": "code",
   "execution_count": null,
   "metadata": {},
   "outputs": [],
   "source": [
    "anuncia_tempo(umidade = 'baixa')"
   ]
  },
  {
   "cell_type": "code",
   "execution_count": null,
   "metadata": {},
   "outputs": [],
   "source": [
    "anuncia_tempo()"
   ]
  },
  {
   "cell_type": "code",
   "execution_count": 44,
   "metadata": {},
   "outputs": [],
   "source": [
    "def imc(massa=0, altura=0):\n",
    "    if massa == 0:\n",
    "        massa = input('Qual o seu peso? ')\n",
    "    if not str(massa).isdigit():\n",
    "        print('Valor Invalido')\n",
    "        imc()\n",
    "        return\n",
    "    elif float(massa) < 30 or float(massa) > 150:\n",
    "        print('Massa em kg, por favor')\n",
    "        imc()\n",
    "        return\n",
    "    if altura == 0:\n",
    "        altura = input('Qual a sua altura? ')\n",
    "    if not str(altura).isdigit():\n",
    "        print('Valor Invalido')\n",
    "        imc(massa=massa)\n",
    "        return\n",
    "    elif float(altura) < 50 or float(altura) > 300:\n",
    "        print('Altura em cm, por favor')\n",
    "        imc(massa = massa)\n",
    "        return\n",
    "    print('Seu IMC é {}'.format((float(massa)/(float(altura)/100)**2)))"
   ]
  },
  {
   "cell_type": "code",
   "execution_count": 46,
   "metadata": {},
   "outputs": [
    {
     "name": "stdout",
     "output_type": "stream",
     "text": [
      "Qual o seu peso? 100\n",
      "Qual a sua altura? 170\n",
      "Seu IMC é 34.602076124567475\n"
     ]
    }
   ],
   "source": [
    "imc()"
   ]
  },
  {
   "cell_type": "code",
   "execution_count": null,
   "metadata": {},
   "outputs": [],
   "source": [
    "def recebe_altura(x):\n",
    "    x = str(x)\n",
    "    print(x)\n",
    "    x = x.replace(',','.')\n",
    "    print(x)"
   ]
  },
  {
   "cell_type": "code",
   "execution_count": null,
   "metadata": {},
   "outputs": [],
   "source": [
    "recebe_altura(1.87)"
   ]
  },
  {
   "cell_type": "code",
   "execution_count": null,
   "metadata": {},
   "outputs": [],
   "source": [
    "def acha_posicoes(texto,letra):\n",
    "    posicoes=[]\n",
    "    atual = 0\n",
    "    while not texto.find(letra) == -1:\n",
    "        posicao = atual + texto.find(letra)\n",
    "        #print(posicao)\n",
    "        acrescimo_posicao = texto.find(letra)\n",
    "        #print(acrescimo_posicao)\n",
    "        posicoes.append(posicao)\n",
    "        atual += acrescimo_posicao + 1\n",
    "        #print(atual)\n",
    "        texto = texto[acrescimo_posicao+1:]\n",
    "        #print(texto)\n",
    "    print(posicoes)"
   ]
  },
  {
   "cell_type": "code",
   "execution_count": null,
   "metadata": {},
   "outputs": [],
   "source": [
    "texto = '''\n",
    "Uma vez Flamengo, sempre Flamengo. Flamengo sempre eu hei de ser.\n",
    "É meu maior prazer, vê-lo brilhar, seja na terra, seja no mar.\n",
    "Vencer vencer vencer. Uma vez Flamengo, Flamengo até morrer\n",
    "'''"
   ]
  },
  {
   "cell_type": "code",
   "execution_count": null,
   "metadata": {},
   "outputs": [],
   "source": [
    "acha_posicoes(texto,'Flamengo')"
   ]
  }
 ],
 "metadata": {
  "kernelspec": {
   "display_name": "Python 3",
   "language": "python",
   "name": "python3"
  },
  "language_info": {
   "codemirror_mode": {
    "name": "ipython",
    "version": 3
   },
   "file_extension": ".py",
   "mimetype": "text/x-python",
   "name": "python",
   "nbconvert_exporter": "python",
   "pygments_lexer": "ipython3",
   "version": "3.5.2"
  }
 },
 "nbformat": 4,
 "nbformat_minor": 2
}
