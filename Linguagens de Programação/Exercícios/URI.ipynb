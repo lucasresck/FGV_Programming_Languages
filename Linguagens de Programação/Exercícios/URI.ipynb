{
 "cells": [
  {
   "cell_type": "markdown",
   "metadata": {},
   "source": [
    "# URI"
   ]
  },
  {
   "cell_type": "markdown",
   "metadata": {},
   "source": [
    "## Iniciante"
   ]
  },
  {
   "cell_type": "markdown",
   "metadata": {},
   "source": [
    "### 1001 Extremamente Básico"
   ]
  },
  {
   "cell_type": "code",
   "execution_count": 5,
   "metadata": {},
   "outputs": [
    {
     "name": "stdout",
     "output_type": "stream",
     "text": [
      "1\n",
      "2\n",
      "X = 3\n"
     ]
    }
   ],
   "source": [
    "A = int(input())\n",
    "B = int(input())\n",
    "X = A + B\n",
    "print(\"X = \" + str(X))"
   ]
  },
  {
   "cell_type": "markdown",
   "metadata": {},
   "source": [
    "### 1002 Área do Círculo"
   ]
  },
  {
   "cell_type": "code",
   "execution_count": 6,
   "metadata": {},
   "outputs": [
    {
     "name": "stdout",
     "output_type": "stream",
     "text": [
      "1\n",
      "A=3.1416\n"
     ]
    }
   ],
   "source": [
    "raio = float(input())\n",
    "area = 3.14159 * raio ** 2\n",
    "print(\"A={:.4f}\".format(area))"
   ]
  },
  {
   "cell_type": "markdown",
   "metadata": {},
   "source": [
    "### 1003 Soma Simples"
   ]
  },
  {
   "cell_type": "code",
   "execution_count": 7,
   "metadata": {},
   "outputs": [
    {
     "name": "stdout",
     "output_type": "stream",
     "text": [
      "1\n",
      "2\n",
      "SOMA = 3\n"
     ]
    }
   ],
   "source": [
    "A = int(input())\n",
    "B = int(input())\n",
    "SOMA = A + B\n",
    "print(\"SOMA = {}\".format(SOMA))"
   ]
  },
  {
   "cell_type": "markdown",
   "metadata": {},
   "source": [
    "### 1004 Produto Simples"
   ]
  },
  {
   "cell_type": "code",
   "execution_count": 8,
   "metadata": {},
   "outputs": [
    {
     "name": "stdout",
     "output_type": "stream",
     "text": [
      "3\n",
      "4\n",
      "PROD = 12\n"
     ]
    }
   ],
   "source": [
    "A = int(input())\n",
    "B = int(input())\n",
    "PROD = A * B\n",
    "print(\"PROD = {}\".format(PROD))"
   ]
  },
  {
   "cell_type": "markdown",
   "metadata": {},
   "source": [
    "### 1005 Média 1"
   ]
  },
  {
   "cell_type": "code",
   "execution_count": 17,
   "metadata": {},
   "outputs": [
    {
     "name": "stdout",
     "output_type": "stream",
     "text": [
      "5\n",
      "7.1\n",
      "MEDIA = 6.43182\n"
     ]
    }
   ],
   "source": [
    "A = round(float(input()), 1)\n",
    "B = round(float(input()), 1)\n",
    "MEDIA = (A * 3.5 + B * 7.5) / 11.0\n",
    "print(\"MEDIA = {:.5f}\".format(MEDIA))"
   ]
  },
  {
   "cell_type": "markdown",
   "metadata": {},
   "source": [
    "### 1006 Média 2"
   ]
  },
  {
   "cell_type": "code",
   "execution_count": 18,
   "metadata": {},
   "outputs": [
    {
     "name": "stdout",
     "output_type": "stream",
     "text": [
      "5\n",
      "6\n",
      "7\n",
      "MEDIA = 6.3\n"
     ]
    }
   ],
   "source": [
    "A = round(float(input()), 1)\n",
    "B = round(float(input()), 1)\n",
    "C = round(float(input()), 1)\n",
    "MEDIA = (A * 2 + B * 3 + C * 5) / 10\n",
    "print(\"MEDIA = {:.1f}\".format(MEDIA))"
   ]
  },
  {
   "cell_type": "markdown",
   "metadata": {},
   "source": [
    "### 1007 Diferença"
   ]
  },
  {
   "cell_type": "code",
   "execution_count": 21,
   "metadata": {},
   "outputs": [
    {
     "name": "stdout",
     "output_type": "stream",
     "text": [
      "5\n",
      "6\n",
      "7\n",
      "8\n",
      "DIFERENCA = -26\n"
     ]
    }
   ],
   "source": [
    "A = int(input())\n",
    "B = int(input())\n",
    "C = int(input())\n",
    "D = int(input())\n",
    "DIFERENCA = A * B - C * D\n",
    "print(\"DIFERENCA = {}\".format(DIFERENCA))"
   ]
  },
  {
   "cell_type": "markdown",
   "metadata": {},
   "source": [
    "### 1008 - Salário"
   ]
  },
  {
   "cell_type": "code",
   "execution_count": 29,
   "metadata": {},
   "outputs": [
    {
     "name": "stdout",
     "output_type": "stream",
     "text": [
      "1\n",
      "200\n",
      "20.5\n",
      "NUMBER = 1\n",
      "SALARY = U$ 4100.00\n"
     ]
    }
   ],
   "source": [
    "NUMBER = int(input())\n",
    "TIME = int(input())\n",
    "VALUE = round(float(input()), 2)\n",
    "SALARY = TIME * VALUE\n",
    "print('NUMBER = {}'.format(NUMBER))\n",
    "print('SALARY = U$ {:.2f}'.format(SALARY))"
   ]
  },
  {
   "cell_type": "markdown",
   "metadata": {},
   "source": [
    "### 1009 - Salário com Bônus"
   ]
  },
  {
   "cell_type": "code",
   "execution_count": 31,
   "metadata": {},
   "outputs": [
    {
     "name": "stdout",
     "output_type": "stream",
     "text": [
      "JOAO\n",
      "500\n",
      "1230.3\n",
      "TOTAL = R$ 684.54\n"
     ]
    }
   ],
   "source": [
    "NAME = input()\n",
    "SALARY = round(float(input()), 2)\n",
    "SALES = round(float(input()), 2)\n",
    "TOTAL = SALARY + 0.15 * SALES\n",
    "print('TOTAL = R$ {:.2f}'.format(TOTAL))"
   ]
  },
  {
   "cell_type": "markdown",
   "metadata": {},
   "source": [
    "### 1010 - Cálculo Simples"
   ]
  },
  {
   "cell_type": "code",
   "execution_count": 35,
   "metadata": {},
   "outputs": [
    {
     "name": "stdout",
     "output_type": "stream",
     "text": [
      "12 1 5.30\n",
      "16 2 5.10\n",
      "VALOR A PAGAR: R$ 15.50\n"
     ]
    }
   ],
   "source": [
    "PECA1 = str(input()).split(' ')\n",
    "PECA2 = str(input()).split(' ')\n",
    "VALOR1 = int(PECA1[1]) * round(float(PECA1[2]), 2)\n",
    "VALOR2 = int(PECA2[1]) * round(float(PECA2[2]), 2)\n",
    "VALOR = VALOR1 + VALOR2\n",
    "print('VALOR A PAGAR: R$ {:.2f}'.format(VALOR))"
   ]
  },
  {
   "cell_type": "markdown",
   "metadata": {},
   "source": [
    "### 1011 - Esfera"
   ]
  },
  {
   "cell_type": "code",
   "execution_count": 38,
   "metadata": {},
   "outputs": [
    {
     "name": "stdout",
     "output_type": "stream",
     "text": [
      "3\n",
      "VOLUME = 113.097\n"
     ]
    }
   ],
   "source": [
    "R = float(input())\n",
    "VOLUME = 4 / 3 * 3.14159 * R ** 3\n",
    "print(\"VOLUME = {:.3f}\".format(VOLUME))"
   ]
  },
  {
   "cell_type": "code",
   "execution_count": 47,
   "metadata": {},
   "outputs": [
    {
     "name": "stdout",
     "output_type": "stream",
     "text": [
      "3 4 5.2\n",
      "TRIANGULO: 7.800\n",
      "CIRCULO: 84.949\n",
      "TRAPEZIO: 18.200\n",
      "QUADRADO: 16.000\n",
      "RETANGULO: 12.000\n"
     ]
    }
   ],
   "source": [
    "ENTRADA = input()\n",
    "ENTRADA = ENTRADA.split(\" \")\n",
    "A = round(float(ENTRADA[0]), 1)\n",
    "B = round(float(ENTRADA[1]), 1)\n",
    "C = round(float(ENTRADA[2]), 1)\n",
    "TRIANGULO = A * C / 2\n",
    "CIRCULO = 3.14159 * C ** 2\n",
    "TRAPEZIO = (A + B) * C / 2\n",
    "QUADRADO = B ** 2\n",
    "RETANGULO = A * B\n",
    "print(\"TRIANGULO: {:.3f}\".format(TRIANGULO))\n",
    "print(\"CIRCULO: {:.3f}\".format(CIRCULO))\n",
    "print(\"TRAPEZIO: {:.3f}\".format(TRAPEZIO))\n",
    "print(\"QUADRADO: {:.3f}\".format(QUADRADO))\n",
    "print(\"RETANGULO: {:.3f}\".format(RETANGULO))"
   ]
  },
  {
   "cell_type": "code",
   "execution_count": 55,
   "metadata": {},
   "outputs": [
    {
     "name": "stdout",
     "output_type": "stream",
     "text": [
      "3 4 5.2\n",
      "TRIANGULO: 7.800\n",
      "CIRCULO: 84.949\n",
      "TRAPEZIO: 18.200\n",
      "QUADRADO: 16.000\n",
      "RETANGULO: 12.000\n"
     ]
    }
   ],
   "source": [
    "entrada = input()\n",
    "ListaEntrada = entrada.split(' ')\n",
    "A = float(ListaEntrada[0])\n",
    "B = float(ListaEntrada[1])\n",
    "C = float(ListaEntrada[2])\n",
    "triangulo = A * C / 2\n",
    "circulo = 3.14159 * C ** 2\n",
    "trapezio = (A + B) * C / 2\n",
    "quadrado = B * B\n",
    "retangulo = A * B\n",
    "print('TRIANGULO: {:.3f}'.format(triangulo))\n",
    "print('CIRCULO: {:.3f}'.format(circulo))\n",
    "print('TRAPEZIO: {:.3f}'.format(trapezio))\n",
    "print('QUADRADO: {:.3f}'.format(quadrado))\n",
    "print('RETANGULO: {:.3f}'.format(retangulo))"
   ]
  },
  {
   "cell_type": "code",
   "execution_count": 60,
   "metadata": {},
   "outputs": [
    {
     "name": "stdout",
     "output_type": "stream",
     "text": [
      "7 14 106\n",
      "106 eh o maior\n"
     ]
    }
   ],
   "source": [
    "entrada = input()\n",
    "ListaEntrada = entrada.split(' ')\n",
    "a = int(ListaEntrada[0])\n",
    "b = int(ListaEntrada[1])\n",
    "c = int(ListaEntrada[2])\n",
    "MaiorAB = (a + b + abs(a - b)) / 2\n",
    "MaiorABC = (MaiorAB + c + abs(MaiorAB - c)) / 2\n",
    "print(\"{} eh o maior\".format(int(MaiorABC)))"
   ]
  },
  {
   "cell_type": "code",
   "execution_count": 61,
   "metadata": {},
   "outputs": [
    {
     "name": "stdout",
     "output_type": "stream",
     "text": [
      "500\n",
      "35.0\n",
      "14.286 km/l\n"
     ]
    }
   ],
   "source": [
    "X = int(input())\n",
    "Y = float(input())\n",
    "ConsumoMedio = X / Y\n",
    "print(\"{:.3f} km/l\".format(ConsumoMedio))"
   ]
  },
  {
   "cell_type": "code",
   "execution_count": 63,
   "metadata": {},
   "outputs": [
    {
     "name": "stdout",
     "output_type": "stream",
     "text": [
      "1 7\n",
      "5 9\n",
      "4.4721\n"
     ]
    }
   ],
   "source": [
    "input1 = input()\n",
    "input2 = input()\n",
    "input1 = input1.split(\" \")\n",
    "input2 = input2.split(\" \")\n",
    "x1 = float(input1[0])\n",
    "y1 = float(input1[1])\n",
    "x2 = float(input2[0])\n",
    "y2 = float(input2[1])\n",
    "distance = ((x1 - x2) ** 2 + (y1 - y2) ** 2) ** (1 / 2)\n",
    "print(\"{:.4f}\".format(distance))"
   ]
  },
  {
   "cell_type": "code",
   "execution_count": 65,
   "metadata": {},
   "outputs": [
    {
     "name": "stdout",
     "output_type": "stream",
     "text": [
      "30\n",
      "60 minutos\n"
     ]
    }
   ],
   "source": [
    "print(\"{} minutos\".format(2 * int(input())))"
   ]
  },
  {
   "cell_type": "code",
   "execution_count": 66,
   "metadata": {},
   "outputs": [
    {
     "name": "stdout",
     "output_type": "stream",
     "text": [
      "10\n",
      "85\n",
      "70.833\n"
     ]
    }
   ],
   "source": [
    "time = int(input())\n",
    "velocity = int(input())\n",
    "litros = time * velocity / 12\n",
    "print(\"{:.3f}\".format(litros))"
   ]
  },
  {
   "cell_type": "code",
   "execution_count": 68,
   "metadata": {},
   "outputs": [
    {
     "name": "stdout",
     "output_type": "stream",
     "text": [
      "576\n",
      "576\n",
      "5 nota(s) de R$ 100,00\n",
      "1 nota(s) de R$ 50,00\n",
      "1 nota(s) de R$ 20,00\n",
      "0 nota(s) de R$ 10,00\n",
      "1 nota(s) de R$ 5,00\n",
      "0 nota(s) de R$ 2,00\n",
      "1 nota(s) de R$ 1,00\n"
     ]
    }
   ],
   "source": [
    "N = int(input())\n",
    "valor = N\n",
    "cem = N // 100\n",
    "N = N - cem * 100\n",
    "cinquenta = N // 50\n",
    "N = N - cinquenta * 50\n",
    "vinte = N // 20\n",
    "N = N - vinte * 20\n",
    "dez = N // 10\n",
    "N = N - dez * 10\n",
    "cinco = N // 5\n",
    "N = N - cinco * 5\n",
    "dois = N // 2\n",
    "N = N - dois * 2\n",
    "um = N\n",
    "print(valor)\n",
    "print(\"{} nota(s) de R$ 100,00\".format(cem))\n",
    "print(\"{} nota(s) de R$ 50,00\".format(cinquenta))\n",
    "print(\"{} nota(s) de R$ 20,00\".format(vinte))\n",
    "print(\"{} nota(s) de R$ 10,00\".format(dez))\n",
    "print(\"{} nota(s) de R$ 5,00\".format(cinco))\n",
    "print(\"{} nota(s) de R$ 2,00\".format(dois))\n",
    "print(\"{} nota(s) de R$ 1,00\".format(um))"
   ]
  },
  {
   "cell_type": "code",
   "execution_count": 72,
   "metadata": {},
   "outputs": [
    {
     "name": "stdout",
     "output_type": "stream",
     "text": [
      "1\n",
      "0:0:1\n"
     ]
    }
   ],
   "source": [
    "s = int(input())\n",
    "m = s // 60\n",
    "s = s - m * 60\n",
    "h = m // 60\n",
    "m = m - h * 60\n",
    "print(\"{}:{}:{}\".format(h, m, s))"
   ]
  },
  {
   "cell_type": "code",
   "execution_count": 74,
   "metadata": {},
   "outputs": [
    {
     "name": "stdout",
     "output_type": "stream",
     "text": [
      "400\n",
      "1 ano(s)\n",
      "1 mes(es)\n",
      "5 dia(s)\n"
     ]
    }
   ],
   "source": [
    "days = int(input())\n",
    "years = days // 365\n",
    "days -= years * 365\n",
    "months = days // 30\n",
    "days -= months * 30\n",
    "print(\"{} ano(s)\".format(years))\n",
    "print(\"{} mes(es)\".format(months))\n",
    "print(\"{} dia(s)\".format(days))"
   ]
  },
  {
   "cell_type": "code",
   "execution_count": 53,
   "metadata": {},
   "outputs": [
    {
     "name": "stdout",
     "output_type": "stream",
     "text": [
      "91.01\n",
      "NOTAS:\n",
      "0 nota(s) de R$ 100.00\n",
      "1 nota(s) de R$ 50.00\n",
      "2 nota(s) de R$ 20.00\n",
      "0 nota(s) de R$ 10.00\n",
      "0 nota(s) de R$ 5.00\n",
      "0 nota(s) de R$ 2.00\n",
      "MOEDAS:\n",
      "1 moeda(s) de R$ 1.00\n",
      "0 moeda(s) de R$ 0.50\n",
      "0 moeda(s) de R$ 0.25\n",
      "0 moeda(s) de R$ 0.10\n",
      "0 moeda(s) de R$ 0.05\n",
      "1 moeda(s) de R$ 0.01\n"
     ]
    }
   ],
   "source": [
    "N = float(input())\n",
    "notas = int(N)\n",
    "cem = notas // 100\n",
    "notas = notas - cem * 100\n",
    "cinquenta = notas // 50\n",
    "notas = notas - cinquenta * 50\n",
    "vinte = notas // 20\n",
    "notas = notas - vinte * 20\n",
    "dez = notas // 10\n",
    "notas = notas - dez * 10\n",
    "cinco = notas // 5\n",
    "notas = notas - cinco * 5\n",
    "dois = notas // 2\n",
    "notas = notas - dois * 2\n",
    "um = notas\n",
    "moedas = int(N * 100) % 100\n",
    "CinqCent = moedas // 50\n",
    "moedas = moedas - CinqCent * 50\n",
    "VinteECinco = moedas // 25\n",
    "moedas = moedas - VinteECinco * 25\n",
    "DezCent = moedas // 10\n",
    "moedas = moedas - DezCent * 10\n",
    "CincCent = moedas // 5\n",
    "moedas = moedas - CincCent * 5\n",
    "UmCent = moedas\n",
    "print(\"NOTAS:\")\n",
    "print(\"{} nota(s) de R$ 100.00\".format(int(cem)))\n",
    "print(\"{} nota(s) de R$ 50.00\".format(int(cinquenta)))\n",
    "print(\"{} nota(s) de R$ 20.00\".format(int(vinte)))\n",
    "print(\"{} nota(s) de R$ 10.00\".format(int(dez)))\n",
    "print(\"{} nota(s) de R$ 5.00\".format(int(cinco)))\n",
    "print(\"{} nota(s) de R$ 2.00\".format(int(dois)))\n",
    "print(\"MOEDAS:\")\n",
    "print(\"{} moeda(s) de R$ 1.00\".format(int(um)))\n",
    "print(\"{} moeda(s) de R$ 0.50\".format(int(CinqCent)))\n",
    "print(\"{} moeda(s) de R$ 0.25\".format(int(VinteECinco)))\n",
    "print(\"{} moeda(s) de R$ 0.10\".format(int(DezCent)))\n",
    "print(\"{} moeda(s) de R$ 0.05\".format(int(CincCent)))\n",
    "print(\"{} moeda(s) de R$ 0.01\".format(int(UmCent)))"
   ]
  },
  {
   "cell_type": "code",
   "execution_count": 56,
   "metadata": {},
   "outputs": [
    {
     "name": "stdout",
     "output_type": "stream",
     "text": [
      "2 3 2 6\n",
      "Valores aceitos\n"
     ]
    }
   ],
   "source": [
    "A, B, C, D = input().split(\" \")\n",
    "A = int(A)\n",
    "B = int(B)\n",
    "C = int(C)\n",
    "D = int(D)\n",
    "if B > C and D > A and C + D > A + B and C > 0 and D > 0 and A % 2 == 0:\n",
    "    print(\"Valores aceitos\")\n",
    "else:\n",
    "    print(\"Valores nao aceitos\")"
   ]
  },
  {
   "cell_type": "code",
   "execution_count": 60,
   "metadata": {},
   "outputs": [
    {
     "name": "stdout",
     "output_type": "stream",
     "text": [
      "10.0 3.0 5.0\n",
      "Impossivel calcular\n"
     ]
    }
   ],
   "source": [
    "A, B, C = input().split(\" \")\n",
    "A = float(A)\n",
    "B = float(B)\n",
    "C = float(C)\n",
    "delta = B ** 2 - 4 * A * C\n",
    "if delta < 0 or A == 0:\n",
    "    print(\"Impossivel calcular\")\n",
    "else:\n",
    "    R1 = (-B + delta ** (1 / 2)) / (2 * A)\n",
    "    R2 = (-B - delta ** (1 / 2)) / (2 * A)\n",
    "    print(\"R1 = {:.5f}\".format(R1))\n",
    "    print(\"R2 = {:.5f}\".format(R2))"
   ]
  },
  {
   "cell_type": "code",
   "execution_count": 65,
   "metadata": {},
   "outputs": [
    {
     "name": "stdout",
     "output_type": "stream",
     "text": [
      "-25.02\n",
      "Fora de intervalo\n"
     ]
    }
   ],
   "source": [
    "n = float(input())\n",
    "if n >= 0 and n <= 25:\n",
    "    print(\"Intervalo [0,25]\")\n",
    "elif n > 25 and n <= 50: \n",
    "    print(\"Intervalo (25,50]\")\n",
    "elif n > 50 and n <= 75:\n",
    "    print(\"Intervalo (50,75]\")\n",
    "elif n > 75 and n <= 100:\n",
    "    print(\"Intervalo (75,100]\")\n",
    "else:\n",
    "    print(\"Fora de intervalo\")"
   ]
  },
  {
   "cell_type": "code",
   "execution_count": 68,
   "metadata": {},
   "outputs": [
    {
     "name": "stdout",
     "output_type": "stream",
     "text": [
      "2 3\n",
      "Total: R$ 13.50\n"
     ]
    }
   ],
   "source": [
    "code, number = input().split(\" \")\n",
    "code = int(code)\n",
    "number = int(number)\n",
    "if code == 1:\n",
    "    total = number * 4\n",
    "elif code == 2:    \n",
    "    total = number * 4.5\n",
    "elif code == 3:    \n",
    "    total = number * 5\n",
    "elif code == 4:    \n",
    "    total = number * 2\n",
    "elif code == 5:    \n",
    "    total = number * 1.5\n",
    "print(\"Total: R$ {:.2f}\".format(total))"
   ]
  },
  {
   "cell_type": "code",
   "execution_count": 71,
   "metadata": {},
   "outputs": [
    {
     "name": "stdout",
     "output_type": "stream",
     "text": [
      "9.0 4.0 8.5 9.0\n",
      "Media: 7.3\n",
      "Aluno aprovado.\n"
     ]
    }
   ],
   "source": [
    "N1, N2, N3, N4 = input().split(\" \")\n",
    "N1 = float(N1)\n",
    "N2 = float(N2)\n",
    "N3 = float(N3)\n",
    "N4 = float(N4)\n",
    "average = (N1 * 2 + N2 * 3 + N3 * 4 + N4 * 1) / 10\n",
    "print(\"Media: {:.1f}\".format(average))\n",
    "if average >= 7:\n",
    "    print(\"Aluno aprovado.\")\n",
    "elif average < 5:\n",
    "    print(\"Aluno reprovado.\")\n",
    "else:\n",
    "    print(\"Aluno em exame.\")\n",
    "    exame = float(input())\n",
    "    print(\"Nota do exame: {:.1f}\".format(exame))\n",
    "    average = (average + exame) / 2\n",
    "    if average >= 5:\n",
    "        print(\"Aluno aprovado.\")\n",
    "    else:\n",
    "        print(\"Aluno reprovado\")\n",
    "    print(\"Media final: {:.1f}\".format(average))"
   ]
  },
  {
   "cell_type": "code",
   "execution_count": 74,
   "metadata": {},
   "outputs": [
    {
     "name": "stdout",
     "output_type": "stream",
     "text": [
      "0.0 0.0\n",
      "Origem\n"
     ]
    }
   ],
   "source": [
    "x, y = input().split(\" \")\n",
    "x = float(x)\n",
    "y = float(y)\n",
    "if x == 0 and y == 0:\n",
    "    print(\"Origem\")\n",
    "elif x == 0:\n",
    "    print(\"Eixo Y\")\n",
    "elif y == 0:\n",
    "    print(\"Eixo X\")\n",
    "elif x > 0:\n",
    "    if y > 0:\n",
    "        print(\"Q1\")\n",
    "    else:\n",
    "        print(\"Q4\")\n",
    "else:\n",
    "    if y > 0:\n",
    "        print(\"Q2\")\n",
    "    else:\n",
    "        print(\"Q3\")"
   ]
  },
  {
   "cell_type": "code",
   "execution_count": 78,
   "metadata": {},
   "outputs": [
    {
     "name": "stdout",
     "output_type": "stream",
     "text": [
      "-14 21 7\n",
      "-14\n",
      "7\n",
      "21\n",
      "\n",
      "-14\n",
      "21\n",
      "7\n"
     ]
    }
   ],
   "source": [
    "a, b, c = input().split(\" \")\n",
    "a = int(a)\n",
    "b = int(b)\n",
    "c = int(c)\n",
    "lista = [a, b, c]\n",
    "lista.sort()\n",
    "print(lista[0])\n",
    "print(lista[1])\n",
    "print(lista[2])\n",
    "print(\"\")\n",
    "print(a)\n",
    "print(b)\n",
    "print(c)"
   ]
  },
  {
   "cell_type": "code",
   "execution_count": 84,
   "metadata": {},
   "outputs": [
    {
     "name": "stdout",
     "output_type": "stream",
     "text": [
      "6.0 4.0 2.0\n",
      "Area = 10.0\n"
     ]
    }
   ],
   "source": [
    "a, b, c = input().split(\" \")\n",
    "a = float(a)\n",
    "b = float(b)\n",
    "c = float(c)\n",
    "if a < b + c and b < a + c and c < a + b:\n",
    "    print(\"Perimetro = {:.1f}\".format(a + b + c))\n",
    "else:\n",
    "    print(\"Area = {:.1f}\".format((a + b) * c / 2))"
   ]
  },
  {
   "cell_type": "code",
   "execution_count": 3,
   "metadata": {},
   "outputs": [
    {
     "name": "stdout",
     "output_type": "stream",
     "text": [
      "6 25\n",
      "Nao sao Multiplos\n"
     ]
    }
   ],
   "source": [
    "A, B = input().split(\" \")\n",
    "A = int(A)\n",
    "B = int(B)\n",
    "if A < B and B % A == 0:\n",
    "    print(\"Sao Multiplos\")\n",
    "elif A >= B and A % B == 0:\n",
    "    print(\"Sao Multiplos\")\n",
    "else:\n",
    "    print(\"Nao sao Multiplos\")"
   ]
  },
  {
   "cell_type": "code",
   "execution_count": 12,
   "metadata": {},
   "outputs": [
    {
     "name": "stdout",
     "output_type": "stream",
     "text": [
      "6.0 8.0 10.0\n",
      "TRIANGULO RETANGULO\n"
     ]
    }
   ],
   "source": [
    "a, b, c = input().split(\" \")\n",
    "a = float(a)\n",
    "b = float(b)\n",
    "c = float(c)\n",
    "lista = [a, b, c]\n",
    "lista.sort()\n",
    "c, b, a = lista\n",
    "if a >= b + c:\n",
    "    print(\"NAO FORMA TRIANGULO\")\n",
    "else:\n",
    "    if a ** 2 == b ** 2 + c ** 2:\n",
    "        print(\"TRIANGULO RETANGULO\")\n",
    "    elif a ** 2 > b ** 2 + c ** 2:\n",
    "        print(\"TRIANGULO OBTUSANGULO\")\n",
    "    else:\n",
    "        print(\"TRIANGULO ACUTANGULO\")\n",
    "    if a == b and b == c:\n",
    "        print(\"TRIANGULO EQUILATERO\")\n",
    "    elif a == b or b == c:\n",
    "        print(\"TRIANGULO ISOSCELES\")"
   ]
  },
  {
   "cell_type": "code",
   "execution_count": 17,
   "metadata": {},
   "outputs": [
    {
     "name": "stdout",
     "output_type": "stream",
     "text": [
      "2 16\n",
      "O JOGO DUROU 14 HORA(S)\n"
     ]
    }
   ],
   "source": [
    "begin, end = input().split(\" \")\n",
    "begin = int(begin)\n",
    "end = int(end)\n",
    "if end > begin:\n",
    "    print(\"O JOGO DUROU {} HORA(S)\".format(end - begin))\n",
    "else:\n",
    "    print(\"O JOGO DUROU {} HORA(S)\".format(24 - begin + end))"
   ]
  },
  {
   "cell_type": "code",
   "execution_count": 33,
   "metadata": {},
   "outputs": [
    {
     "ename": "KeyboardInterrupt",
     "evalue": "",
     "output_type": "error",
     "traceback": [
      "\u001b[0;31m---------------------------------------------------------------------------\u001b[0m",
      "\u001b[0;31mKeyboardInterrupt\u001b[0m                         Traceback (most recent call last)",
      "\u001b[0;32m/usr/local/lib/python3.5/dist-packages/ipykernel/kernelbase.py\u001b[0m in \u001b[0;36m_input_request\u001b[0;34m(self, prompt, ident, parent, password)\u001b[0m\n\u001b[1;32m    728\u001b[0m             \u001b[0;32mtry\u001b[0m\u001b[0;34m:\u001b[0m\u001b[0;34m\u001b[0m\u001b[0m\n\u001b[0;32m--> 729\u001b[0;31m                 \u001b[0mident\u001b[0m\u001b[0;34m,\u001b[0m \u001b[0mreply\u001b[0m \u001b[0;34m=\u001b[0m \u001b[0mself\u001b[0m\u001b[0;34m.\u001b[0m\u001b[0msession\u001b[0m\u001b[0;34m.\u001b[0m\u001b[0mrecv\u001b[0m\u001b[0;34m(\u001b[0m\u001b[0mself\u001b[0m\u001b[0;34m.\u001b[0m\u001b[0mstdin_socket\u001b[0m\u001b[0;34m,\u001b[0m \u001b[0;36m0\u001b[0m\u001b[0;34m)\u001b[0m\u001b[0;34m\u001b[0m\u001b[0m\n\u001b[0m\u001b[1;32m    730\u001b[0m             \u001b[0;32mexcept\u001b[0m \u001b[0mException\u001b[0m\u001b[0;34m:\u001b[0m\u001b[0;34m\u001b[0m\u001b[0m\n",
      "\u001b[0;32m/usr/local/lib/python3.5/dist-packages/jupyter_client/session.py\u001b[0m in \u001b[0;36mrecv\u001b[0;34m(self, socket, mode, content, copy)\u001b[0m\n\u001b[1;32m    802\u001b[0m         \u001b[0;32mtry\u001b[0m\u001b[0;34m:\u001b[0m\u001b[0;34m\u001b[0m\u001b[0m\n\u001b[0;32m--> 803\u001b[0;31m             \u001b[0mmsg_list\u001b[0m \u001b[0;34m=\u001b[0m \u001b[0msocket\u001b[0m\u001b[0;34m.\u001b[0m\u001b[0mrecv_multipart\u001b[0m\u001b[0;34m(\u001b[0m\u001b[0mmode\u001b[0m\u001b[0;34m,\u001b[0m \u001b[0mcopy\u001b[0m\u001b[0;34m=\u001b[0m\u001b[0mcopy\u001b[0m\u001b[0;34m)\u001b[0m\u001b[0;34m\u001b[0m\u001b[0m\n\u001b[0m\u001b[1;32m    804\u001b[0m         \u001b[0;32mexcept\u001b[0m \u001b[0mzmq\u001b[0m\u001b[0;34m.\u001b[0m\u001b[0mZMQError\u001b[0m \u001b[0;32mas\u001b[0m \u001b[0me\u001b[0m\u001b[0;34m:\u001b[0m\u001b[0;34m\u001b[0m\u001b[0m\n",
      "\u001b[0;32m/usr/local/lib/python3.5/dist-packages/zmq/sugar/socket.py\u001b[0m in \u001b[0;36mrecv_multipart\u001b[0;34m(self, flags, copy, track)\u001b[0m\n\u001b[1;32m    465\u001b[0m         \"\"\"\n\u001b[0;32m--> 466\u001b[0;31m         \u001b[0mparts\u001b[0m \u001b[0;34m=\u001b[0m \u001b[0;34m[\u001b[0m\u001b[0mself\u001b[0m\u001b[0;34m.\u001b[0m\u001b[0mrecv\u001b[0m\u001b[0;34m(\u001b[0m\u001b[0mflags\u001b[0m\u001b[0;34m,\u001b[0m \u001b[0mcopy\u001b[0m\u001b[0;34m=\u001b[0m\u001b[0mcopy\u001b[0m\u001b[0;34m,\u001b[0m \u001b[0mtrack\u001b[0m\u001b[0;34m=\u001b[0m\u001b[0mtrack\u001b[0m\u001b[0;34m)\u001b[0m\u001b[0;34m]\u001b[0m\u001b[0;34m\u001b[0m\u001b[0m\n\u001b[0m\u001b[1;32m    467\u001b[0m         \u001b[0;31m# have first part already, only loop while more to receive\u001b[0m\u001b[0;34m\u001b[0m\u001b[0;34m\u001b[0m\u001b[0m\n",
      "\u001b[0;32mzmq/backend/cython/socket.pyx\u001b[0m in \u001b[0;36mzmq.backend.cython.socket.Socket.recv\u001b[0;34m()\u001b[0m\n",
      "\u001b[0;32mzmq/backend/cython/socket.pyx\u001b[0m in \u001b[0;36mzmq.backend.cython.socket.Socket.recv\u001b[0;34m()\u001b[0m\n",
      "\u001b[0;32mzmq/backend/cython/socket.pyx\u001b[0m in \u001b[0;36mzmq.backend.cython.socket._recv_copy\u001b[0;34m()\u001b[0m\n",
      "\u001b[0;32m/usr/local/lib/python3.5/dist-packages/zmq/backend/cython/checkrc.pxd\u001b[0m in \u001b[0;36mzmq.backend.cython.checkrc._check_rc\u001b[0;34m()\u001b[0m\n",
      "\u001b[0;31mKeyboardInterrupt\u001b[0m: ",
      "\nDuring handling of the above exception, another exception occurred:\n",
      "\u001b[0;31mKeyboardInterrupt\u001b[0m                         Traceback (most recent call last)",
      "\u001b[0;32m<ipython-input-33-4c9c22139804>\u001b[0m in \u001b[0;36m<module>\u001b[0;34m()\u001b[0m\n\u001b[0;32m----> 1\u001b[0;31m \u001b[0mHourBegin\u001b[0m\u001b[0;34m,\u001b[0m \u001b[0mMinBegin\u001b[0m\u001b[0;34m,\u001b[0m \u001b[0mHourEnd\u001b[0m\u001b[0;34m,\u001b[0m \u001b[0mMinEnd\u001b[0m \u001b[0;34m=\u001b[0m \u001b[0minput\u001b[0m\u001b[0;34m(\u001b[0m\u001b[0;34m)\u001b[0m\u001b[0;34m.\u001b[0m\u001b[0msplit\u001b[0m\u001b[0;34m(\u001b[0m\u001b[0;34m\" \"\u001b[0m\u001b[0;34m)\u001b[0m\u001b[0;34m\u001b[0m\u001b[0m\n\u001b[0m\u001b[1;32m      2\u001b[0m \u001b[0mHourBegin\u001b[0m \u001b[0;34m=\u001b[0m \u001b[0mint\u001b[0m\u001b[0;34m(\u001b[0m\u001b[0mHourBegin\u001b[0m\u001b[0;34m)\u001b[0m\u001b[0;34m\u001b[0m\u001b[0m\n\u001b[1;32m      3\u001b[0m \u001b[0mMinBegin\u001b[0m \u001b[0;34m=\u001b[0m \u001b[0mint\u001b[0m\u001b[0;34m(\u001b[0m\u001b[0mMinBegin\u001b[0m\u001b[0;34m)\u001b[0m\u001b[0;34m\u001b[0m\u001b[0m\n\u001b[1;32m      4\u001b[0m \u001b[0mHourEnd\u001b[0m \u001b[0;34m=\u001b[0m \u001b[0mint\u001b[0m\u001b[0;34m(\u001b[0m\u001b[0mHourEnd\u001b[0m\u001b[0;34m)\u001b[0m\u001b[0;34m\u001b[0m\u001b[0m\n\u001b[1;32m      5\u001b[0m \u001b[0mMinEnd\u001b[0m \u001b[0;34m=\u001b[0m \u001b[0mint\u001b[0m\u001b[0;34m(\u001b[0m\u001b[0mMinEnd\u001b[0m\u001b[0;34m)\u001b[0m\u001b[0;34m\u001b[0m\u001b[0m\n",
      "\u001b[0;32m/usr/local/lib/python3.5/dist-packages/ipykernel/kernelbase.py\u001b[0m in \u001b[0;36mraw_input\u001b[0;34m(self, prompt)\u001b[0m\n\u001b[1;32m    702\u001b[0m             \u001b[0mself\u001b[0m\u001b[0;34m.\u001b[0m\u001b[0m_parent_ident\u001b[0m\u001b[0;34m,\u001b[0m\u001b[0;34m\u001b[0m\u001b[0m\n\u001b[1;32m    703\u001b[0m             \u001b[0mself\u001b[0m\u001b[0;34m.\u001b[0m\u001b[0m_parent_header\u001b[0m\u001b[0;34m,\u001b[0m\u001b[0;34m\u001b[0m\u001b[0m\n\u001b[0;32m--> 704\u001b[0;31m             \u001b[0mpassword\u001b[0m\u001b[0;34m=\u001b[0m\u001b[0;32mFalse\u001b[0m\u001b[0;34m,\u001b[0m\u001b[0;34m\u001b[0m\u001b[0m\n\u001b[0m\u001b[1;32m    705\u001b[0m         )\n\u001b[1;32m    706\u001b[0m \u001b[0;34m\u001b[0m\u001b[0m\n",
      "\u001b[0;32m/usr/local/lib/python3.5/dist-packages/ipykernel/kernelbase.py\u001b[0m in \u001b[0;36m_input_request\u001b[0;34m(self, prompt, ident, parent, password)\u001b[0m\n\u001b[1;32m    732\u001b[0m             \u001b[0;32mexcept\u001b[0m \u001b[0mKeyboardInterrupt\u001b[0m\u001b[0;34m:\u001b[0m\u001b[0;34m\u001b[0m\u001b[0m\n\u001b[1;32m    733\u001b[0m                 \u001b[0;31m# re-raise KeyboardInterrupt, to truncate traceback\u001b[0m\u001b[0;34m\u001b[0m\u001b[0;34m\u001b[0m\u001b[0m\n\u001b[0;32m--> 734\u001b[0;31m                 \u001b[0;32mraise\u001b[0m \u001b[0mKeyboardInterrupt\u001b[0m\u001b[0;34m\u001b[0m\u001b[0m\n\u001b[0m\u001b[1;32m    735\u001b[0m             \u001b[0;32melse\u001b[0m\u001b[0;34m:\u001b[0m\u001b[0;34m\u001b[0m\u001b[0m\n\u001b[1;32m    736\u001b[0m                 \u001b[0;32mbreak\u001b[0m\u001b[0;34m\u001b[0m\u001b[0m\n",
      "\u001b[0;31mKeyboardInterrupt\u001b[0m: "
     ]
    }
   ],
   "source": [
    "HourBegin, MinBegin, HourEnd, MinEnd = input().split(\" \")\n",
    "HourBegin = int(HourBegin)\n",
    "MinBegin = int(MinBegin)\n",
    "HourEnd = int(HourEnd)\n",
    "MinEnd = int(MinEnd)\n",
    "if HourEnd > HourBegin:\n",
    "    if MinEnd >= MinBegin:\n",
    "        hour, Min = HourEnd - HourBegin, MinEnd - MinBegin\n",
    "    else:\n",
    "        hour, Min = HourEnd - HourBegin - 1, 60 - MinBegin + MinEnd\n",
    "else:\n",
    "    if MinEnd >= MinBegin:\n",
    "        hour, Min = 24 - HourBegin + HourEnd, MinEnd - MinBegin\n",
    "    else:\n",
    "        hour, Min = 23 - HourBegin + HourEnd, 60 - MinBegin + MinEnd\n",
    "if Min == 60:\n",
    "    Min = 0\n",
    "    hour += 1\n",
    "print(\"O JOGO DUROU {} HORA(S) E {} MINUTO(S)\".format(hour, Min))"
   ]
  },
  {
   "cell_type": "code",
   "execution_count": 5,
   "metadata": {},
   "outputs": [
    {
     "name": "stdout",
     "output_type": "stream",
     "text": [
      "7 10 8 9\n",
      "O JOGO DUROU 0 HORA(S) E 59 MINUTO(S)\n"
     ]
    }
   ],
   "source": [
    "hour1, min1, hour2, min2 = input().split()\n",
    "hour1 = int(hour1)\n",
    "min1 = int(min1)\n",
    "hour2 = int(hour2)\n",
    "min2 = int(min2)\n",
    "time1 = 60 * hour1 + min1\n",
    "time2 = 60 * hour2 + min2\n",
    "if time1 < time2:\n",
    "    time = time2 - time1\n",
    "else:\n",
    "    time = 24 * 60 - time1 + time2\n",
    "hours = time // 60\n",
    "minutes = time - 60 * hours\n",
    "print(\"O JOGO DUROU {} HORA(S) E {} MINUTO(S)\".format(hours, minutes))"
   ]
  },
  {
   "cell_type": "code",
   "execution_count": 8,
   "metadata": {},
   "outputs": [
    {
     "name": "stdout",
     "output_type": "stream",
     "text": [
      "2000.00\n",
      "Novo salario: 2140.00\n",
      "Reajuste ganho: 140.00\n",
      "Em percentual: 7 %\n"
     ]
    }
   ],
   "source": [
    "salary = float(input())\n",
    "if salary <= 400:\n",
    "    print(\"Novo salario: {:.2f}\".format(salary * 1.15))\n",
    "    print(\"Reajuste ganho: {:.2f}\".format(salary * 0.15))\n",
    "    print(\"Em percentual: 15 %\")\n",
    "elif salary <= 800:\n",
    "    print(\"Novo salario: {:.2f}\".format(salary * 1.12))\n",
    "    print(\"Reajuste ganho: {:.2f}\".format(salary * 0.12))\n",
    "    print(\"Em percentual: 12 %\")\n",
    "elif salary <= 1200:\n",
    "    print(\"Novo salario: {:.2f}\".format(salary * 1.1))\n",
    "    print(\"Reajuste ganho: {:.2f}\".format(salary * 0.1))\n",
    "    print(\"Em percentual: 10 %\")\n",
    "elif salary <= 2000:\n",
    "    print(\"Novo salario: {:.2f}\".format(salary * 1.07))\n",
    "    print(\"Reajuste ganho: {:.2f}\".format(salary * 0.07))\n",
    "    print(\"Em percentual: 7 %\")\n",
    "else:\n",
    "    print(\"Novo salario: {:.2f}\".format(salary * 1.04))\n",
    "    print(\"Reajuste ganho: {:.2f}\".format(salary * 0.04))\n",
    "    print(\"Em percentual: 4 %\")"
   ]
  },
  {
   "cell_type": "code",
   "execution_count": 12,
   "metadata": {},
   "outputs": [
    {
     "name": "stdout",
     "output_type": "stream",
     "text": [
      "invertebrado\n",
      "anelideo\n",
      "onivoro\n",
      "minhoca\n"
     ]
    }
   ],
   "source": [
    "read1 = input()\n",
    "read2 = input()\n",
    "read3 = input()\n",
    "if read1 == \"vertebrado\":\n",
    "    if read2 == \"ave\":\n",
    "        if read3 == \"carnivoro\":\n",
    "            print(\"aguia\")\n",
    "        else:\n",
    "            print(\"pomba\")\n",
    "    else:\n",
    "        if read3 == \"onivoro\":\n",
    "            print(\"homem\")\n",
    "        else:\n",
    "            print(\"vaca\")\n",
    "else:\n",
    "    if read2 == \"inseto\":\n",
    "        if read3 == \"hematofago\":\n",
    "            print(\"pulga\")\n",
    "        else:\n",
    "            print(\"lagarta\")\n",
    "    else:\n",
    "        if read3 == \"hematofago\":\n",
    "            print(\"sanguessuga\")\n",
    "        else:\n",
    "            print(\"minhoca\")"
   ]
  },
  {
   "cell_type": "code",
   "execution_count": 13,
   "metadata": {},
   "outputs": [
    {
     "name": "stdout",
     "output_type": "stream",
     "text": [
      "21\n",
      "Rio de Janeiro\n"
     ]
    }
   ],
   "source": [
    "DDD = int(input())\n",
    "if DDD == 61:\n",
    "    print(\"Brasilia\")\n",
    "elif DDD == 71:\n",
    "    print(\"Salvador\")\n",
    "elif DDD == 11:\n",
    "    print(\"Sao Paulo\")\n",
    "elif DDD == 21:\n",
    "    print(\"Rio de Janeiro\")\n",
    "elif DDD == 32:\n",
    "    print(\"Juiz de Fora\")\n",
    "elif DDD == 19:\n",
    "    print(\"Campinas\")\n",
    "elif DDD == 27:\n",
    "    print(\"Vitoria\")\n",
    "elif DDD == 31:\n",
    "    print(\"Belo Horizonte\")\n",
    "else:\n",
    "    print(\"DDD nao cadastrado\")"
   ]
  },
  {
   "cell_type": "code",
   "execution_count": 17,
   "metadata": {},
   "outputs": [
    {
     "name": "stdout",
     "output_type": "stream",
     "text": [
      "4520.00\n",
      "R$ 355.60\n"
     ]
    }
   ],
   "source": [
    "renda = float(input())\n",
    "imposto = 0\n",
    "if renda > 4500:\n",
    "    imposto += 0.28 * (renda - 4500)\n",
    "    renda = 4500\n",
    "if renda > 3000:\n",
    "    imposto += 0.18 * (renda - 3000)\n",
    "    renda = 3000\n",
    "if renda > 2000:\n",
    "    imposto += 0.08 * (renda - 2000)\n",
    "    renda = 2000\n",
    "if imposto != 0:\n",
    "    print(\"R$ {:.2f}\".format(imposto))\n",
    "else:\n",
    "    print(\"Isento\")"
   ]
  },
  {
   "cell_type": "code",
   "execution_count": 18,
   "metadata": {},
   "outputs": [
    {
     "name": "stdout",
     "output_type": "stream",
     "text": [
      "10\n",
      "October\n"
     ]
    }
   ],
   "source": [
    "mes = int(input())\n",
    "if mes == 1:\n",
    "    print(\"January\")\n",
    "elif mes == 2:\n",
    "    print(\"February\")\n",
    "elif mes == 3:\n",
    "    print(\"March\")\n",
    "elif mes == 4:\n",
    "    print(\"April\")\n",
    "elif mes == 5:\n",
    "    print(\"May\")\n",
    "elif mes == 6:\n",
    "    print(\"June\")\n",
    "elif mes == 7:\n",
    "    print(\"July\")\n",
    "elif mes == 8:\n",
    "    print(\"August\")\n",
    "elif mes == 9:\n",
    "    print(\"September\")\n",
    "elif mes == 10:\n",
    "    print(\"October\")\n",
    "elif mes == 11:\n",
    "    print(\"November\")\n",
    "elif mes == 12:\n",
    "    print(\"December\")"
   ]
  },
  {
   "cell_type": "code",
   "execution_count": 19,
   "metadata": {},
   "outputs": [
    {
     "name": "stdout",
     "output_type": "stream",
     "text": [
      "2\n",
      "4\n",
      "6\n",
      "8\n",
      "10\n",
      "12\n",
      "14\n",
      "16\n",
      "18\n",
      "20\n",
      "22\n",
      "24\n",
      "26\n",
      "28\n",
      "30\n",
      "32\n",
      "34\n",
      "36\n",
      "38\n",
      "40\n",
      "42\n",
      "44\n",
      "46\n",
      "48\n",
      "50\n",
      "52\n",
      "54\n",
      "56\n",
      "58\n",
      "60\n",
      "62\n",
      "64\n",
      "66\n",
      "68\n",
      "70\n",
      "72\n",
      "74\n",
      "76\n",
      "78\n",
      "80\n",
      "82\n",
      "84\n",
      "86\n",
      "88\n",
      "90\n",
      "92\n",
      "94\n",
      "96\n",
      "98\n",
      "100\n"
     ]
    }
   ],
   "source": [
    "for number in range(2, 101, 2):\n",
    "    print(number)"
   ]
  },
  {
   "cell_type": "code",
   "execution_count": 36,
   "metadata": {},
   "outputs": [
    {
     "name": "stdout",
     "output_type": "stream",
     "text": [
      "1\n",
      "1\n",
      "1\n",
      "1\n",
      "1\n",
      "1\n",
      "6 valores positivos\n"
     ]
    }
   ],
   "source": [
    "positive = 0\n",
    "for time in range(1, 7):\n",
    "    if float(input()) > 0:\n",
    "        positive += 1\n",
    "print(\"{} valores positivos\".format(positive))"
   ]
  },
  {
   "cell_type": "code",
   "execution_count": null,
   "metadata": {},
   "outputs": [],
   "source": []
  }
 ],
 "metadata": {
  "kernelspec": {
   "display_name": "Python 3",
   "language": "python",
   "name": "python3"
  },
  "language_info": {
   "codemirror_mode": {
    "name": "ipython",
    "version": 3
   },
   "file_extension": ".py",
   "mimetype": "text/x-python",
   "name": "python",
   "nbconvert_exporter": "python",
   "pygments_lexer": "ipython3",
   "version": "3.5.2"
  }
 },
 "nbformat": 4,
 "nbformat_minor": 2
}
