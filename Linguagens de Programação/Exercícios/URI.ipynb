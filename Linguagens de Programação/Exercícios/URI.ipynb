{
 "cells": [
  {
   "cell_type": "markdown",
   "metadata": {},
   "source": [
    "# URI"
   ]
  },
  {
   "cell_type": "markdown",
   "metadata": {},
   "source": [
    "## Iniciante"
   ]
  },
  {
   "cell_type": "markdown",
   "metadata": {},
   "source": [
    "### 1001 Extremamente Básico"
   ]
  },
  {
   "cell_type": "code",
   "execution_count": 5,
   "metadata": {},
   "outputs": [
    {
     "name": "stdout",
     "output_type": "stream",
     "text": [
      "1\n",
      "2\n",
      "X = 3\n"
     ]
    }
   ],
   "source": [
    "A = int(input())\n",
    "B = int(input())\n",
    "X = A + B\n",
    "print(\"X = \" + str(X))"
   ]
  },
  {
   "cell_type": "markdown",
   "metadata": {},
   "source": [
    "### 1002 Área do Círculo"
   ]
  },
  {
   "cell_type": "code",
   "execution_count": 6,
   "metadata": {},
   "outputs": [
    {
     "name": "stdout",
     "output_type": "stream",
     "text": [
      "1\n",
      "A=3.1416\n"
     ]
    }
   ],
   "source": [
    "raio = float(input())\n",
    "area = 3.14159 * raio ** 2\n",
    "print(\"A={:.4f}\".format(area))"
   ]
  },
  {
   "cell_type": "markdown",
   "metadata": {},
   "source": [
    "### 1003 Soma Simples"
   ]
  },
  {
   "cell_type": "code",
   "execution_count": 7,
   "metadata": {},
   "outputs": [
    {
     "name": "stdout",
     "output_type": "stream",
     "text": [
      "1\n",
      "2\n",
      "SOMA = 3\n"
     ]
    }
   ],
   "source": [
    "A = int(input())\n",
    "B = int(input())\n",
    "SOMA = A + B\n",
    "print(\"SOMA = {}\".format(SOMA))"
   ]
  },
  {
   "cell_type": "markdown",
   "metadata": {},
   "source": [
    "### 1004 Produto Simples"
   ]
  },
  {
   "cell_type": "code",
   "execution_count": 8,
   "metadata": {},
   "outputs": [
    {
     "name": "stdout",
     "output_type": "stream",
     "text": [
      "3\n",
      "4\n",
      "PROD = 12\n"
     ]
    }
   ],
   "source": [
    "A = int(input())\n",
    "B = int(input())\n",
    "PROD = A * B\n",
    "print(\"PROD = {}\".format(PROD))"
   ]
  },
  {
   "cell_type": "markdown",
   "metadata": {},
   "source": [
    "### 1005 Média 1"
   ]
  },
  {
   "cell_type": "code",
   "execution_count": 17,
   "metadata": {},
   "outputs": [
    {
     "name": "stdout",
     "output_type": "stream",
     "text": [
      "5\n",
      "7.1\n",
      "MEDIA = 6.43182\n"
     ]
    }
   ],
   "source": [
    "A = round(float(input()), 1)\n",
    "B = round(float(input()), 1)\n",
    "MEDIA = (A * 3.5 + B * 7.5) / 11.0\n",
    "print(\"MEDIA = {:.5f}\".format(MEDIA))"
   ]
  },
  {
   "cell_type": "markdown",
   "metadata": {},
   "source": [
    "### 1006 Média 2"
   ]
  },
  {
   "cell_type": "code",
   "execution_count": 18,
   "metadata": {},
   "outputs": [
    {
     "name": "stdout",
     "output_type": "stream",
     "text": [
      "5\n",
      "6\n",
      "7\n",
      "MEDIA = 6.3\n"
     ]
    }
   ],
   "source": [
    "A = round(float(input()), 1)\n",
    "B = round(float(input()), 1)\n",
    "C = round(float(input()), 1)\n",
    "MEDIA = (A * 2 + B * 3 + C * 5) / 10\n",
    "print(\"MEDIA = {:.1f}\".format(MEDIA))"
   ]
  },
  {
   "cell_type": "markdown",
   "metadata": {},
   "source": [
    "### 1007 Diferença"
   ]
  },
  {
   "cell_type": "code",
   "execution_count": 21,
   "metadata": {},
   "outputs": [
    {
     "name": "stdout",
     "output_type": "stream",
     "text": [
      "5\n",
      "6\n",
      "7\n",
      "8\n",
      "DIFERENCA = -26\n"
     ]
    }
   ],
   "source": [
    "A = int(input())\n",
    "B = int(input())\n",
    "C = int(input())\n",
    "D = int(input())\n",
    "DIFERENCA = A * B - C * D\n",
    "print(\"DIFERENCA = {}\".format(DIFERENCA))"
   ]
  },
  {
   "cell_type": "markdown",
   "metadata": {},
   "source": [
    "### 1008 - Salário"
   ]
  },
  {
   "cell_type": "code",
   "execution_count": 29,
   "metadata": {},
   "outputs": [
    {
     "name": "stdout",
     "output_type": "stream",
     "text": [
      "1\n",
      "200\n",
      "20.5\n",
      "NUMBER = 1\n",
      "SALARY = U$ 4100.00\n"
     ]
    }
   ],
   "source": [
    "NUMBER = int(input())\n",
    "TIME = int(input())\n",
    "VALUE = round(float(input()), 2)\n",
    "SALARY = TIME * VALUE\n",
    "print('NUMBER = {}'.format(NUMBER))\n",
    "print('SALARY = U$ {:.2f}'.format(SALARY))"
   ]
  },
  {
   "cell_type": "markdown",
   "metadata": {},
   "source": [
    "### 1009 - Salário com Bônus"
   ]
  },
  {
   "cell_type": "code",
   "execution_count": 31,
   "metadata": {},
   "outputs": [
    {
     "name": "stdout",
     "output_type": "stream",
     "text": [
      "JOAO\n",
      "500\n",
      "1230.3\n",
      "TOTAL = R$ 684.54\n"
     ]
    }
   ],
   "source": [
    "NAME = input()\n",
    "SALARY = round(float(input()), 2)\n",
    "SALES = round(float(input()), 2)\n",
    "TOTAL = SALARY + 0.15 * SALES\n",
    "print('TOTAL = R$ {:.2f}'.format(TOTAL))"
   ]
  },
  {
   "cell_type": "markdown",
   "metadata": {},
   "source": [
    "### 1010 - Cálculo Simples"
   ]
  },
  {
   "cell_type": "code",
   "execution_count": 35,
   "metadata": {},
   "outputs": [
    {
     "name": "stdout",
     "output_type": "stream",
     "text": [
      "12 1 5.30\n",
      "16 2 5.10\n",
      "VALOR A PAGAR: R$ 15.50\n"
     ]
    }
   ],
   "source": [
    "PECA1 = str(input()).split(' ')\n",
    "PECA2 = str(input()).split(' ')\n",
    "VALOR1 = int(PECA1[1]) * round(float(PECA1[2]), 2)\n",
    "VALOR2 = int(PECA2[1]) * round(float(PECA2[2]), 2)\n",
    "VALOR = VALOR1 + VALOR2\n",
    "print('VALOR A PAGAR: R$ {:.2f}'.format(VALOR))"
   ]
  },
  {
   "cell_type": "markdown",
   "metadata": {},
   "source": [
    "### 1011 - Esfera"
   ]
  },
  {
   "cell_type": "code",
   "execution_count": 38,
   "metadata": {},
   "outputs": [
    {
     "name": "stdout",
     "output_type": "stream",
     "text": [
      "3\n",
      "VOLUME = 113.097\n"
     ]
    }
   ],
   "source": [
    "R = float(input())\n",
    "VOLUME = 4 / 3 * 3.14159 * R ** 3\n",
    "print(\"VOLUME = {:.3f}\".format(VOLUME))"
   ]
  },
  {
   "cell_type": "code",
   "execution_count": 47,
   "metadata": {},
   "outputs": [
    {
     "name": "stdout",
     "output_type": "stream",
     "text": [
      "3 4 5.2\n",
      "TRIANGULO: 7.800\n",
      "CIRCULO: 84.949\n",
      "TRAPEZIO: 18.200\n",
      "QUADRADO: 16.000\n",
      "RETANGULO: 12.000\n"
     ]
    }
   ],
   "source": [
    "ENTRADA = input()\n",
    "ENTRADA = ENTRADA.split(\" \")\n",
    "A = round(float(ENTRADA[0]), 1)\n",
    "B = round(float(ENTRADA[1]), 1)\n",
    "C = round(float(ENTRADA[2]), 1)\n",
    "TRIANGULO = A * C / 2\n",
    "CIRCULO = 3.14159 * C ** 2\n",
    "TRAPEZIO = (A + B) * C / 2\n",
    "QUADRADO = B ** 2\n",
    "RETANGULO = A * B\n",
    "print(\"TRIANGULO: {:.3f}\".format(TRIANGULO))\n",
    "print(\"CIRCULO: {:.3f}\".format(CIRCULO))\n",
    "print(\"TRAPEZIO: {:.3f}\".format(TRAPEZIO))\n",
    "print(\"QUADRADO: {:.3f}\".format(QUADRADO))\n",
    "print(\"RETANGULO: {:.3f}\".format(RETANGULO))"
   ]
  },
  {
   "cell_type": "code",
   "execution_count": 55,
   "metadata": {},
   "outputs": [
    {
     "name": "stdout",
     "output_type": "stream",
     "text": [
      "3 4 5.2\n",
      "TRIANGULO: 7.800\n",
      "CIRCULO: 84.949\n",
      "TRAPEZIO: 18.200\n",
      "QUADRADO: 16.000\n",
      "RETANGULO: 12.000\n"
     ]
    }
   ],
   "source": [
    "entrada = input()\n",
    "ListaEntrada = entrada.split(' ')\n",
    "A = float(ListaEntrada[0])\n",
    "B = float(ListaEntrada[1])\n",
    "C = float(ListaEntrada[2])\n",
    "triangulo = A * C / 2\n",
    "circulo = 3.14159 * C ** 2\n",
    "trapezio = (A + B) * C / 2\n",
    "quadrado = B * B\n",
    "retangulo = A * B\n",
    "print('TRIANGULO: {:.3f}'.format(triangulo))\n",
    "print('CIRCULO: {:.3f}'.format(circulo))\n",
    "print('TRAPEZIO: {:.3f}'.format(trapezio))\n",
    "print('QUADRADO: {:.3f}'.format(quadrado))\n",
    "print('RETANGULO: {:.3f}'.format(retangulo))"
   ]
  },
  {
   "cell_type": "code",
   "execution_count": 60,
   "metadata": {},
   "outputs": [
    {
     "name": "stdout",
     "output_type": "stream",
     "text": [
      "7 14 106\n",
      "106 eh o maior\n"
     ]
    }
   ],
   "source": [
    "entrada = input()\n",
    "ListaEntrada = entrada.split(' ')\n",
    "a = int(ListaEntrada[0])\n",
    "b = int(ListaEntrada[1])\n",
    "c = int(ListaEntrada[2])\n",
    "MaiorAB = (a + b + abs(a - b)) / 2\n",
    "MaiorABC = (MaiorAB + c + abs(MaiorAB - c)) / 2\n",
    "print(\"{} eh o maior\".format(int(MaiorABC)))"
   ]
  },
  {
   "cell_type": "code",
   "execution_count": 61,
   "metadata": {},
   "outputs": [
    {
     "name": "stdout",
     "output_type": "stream",
     "text": [
      "500\n",
      "35.0\n",
      "14.286 km/l\n"
     ]
    }
   ],
   "source": [
    "X = int(input())\n",
    "Y = float(input())\n",
    "ConsumoMedio = X / Y\n",
    "print(\"{:.3f} km/l\".format(ConsumoMedio))"
   ]
  },
  {
   "cell_type": "code",
   "execution_count": 63,
   "metadata": {},
   "outputs": [
    {
     "name": "stdout",
     "output_type": "stream",
     "text": [
      "1 7\n",
      "5 9\n",
      "4.4721\n"
     ]
    }
   ],
   "source": [
    "input1 = input()\n",
    "input2 = input()\n",
    "input1 = input1.split(\" \")\n",
    "input2 = input2.split(\" \")\n",
    "x1 = float(input1[0])\n",
    "y1 = float(input1[1])\n",
    "x2 = float(input2[0])\n",
    "y2 = float(input2[1])\n",
    "distance = ((x1 - x2) ** 2 + (y1 - y2) ** 2) ** (1 / 2)\n",
    "print(\"{:.4f}\".format(distance))"
   ]
  },
  {
   "cell_type": "code",
   "execution_count": 65,
   "metadata": {},
   "outputs": [
    {
     "name": "stdout",
     "output_type": "stream",
     "text": [
      "30\n",
      "60 minutos\n"
     ]
    }
   ],
   "source": [
    "print(\"{} minutos\".format(2 * int(input())))"
   ]
  },
  {
   "cell_type": "code",
   "execution_count": 66,
   "metadata": {},
   "outputs": [
    {
     "name": "stdout",
     "output_type": "stream",
     "text": [
      "10\n",
      "85\n",
      "70.833\n"
     ]
    }
   ],
   "source": [
    "time = int(input())\n",
    "velocity = int(input())\n",
    "litros = time * velocity / 12\n",
    "print(\"{:.3f}\".format(litros))"
   ]
  },
  {
   "cell_type": "code",
   "execution_count": 68,
   "metadata": {},
   "outputs": [
    {
     "name": "stdout",
     "output_type": "stream",
     "text": [
      "576\n",
      "576\n",
      "5 nota(s) de R$ 100,00\n",
      "1 nota(s) de R$ 50,00\n",
      "1 nota(s) de R$ 20,00\n",
      "0 nota(s) de R$ 10,00\n",
      "1 nota(s) de R$ 5,00\n",
      "0 nota(s) de R$ 2,00\n",
      "1 nota(s) de R$ 1,00\n"
     ]
    }
   ],
   "source": [
    "N = int(input())\n",
    "valor = N\n",
    "cem = N // 100\n",
    "N = N - cem * 100\n",
    "cinquenta = N // 50\n",
    "N = N - cinquenta * 50\n",
    "vinte = N // 20\n",
    "N = N - vinte * 20\n",
    "dez = N // 10\n",
    "N = N - dez * 10\n",
    "cinco = N // 5\n",
    "N = N - cinco * 5\n",
    "dois = N // 2\n",
    "N = N - dois * 2\n",
    "um = N\n",
    "print(valor)\n",
    "print(\"{} nota(s) de R$ 100,00\".format(cem))\n",
    "print(\"{} nota(s) de R$ 50,00\".format(cinquenta))\n",
    "print(\"{} nota(s) de R$ 20,00\".format(vinte))\n",
    "print(\"{} nota(s) de R$ 10,00\".format(dez))\n",
    "print(\"{} nota(s) de R$ 5,00\".format(cinco))\n",
    "print(\"{} nota(s) de R$ 2,00\".format(dois))\n",
    "print(\"{} nota(s) de R$ 1,00\".format(um))"
   ]
  },
  {
   "cell_type": "code",
   "execution_count": 72,
   "metadata": {},
   "outputs": [
    {
     "name": "stdout",
     "output_type": "stream",
     "text": [
      "1\n",
      "0:0:1\n"
     ]
    }
   ],
   "source": [
    "s = int(input())\n",
    "m = s // 60\n",
    "s = s - m * 60\n",
    "h = m // 60\n",
    "m = m - h * 60\n",
    "print(\"{}:{}:{}\".format(h, m, s))"
   ]
  },
  {
   "cell_type": "code",
   "execution_count": 74,
   "metadata": {},
   "outputs": [
    {
     "name": "stdout",
     "output_type": "stream",
     "text": [
      "400\n",
      "1 ano(s)\n",
      "1 mes(es)\n",
      "5 dia(s)\n"
     ]
    }
   ],
   "source": [
    "days = int(input())\n",
    "years = days // 365\n",
    "days -= years * 365\n",
    "months = days // 30\n",
    "days -= months * 30\n",
    "print(\"{} ano(s)\".format(years))\n",
    "print(\"{} mes(es)\".format(months))\n",
    "print(\"{} dia(s)\".format(days))"
   ]
  },
  {
   "cell_type": "code",
   "execution_count": 53,
   "metadata": {},
   "outputs": [
    {
     "name": "stdout",
     "output_type": "stream",
     "text": [
      "91.01\n",
      "NOTAS:\n",
      "0 nota(s) de R$ 100.00\n",
      "1 nota(s) de R$ 50.00\n",
      "2 nota(s) de R$ 20.00\n",
      "0 nota(s) de R$ 10.00\n",
      "0 nota(s) de R$ 5.00\n",
      "0 nota(s) de R$ 2.00\n",
      "MOEDAS:\n",
      "1 moeda(s) de R$ 1.00\n",
      "0 moeda(s) de R$ 0.50\n",
      "0 moeda(s) de R$ 0.25\n",
      "0 moeda(s) de R$ 0.10\n",
      "0 moeda(s) de R$ 0.05\n",
      "1 moeda(s) de R$ 0.01\n"
     ]
    }
   ],
   "source": [
    "N = float(input())\n",
    "notas = int(N)\n",
    "cem = notas // 100\n",
    "notas = notas - cem * 100\n",
    "cinquenta = notas // 50\n",
    "notas = notas - cinquenta * 50\n",
    "vinte = notas // 20\n",
    "notas = notas - vinte * 20\n",
    "dez = notas // 10\n",
    "notas = notas - dez * 10\n",
    "cinco = notas // 5\n",
    "notas = notas - cinco * 5\n",
    "dois = notas // 2\n",
    "notas = notas - dois * 2\n",
    "um = notas\n",
    "moedas = int(N * 100) % 100\n",
    "CinqCent = moedas // 50\n",
    "moedas = moedas - CinqCent * 50\n",
    "VinteECinco = moedas // 25\n",
    "moedas = moedas - VinteECinco * 25\n",
    "DezCent = moedas // 10\n",
    "moedas = moedas - DezCent * 10\n",
    "CincCent = moedas // 5\n",
    "moedas = moedas - CincCent * 5\n",
    "UmCent = moedas\n",
    "print(\"NOTAS:\")\n",
    "print(\"{} nota(s) de R$ 100.00\".format(int(cem)))\n",
    "print(\"{} nota(s) de R$ 50.00\".format(int(cinquenta)))\n",
    "print(\"{} nota(s) de R$ 20.00\".format(int(vinte)))\n",
    "print(\"{} nota(s) de R$ 10.00\".format(int(dez)))\n",
    "print(\"{} nota(s) de R$ 5.00\".format(int(cinco)))\n",
    "print(\"{} nota(s) de R$ 2.00\".format(int(dois)))\n",
    "print(\"MOEDAS:\")\n",
    "print(\"{} moeda(s) de R$ 1.00\".format(int(um)))\n",
    "print(\"{} moeda(s) de R$ 0.50\".format(int(CinqCent)))\n",
    "print(\"{} moeda(s) de R$ 0.25\".format(int(VinteECinco)))\n",
    "print(\"{} moeda(s) de R$ 0.10\".format(int(DezCent)))\n",
    "print(\"{} moeda(s) de R$ 0.05\".format(int(CincCent)))\n",
    "print(\"{} moeda(s) de R$ 0.01\".format(int(UmCent)))"
   ]
  },
  {
   "cell_type": "code",
   "execution_count": 56,
   "metadata": {},
   "outputs": [
    {
     "name": "stdout",
     "output_type": "stream",
     "text": [
      "2 3 2 6\n",
      "Valores aceitos\n"
     ]
    }
   ],
   "source": [
    "A, B, C, D = input().split(\" \")\n",
    "A = int(A)\n",
    "B = int(B)\n",
    "C = int(C)\n",
    "D = int(D)\n",
    "if B > C and D > A and C + D > A + B and C > 0 and D > 0 and A % 2 == 0:\n",
    "    print(\"Valores aceitos\")\n",
    "else:\n",
    "    print(\"Valores nao aceitos\")"
   ]
  },
  {
   "cell_type": "code",
   "execution_count": 60,
   "metadata": {},
   "outputs": [
    {
     "name": "stdout",
     "output_type": "stream",
     "text": [
      "10.0 3.0 5.0\n",
      "Impossivel calcular\n"
     ]
    }
   ],
   "source": [
    "A, B, C = input().split(\" \")\n",
    "A = float(A)\n",
    "B = float(B)\n",
    "C = float(C)\n",
    "delta = B ** 2 - 4 * A * C\n",
    "if delta < 0 or A == 0:\n",
    "    print(\"Impossivel calcular\")\n",
    "else:\n",
    "    R1 = (-B + delta ** (1 / 2)) / (2 * A)\n",
    "    R2 = (-B - delta ** (1 / 2)) / (2 * A)\n",
    "    print(\"R1 = {:.5f}\".format(R1))\n",
    "    print(\"R2 = {:.5f}\".format(R2))"
   ]
  },
  {
   "cell_type": "code",
   "execution_count": 65,
   "metadata": {},
   "outputs": [
    {
     "name": "stdout",
     "output_type": "stream",
     "text": [
      "-25.02\n",
      "Fora de intervalo\n"
     ]
    }
   ],
   "source": [
    "n = float(input())\n",
    "if n >= 0 and n <= 25:\n",
    "    print(\"Intervalo [0,25]\")\n",
    "elif n > 25 and n <= 50: \n",
    "    print(\"Intervalo (25,50]\")\n",
    "elif n > 50 and n <= 75:\n",
    "    print(\"Intervalo (50,75]\")\n",
    "elif n > 75 and n <= 100:\n",
    "    print(\"Intervalo (75,100]\")\n",
    "else:\n",
    "    print(\"Fora de intervalo\")"
   ]
  },
  {
   "cell_type": "code",
   "execution_count": 68,
   "metadata": {},
   "outputs": [
    {
     "name": "stdout",
     "output_type": "stream",
     "text": [
      "2 3\n",
      "Total: R$ 13.50\n"
     ]
    }
   ],
   "source": [
    "code, number = input().split(\" \")\n",
    "code = int(code)\n",
    "number = int(number)\n",
    "if code == 1:\n",
    "    total = number * 4\n",
    "elif code == 2:    \n",
    "    total = number * 4.5\n",
    "elif code == 3:    \n",
    "    total = number * 5\n",
    "elif code == 4:    \n",
    "    total = number * 2\n",
    "elif code == 5:    \n",
    "    total = number * 1.5\n",
    "print(\"Total: R$ {:.2f}\".format(total))"
   ]
  },
  {
   "cell_type": "code",
   "execution_count": 71,
   "metadata": {},
   "outputs": [
    {
     "name": "stdout",
     "output_type": "stream",
     "text": [
      "9.0 4.0 8.5 9.0\n",
      "Media: 7.3\n",
      "Aluno aprovado.\n"
     ]
    }
   ],
   "source": [
    "N1, N2, N3, N4 = input().split(\" \")\n",
    "N1 = float(N1)\n",
    "N2 = float(N2)\n",
    "N3 = float(N3)\n",
    "N4 = float(N4)\n",
    "average = (N1 * 2 + N2 * 3 + N3 * 4 + N4 * 1) / 10\n",
    "print(\"Media: {:.1f}\".format(average))\n",
    "if average >= 7:\n",
    "    print(\"Aluno aprovado.\")\n",
    "elif average < 5:\n",
    "    print(\"Aluno reprovado.\")\n",
    "else:\n",
    "    print(\"Aluno em exame.\")\n",
    "    exame = float(input())\n",
    "    print(\"Nota do exame: {:.1f}\".format(exame))\n",
    "    average = (average + exame) / 2\n",
    "    if average >= 5:\n",
    "        print(\"Aluno aprovado.\")\n",
    "    else:\n",
    "        print(\"Aluno reprovado\")\n",
    "    print(\"Media final: {:.1f}\".format(average))"
   ]
  },
  {
   "cell_type": "code",
   "execution_count": 74,
   "metadata": {},
   "outputs": [
    {
     "name": "stdout",
     "output_type": "stream",
     "text": [
      "0.0 0.0\n",
      "Origem\n"
     ]
    }
   ],
   "source": [
    "x, y = input().split(\" \")\n",
    "x = float(x)\n",
    "y = float(y)\n",
    "if x == 0 and y == 0:\n",
    "    print(\"Origem\")\n",
    "elif x == 0:\n",
    "    print(\"Eixo Y\")\n",
    "elif y == 0:\n",
    "    print(\"Eixo X\")\n",
    "elif x > 0:\n",
    "    if y > 0:\n",
    "        print(\"Q1\")\n",
    "    else:\n",
    "        print(\"Q4\")\n",
    "else:\n",
    "    if y > 0:\n",
    "        print(\"Q2\")\n",
    "    else:\n",
    "        print(\"Q3\")"
   ]
  },
  {
   "cell_type": "code",
   "execution_count": 78,
   "metadata": {},
   "outputs": [
    {
     "name": "stdout",
     "output_type": "stream",
     "text": [
      "-14 21 7\n",
      "-14\n",
      "7\n",
      "21\n",
      "\n",
      "-14\n",
      "21\n",
      "7\n"
     ]
    }
   ],
   "source": [
    "a, b, c = input().split(\" \")\n",
    "a = int(a)\n",
    "b = int(b)\n",
    "c = int(c)\n",
    "lista = [a, b, c]\n",
    "lista.sort()\n",
    "print(lista[0])\n",
    "print(lista[1])\n",
    "print(lista[2])\n",
    "print(\"\")\n",
    "print(a)\n",
    "print(b)\n",
    "print(c)"
   ]
  },
  {
   "cell_type": "code",
   "execution_count": 84,
   "metadata": {},
   "outputs": [
    {
     "name": "stdout",
     "output_type": "stream",
     "text": [
      "6.0 4.0 2.0\n",
      "Area = 10.0\n"
     ]
    }
   ],
   "source": [
    "a, b, c = input().split(\" \")\n",
    "a = float(a)\n",
    "b = float(b)\n",
    "c = float(c)\n",
    "if a < b + c and b < a + c and c < a + b:\n",
    "    print(\"Perimetro = {:.1f}\".format(a + b + c))\n",
    "else:\n",
    "    print(\"Area = {:.1f}\".format((a + b) * c / 2))"
   ]
  },
  {
   "cell_type": "code",
   "execution_count": null,
   "metadata": {},
   "outputs": [],
   "source": []
  }
 ],
 "metadata": {
  "kernelspec": {
   "display_name": "Python 3",
   "language": "python",
   "name": "python3"
  },
  "language_info": {
   "codemirror_mode": {
    "name": "ipython",
    "version": 3
   },
   "file_extension": ".py",
   "mimetype": "text/x-python",
   "name": "python",
   "nbconvert_exporter": "python",
   "pygments_lexer": "ipython3",
   "version": "3.5.2"
  }
 },
 "nbformat": 4,
 "nbformat_minor": 2
}
