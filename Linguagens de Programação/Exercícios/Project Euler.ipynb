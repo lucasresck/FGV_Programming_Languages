{
 "cells": [
  {
   "cell_type": "markdown",
   "metadata": {},
   "source": [
    "# Project Euler"
   ]
  },
  {
   "cell_type": "markdown",
   "metadata": {},
   "source": [
    "## Problem 1: Multiples of 3 and 5"
   ]
  },
  {
   "cell_type": "code",
   "execution_count": 5,
   "metadata": {},
   "outputs": [
    {
     "name": "stdout",
     "output_type": "stream",
     "text": [
      "233168\n"
     ]
    }
   ],
   "source": [
    "soma = 0\n",
    "for i in range(1, 1000):\n",
    "    if i % 3 == 0 and i % 5 != 0:\n",
    "        soma = soma + i\n",
    "    elif i % 3 != 0 and i % 5 == 0:\n",
    "        soma = soma + i\n",
    "    elif i % 3 == 0 and i % 5 == 0:\n",
    "        soma = soma + i\n",
    "print(soma)"
   ]
  },
  {
   "cell_type": "markdown",
   "metadata": {},
   "source": [
    "## Problem 2: Even Fibonacci numbers"
   ]
  },
  {
   "cell_type": "code",
   "execution_count": 28,
   "metadata": {},
   "outputs": [
    {
     "name": "stdout",
     "output_type": "stream",
     "text": [
      "4613732\n"
     ]
    }
   ],
   "source": [
    "a, b = (1, 2)\n",
    "soma = 2\n",
    "while a < 4000000 and b < 4000000:\n",
    "    if a > b:\n",
    "        b = a + b\n",
    "        if b < 4000000 and b % 2 == 0:\n",
    "            soma = soma + b\n",
    "    else:\n",
    "        a = a + b\n",
    "        if a < 4000000 and a % 2 == 0:\n",
    "            soma = soma + a\n",
    "print(soma)"
   ]
  },
  {
   "cell_type": "markdown",
   "metadata": {},
   "source": [
    "## Problem 4: Large Palindrome Product"
   ]
  },
  {
   "cell_type": "code",
   "execution_count": 31,
   "metadata": {},
   "outputs": [
    {
     "data": {
      "text/plain": [
       "906609"
      ]
     },
     "execution_count": 31,
     "metadata": {},
     "output_type": "execute_result"
    }
   ],
   "source": [
    "palindromos = []\n",
    "for numero1 in range(999, 100, -1):\n",
    "    for numero2 in range(numero1, 100, -1):\n",
    "        numero = numero1 * numero2\n",
    "        StrNumero = str(numero)\n",
    "        inverte = StrNumero[-1::-1]\n",
    "        if StrNumero == inverte:\n",
    "            palindromos.append(numero)\n",
    "palindromos.sort()\n",
    "palindromos[-1]"
   ]
  },
  {
   "cell_type": "code",
   "execution_count": null,
   "metadata": {},
   "outputs": [],
   "source": []
  }
 ],
 "metadata": {
  "kernelspec": {
   "display_name": "Python 3",
   "language": "python",
   "name": "python3"
  },
  "language_info": {
   "codemirror_mode": {
    "name": "ipython",
    "version": 3
   },
   "file_extension": ".py",
   "mimetype": "text/x-python",
   "name": "python",
   "nbconvert_exporter": "python",
   "pygments_lexer": "ipython3",
   "version": "3.5.2"
  }
 },
 "nbformat": 4,
 "nbformat_minor": 2
}
