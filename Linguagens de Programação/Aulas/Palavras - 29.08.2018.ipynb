{
 "cells": [
  {
   "cell_type": "code",
   "execution_count": 2,
   "metadata": {},
   "outputs": [],
   "source": [
    "import string"
   ]
  },
  {
   "cell_type": "code",
   "execution_count": 27,
   "metadata": {},
   "outputs": [
    {
     "data": {
      "text/plain": [
       "{'barbaro': 1,\n",
       " 'charles': 1,\n",
       " 'connelly': 1,\n",
       " 'cruise': 2,\n",
       " 'ellis': 1,\n",
       " 'fallout': 1,\n",
       " 'goose': 1,\n",
       " 'gun': 2,\n",
       " 'hamm': 1,\n",
       " 'harris': 1,\n",
       " 'impossível': 1,\n",
       " 'indomáveis': 1,\n",
       " 'jennifer': 1,\n",
       " 'joseph': 1,\n",
       " 'kilmer': 1,\n",
       " 'kosinski': 1,\n",
       " 'maverick': 1,\n",
       " 'missão': 1,\n",
       " 'oblivion': 1,\n",
       " 'paramount': 1,\n",
       " 'parnell': 1,\n",
       " 'pictures': 1,\n",
       " 'powell': 1,\n",
       " 'pullman': 1,\n",
       " 'ramirez': 1,\n",
       " 'salahuddin': 1,\n",
       " 'teller': 1,\n",
       " 'tom': 1,\n",
       " 'top': 2}"
      ]
     },
     "execution_count": 27,
     "metadata": {},
     "output_type": "execute_result"
    }
   ],
   "source": [
    "text = input()\n",
    "words = {word.lower().strip(string.punctuation):text.count(word) for word in text.split()}\n",
    "words"
   ]
  },
  {
   "cell_type": "code",
   "execution_count": 31,
   "metadata": {},
   "outputs": [
    {
     "name": "stdout",
     "output_type": "stream",
     "text": [
      "Publicado pela primeira vez em 1899, “Dom Casmurro” é uma das grandes obras de Machado de Assis e confirma o olhar certeiro e crítico que o autor estendia sobre toda a sociedade brasileira. Também a temática do ciúme, abordada com brilhantismo nesse livro, provoca polêmicas em torno do caráter de uma das principais personagens femininas da literatura brasileira: Capitu.  – Leia a análise da obra “Dom Casmurro”  Resumo O romance inicia-se numa situação posterior a todos os seus acontecimentos. Bento Santiago, já um homem de idade, conta ao leitor como recebeu a alcunha de Dom Casmurro. A expressão fora inventada por um jovem poeta, que tentara ler para ele no trem alguns de seus versos. Como Bento cochilara durante a leitura, o rapaz ficou chateado e começou a chamá-lo daquela forma.  O narrador inicia então o projeto de rememorar sua existência, o que ele chama de “atar as duas pontas da vida”. O leitor é apresentado à infância de Bentinho, quando ele vivia com a família num casarão da rua de Matacavalos.  O primeiro fato relevante narrado é também seu primeiro motivo de preocupação. Bentinho escuta uma conversa entre José Dias e dona Glória: ela pretende mandá-lo ao seminário no cumprimento de uma promessa feita pouco antes de seu nascimento. A mãe, que já havia perdido um filho, prometera que, se o segundo filho nascesse “varão”, ela faria dele padre. Na conversa, dona Glória soubera da amizade estreita entre o menino e a filha de Pádua, Capitolina.  Bentinho fica furioso com José Dias, que o denunciara, e expõe a situação a Capitu. A menina ouve tudo com atenção e começa a arquitetar uma maneira de Bentinho escapar do seminário, mas todos os seus planos fracassam. O garoto segue para o seminário, mas, antes de partir, sela, com um beijo em Capitu, a promessa de que se casaria com ela.  No seminário, Bentinho conhece Ezequiel de Souza Escobar, que se torna seu melhor amigo. Em uma visita a sua família, Bentinho leva Escobar e Capitu o conhece.  Enquanto Bentinho estuda para se tornar padre, Capitu estreita relações com dona Glória, que passa a ver com bons olhos a relação do filho com a garota. Dona Glória ainda não sabe, contudo, como resolver o problema da promessa e pensa em consultar o papa. Escobar é quem encontra a solução: a mãe, em desespero, prometera a Deus um sacerdote que não precisava, necessariamente, ser Bentinho. Por isso, no lugar dele, um escravo é enviado ao seminário e ordena-se padre.  Bentinho vai estudar direito no Largo de São Francisco, em São Paulo. Quando conclui os estudos, torna-se o doutor Bento de Albuquerque Santiago. Ocorre então o casamento tão esperado entre Bento e Capitu. Escobar, por seu lado, casara-se com Sancha, uma antiga amiga de colégio de Capitu. Capitu e Bentinho formam um “duo afinadíssimo”.  Essa felicidade, entretanto, começa a ser ameaçada com a demora do casal em ter um filho. Escobar e Sancha não encontram a mesma dificuldade: têm uma bela menina, a quem colocam o nome de Capitolina.  Depois de alguns anos, Capitu finalmente tem um filho, e o casal pode retribuir a homenagem que Escobar e Sancha lhe haviam prestado: o filho é batizado com o nome de Ezequiel.  Os casais passam a conviver intensamente. Bento vê uma semelhança terrível entre o pequeno Ezequiel e seu amigo Escobar, que, numa de suas aventuras na praia – o personagem era excelente nadador -, morre afogado.  Bento enxerga no filho a figura do amigo falecido e fica convencido de que fora traído pela mulher. Resolve suicidar-se bebendo uma xícara de café envenenado. Quando Ezequiel entra em seu escritório, decide matar a criança, mas desiste no último momento. Diz ao garoto, então, que não é seu pai. Capitu escuta tudo e lamenta-se pelo ciúme de Bentinho, que, segundo ela, fora despertado pela casualidade da semelhança.  Após inúmeras discussões, o casal decide separar-se. Arruma-se uma viagem para a Europa com o intuito de encobrir a nova situação, que levantaria muita polêmica. O protagonista retorna sozinho ao Brasil e se torna, pouco a pouco, o amargo Dom Casmurro. Capitu morre no exterior e Ezequiel tenta reatar relações com ele, mas a semelhança extrema com Escobar faz com que Bento Santiago o rejeite novamente. O destino de Ezequiel é infeliz: ele morre de febre tifóide durante uma pesquisa arqueológica em Jerusalém.  Triste e nostálgico, o narrador constrói uma casa que imita sua casa de infância, na rua de Matacavalos. O próprio livro é também uma tentativa de recuperar o sentido de sua vida. No fim, o narrador parece menosprezar um pouco a própria criação. Convence-se de que o melhor a fazer agora é escrever outra obra sobre “a história dos subúrbios”.  Lista de personagens Bentinho (Bento Santiago): o narrador-personagem que conta suas memórias, membro da elite carioca do século XIX.  Capitu (Capitolina): grande amor de Bentinho, personagem de origem pobre, mas independente e avançada.  Escobar: o melhor amigo de Bentinho, a quem conheceu quando estudaram juntos no seminário.  Dona Sancha: mulher de Escobar, ex-colega de colégio de Capitu.  Dona Glória: mãe de Bentinho, adora o filho e é também muito religiosa. Quer que o garoto se ordene padre como cumprimento de uma promessa que fez.  José Dias: agregado que vive de favores na casa de dona Glória. Suposto médico, tem o hábito de agradar aos proprietários da casa com o uso de superlativos.  Tio Cosme: irmão de dona Glória, viúvo e advogado.  Prima Justina: prima de dona Glória, que, segundo o narrador, não tinha papas na língua.  Pedro de Albuquerque Santiago: pai de Bentinho, faleceu quando o filho ainda era muito pequeno.  Senhor Pádua e Dona Fortunata: pais de Capitu, que viam no possível casamento da filha com Bentinho uma possibilidade de ascensão social.  Ezequiel: filho de Capitu, sobre o qual o narrador sustenta forte dúvida quanto à paternidade, pois o garoto tinha grande semelhança física com Escobar.  Sobre Machado de Assis Joaquim Maria Machado de Assis nasceu em 21 de junho de 1839 na cidade do Rio de Janeiro. Neto de escravos alforriados, foi criado em uma família pobre e não pode frequentar regularmente a escola. Porém, devido a seu enorme interesse por literatura, conseguiu se instruir por conta própria. Entre os seis e os quatorze anos, Machado de Assis perdeu sua irmã, a mãe e o pai.  Aos 16 anos, Machado conseguiu um emprego como aprendiz em uma tipografia, vindo a publicar seus primeiros versos no jornal “A Marmota”. Em 1860 passou a colaborar para o “Diário do Rio de Janeiro” e é dessa década que datam quase todas suas comédias teatrais e “Crisálidas”, um livro de poemas.  Em 1869 Machado de Assis casou-se com Carolina Augusta Xavier de Novais sem o consentimento da família da moça, devido à má fama que Machado carregava. Porém, este casamento mudou sua vida, uma vez que Carolina lhe apresentou à literatura portuguesa e inglesa. Mais amadurecido literariamente, Machado publica na década de 1870 uma série de romances, tais como “A mão e a luva” (1874) e “Helena” (1876), vindo a obter reconhecimento do público e da crítica. Ainda na década de 1870, Machado iniciou sua carreira burocrática e em 1892 já ocupava o cargo de diretor geral do Ministério da Aviação. Através de sua carreira no serviço público, Machado de Assis conseguiu sua estabilidade financeira.  A obra literária de Machado era marcadamente romântica, mas na década de 1880 ela sofre uma grande mudança estilística e temática, vindo a inaugurar o Realismo no Brasil com a publicação de “Memórias Póstumas de Brás Cubas” (1881). A partir de então a ironia, o pessimismo, o espírito crítico e uma profunda reflexão sobre a sociedade brasileira se tornarão as principais características de suas obras. Em 1897, Machado funda a Academia Brasileira de Letras, sendo seu primeiro presidente e ocupando a Cadeira Nº 23.  Em 1904, Machado perde a esposa após um casamento de 35 anos. A morte de Carolina abalou profundamente o escritor, que passou a ficar isolado em casa e sua saúde foi piorando. Dessa época datam seus últimos romances: “Esaú e Jacó” (1904) e “Memorial de Aires” (1908). Machado morreu em sua casa no Rio de Janeiro no dia 29 de setembro de 1908. Seu enterro foi acompanhado por uma multidão e foi decretado luto oficial no Rio de Janeiro.  Seus principais romances são: “Ressurreição” (1872), “A mão e a luva” (1874), “Helena” (1876), “Iaiá Garcia” (1878), “Memórias Póstumas de Brás Cubas” (1881), “Quincas Borba” (1891), “Dom Casmurro” (1899), “Esaú e Jacó” (1904) e “Memorial de Aires” (1908). Além dessas obras, Machado de Assis possui uma extensa bibliografia que abrange poemas, contos e peças teatrais.\n"
     ]
    },
    {
     "name": "stdout",
     "output_type": "stream",
     "text": [
      "['Dom', 'Casmurro', 'Machado', 'Assis', 'Capitu', 'Leia', 'Dom', 'Casmurro', 'Resumo', 'Santiago', 'Dom', 'Casmurro', 'Bento', 'Bentinho', 'Matacavalos', 'José', 'Dias', 'Glória', 'Glória', 'Pádua', 'Capitolina', 'José', 'Dias', 'Capitu', 'Bentinho', 'Capitu', 'Bentinho', 'Ezequiel', 'Souza', 'Escobar', 'Bentinho', 'Escobar', 'Capitu', 'Bentinho', 'Capitu', 'Glória', 'Glória', 'Deus', 'Bentinho', 'Largo', 'São', 'Francisco', 'São', 'Paulo', 'Bento', 'Albuquerque', 'Santiago', 'Bento', 'Capitu', 'Sancha', 'Capitu', 'Bentinho', 'Sancha', 'Capitolina', 'Capitu', 'Escobar', 'Sancha', 'Ezequiel', 'Ezequiel', 'Escobar', 'Ezequiel', 'Bentinho', 'Europa', 'Brasil', 'Dom', 'Casmurro', 'Ezequiel', 'Escobar', 'Bento', 'Santiago', 'Ezequiel', 'Jerusalém', 'Matacavalos', 'Bentinho', 'Bento', 'Santiago', 'Capitolina', 'Bentinho', 'Bentinho', 'Sancha', 'Escobar', 'Capitu', 'Glória', 'Bentinho', 'Dias', 'Glória', 'Cosme', 'Glória', 'Justina', 'Glória', 'Albuquerque', 'Santiago', 'Bentinho', 'Pádua', 'Fortunata', 'Capitu', 'Bentinho', 'Capitu', 'Escobar', 'Machado', 'Assis', 'Joaquim', 'Maria', 'Machado', 'Assis', 'Rio', 'Janeiro', 'Machado', 'Assis', 'Machado', 'Marmota', 'Diário', 'Rio', 'Janeiro', 'Crisálidas', 'Machado', 'Assis', 'Carolina', 'Augusta', 'Xavier', 'Novais', 'Machado', 'Carolina', 'Machado', 'Helena', 'Machado', 'Ministério', 'Aviação', 'Machado', 'Assis', 'Machado', 'Realismo', 'Brasil', 'Memórias', 'Póstumas', 'Brás', 'Cubas', 'Machado', 'Academia', 'Letras', 'Cadeira', 'Nº', 'Machado', 'Carolina', 'Esaú', 'Jacó', 'Memorial', 'Aires', 'Rio', 'Janeiro', 'Rio', 'Janeiro', 'Ressurreição', 'Helena', 'Iaiá', 'Garcia', 'Memórias', 'Póstumas', 'Brás', 'Cubas', 'Quincas', 'Borba', 'Dom', 'Casmurro', 'Esaú', 'Jacó', 'Memorial', 'Aires', 'Machado', 'Assis']\n"
     ]
    }
   ],
   "source": [
    "text = input().split()\n",
    "PossibleNouns = []\n",
    "for word in range(2,len(text)):\n",
    "    if text[word].istitle() and text[word - 1][-1] not in '.?!' and not text[word].lower() in text:\n",
    "        PossibleNouns.append(text[word].strip(string.punctuation + \"'\" + '\"' + \"“”\")) #O split está gerando uma lista com a (só ela) string\n",
    "print(PossibleNouns)"
   ]
  },
  {
   "cell_type": "code",
   "execution_count": 65,
   "metadata": {},
   "outputs": [
    {
     "name": "stdout",
     "output_type": "stream",
     "text": [
      "Publicado pela primeira vez em 1899, “Dom Casmurro” é uma das grandes obras de Machado de Assis e confirma o olhar certeiro e crítico que o autor estendia sobre toda a sociedade brasileira. Também a temática do ciúme, abordada com brilhantismo nesse livro, provoca polêmicas em torno do caráter de uma das principais personagens femininas da literatura brasileira: Capitu.  – Leia a análise da obra “Dom Casmurro”  Resumo O romance inicia-se numa situação posterior a todos os seus acontecimentos. Bento Santiago, já um homem de idade, conta ao leitor como recebeu a alcunha de Dom Casmurro. A expressão fora inventada por um jovem poeta, que tentara ler para ele no trem alguns de seus versos. Como Bento cochilara durante a leitura, o rapaz ficou chateado e começou a chamá-lo daquela forma.  O narrador inicia então o projeto de rememorar sua existência, o que ele chama de “atar as duas pontas da vida”. O leitor é apresentado à infância de Bentinho, quando ele vivia com a família num casarão da rua de Matacavalos.  O primeiro fato relevante narrado é também seu primeiro motivo de preocupação. Bentinho escuta uma conversa entre José Dias e dona Glória: ela pretende mandá-lo ao seminário no cumprimento de uma promessa feita pouco antes de seu nascimento. A mãe, que já havia perdido um filho, prometera que, se o segundo filho nascesse “varão”, ela faria dele padre. Na conversa, dona Glória soubera da amizade estreita entre o menino e a filha de Pádua, Capitolina.  Bentinho fica furioso com José Dias, que o denunciara, e expõe a situação a Capitu. A menina ouve tudo com atenção e começa a arquitetar uma maneira de Bentinho escapar do seminário, mas todos os seus planos fracassam. O garoto segue para o seminário, mas, antes de partir, sela, com um beijo em Capitu, a promessa de que se casaria com ela.  No seminário, Bentinho conhece Ezequiel de Souza Escobar, que se torna seu melhor amigo. Em uma visita a sua família, Bentinho leva Escobar e Capitu o conhece.  Enquanto Bentinho estuda para se tornar padre, Capitu estreita relações com dona Glória, que passa a ver com bons olhos a relação do filho com a garota. Dona Glória ainda não sabe, contudo, como resolver o problema da promessa e pensa em consultar o papa. Escobar é quem encontra a solução: a mãe, em desespero, prometera a Deus um sacerdote que não precisava, necessariamente, ser Bentinho. Por isso, no lugar dele, um escravo é enviado ao seminário e ordena-se padre.  Bentinho vai estudar direito no Largo de São Francisco, em São Paulo. Quando conclui os estudos, torna-se o doutor Bento de Albuquerque Santiago. Ocorre então o casamento tão esperado entre Bento e Capitu. Escobar, por seu lado, casara-se com Sancha, uma antiga amiga de colégio de Capitu. Capitu e Bentinho formam um “duo afinadíssimo”.  Essa felicidade, entretanto, começa a ser ameaçada com a demora do casal em ter um filho. Escobar e Sancha não encontram a mesma dificuldade: têm uma bela menina, a quem colocam o nome de Capitolina.  Depois de alguns anos, Capitu finalmente tem um filho, e o casal pode retribuir a homenagem que Escobar e Sancha lhe haviam prestado: o filho é batizado com o nome de Ezequiel.  Os casais passam a conviver intensamente. Bento vê uma semelhança terrível entre o pequeno Ezequiel e seu amigo Escobar, que, numa de suas aventuras na praia – o personagem era excelente nadador -, morre afogado.  Bento enxerga no filho a figura do amigo falecido e fica convencido de que fora traído pela mulher. Resolve suicidar-se bebendo uma xícara de café envenenado. Quando Ezequiel entra em seu escritório, decide matar a criança, mas desiste no último momento. Diz ao garoto, então, que não é seu pai. Capitu escuta tudo e lamenta-se pelo ciúme de Bentinho, que, segundo ela, fora despertado pela casualidade da semelhança.  Após inúmeras discussões, o casal decide separar-se. Arruma-se uma viagem para a Europa com o intuito de encobrir a nova situação, que levantaria muita polêmica. O protagonista retorna sozinho ao Brasil e se torna, pouco a pouco, o amargo Dom Casmurro. Capitu morre no exterior e Ezequiel tenta reatar relações com ele, mas a semelhança extrema com Escobar faz com que Bento Santiago o rejeite novamente. O destino de Ezequiel é infeliz: ele morre de febre tifóide durante uma pesquisa arqueológica em Jerusalém.  Triste e nostálgico, o narrador constrói uma casa que imita sua casa de infância, na rua de Matacavalos. O próprio livro é também uma tentativa de recuperar o sentido de sua vida. No fim, o narrador parece menosprezar um pouco a própria criação. Convence-se de que o melhor a fazer agora é escrever outra obra sobre “a história dos subúrbios”.  Lista de personagens Bentinho (Bento Santiago): o narrador-personagem que conta suas memórias, membro da elite carioca do século XIX.  Capitu (Capitolina): grande amor de Bentinho, personagem de origem pobre, mas independente e avançada.  Escobar: o melhor amigo de Bentinho, a quem conheceu quando estudaram juntos no seminário.  Dona Sancha: mulher de Escobar, ex-colega de colégio de Capitu.  Dona Glória: mãe de Bentinho, adora o filho e é também muito religiosa. Quer que o garoto se ordene padre como cumprimento de uma promessa que fez.  José Dias: agregado que vive de favores na casa de dona Glória. Suposto médico, tem o hábito de agradar aos proprietários da casa com o uso de superlativos.  Tio Cosme: irmão de dona Glória, viúvo e advogado.  Prima Justina: prima de dona Glória, que, segundo o narrador, não tinha papas na língua.  Pedro de Albuquerque Santiago: pai de Bentinho, faleceu quando o filho ainda era muito pequeno.  Senhor Pádua e Dona Fortunata: pais de Capitu, que viam no possível casamento da filha com Bentinho uma possibilidade de ascensão social.  Ezequiel: filho de Capitu, sobre o qual o narrador sustenta forte dúvida quanto à paternidade, pois o garoto tinha grande semelhança física com Escobar.  Sobre Machado de Assis Joaquim Maria Machado de Assis nasceu em 21 de junho de 1839 na cidade do Rio de Janeiro. Neto de escravos alforriados, foi criado em uma família pobre e não pode frequentar regularmente a escola. Porém, devido a seu enorme interesse por literatura, conseguiu se instruir por conta própria. Entre os seis e os quatorze anos, Machado de Assis perdeu sua irmã, a mãe e o pai.  Aos 16 anos, Machado conseguiu um emprego como aprendiz em uma tipografia, vindo a publicar seus primeiros versos no jornal “A Marmota”. Em 1860 passou a colaborar para o “Diário do Rio de Janeiro” e é dessa década que datam quase todas suas comédias teatrais e “Crisálidas”, um livro de poemas.  Em 1869 Machado de Assis casou-se com Carolina Augusta Xavier de Novais sem o consentimento da família da moça, devido à má fama que Machado carregava. Porém, este casamento mudou sua vida, uma vez que Carolina lhe apresentou à literatura portuguesa e inglesa. Mais amadurecido literariamente, Machado publica na década de 1870 uma série de romances, tais como “A mão e a luva” (1874) e “Helena” (1876), vindo a obter reconhecimento do público e da crítica. Ainda na década de 1870, Machado iniciou sua carreira burocrática e em 1892 já ocupava o cargo de diretor geral do Ministério da Aviação. Através de sua carreira no serviço público, Machado de Assis conseguiu sua estabilidade financeira.  A obra literária de Machado era marcadamente romântica, mas na década de 1880 ela sofre uma grande mudança estilística e temática, vindo a inaugurar o Realismo no Brasil com a publicação de “Memórias Póstumas de Brás Cubas” (1881). A partir de então a ironia, o pessimismo, o espírito crítico e uma profunda reflexão sobre a sociedade brasileira se tornarão as principais características de suas obras. Em 1897, Machado funda a Academia Brasileira de Letras, sendo seu primeiro presidente e ocupando a Cadeira Nº 23.  Em 1904, Machado perde a esposa após um casamento de 35 anos. A morte de Carolina abalou profundamente o escritor, que passou a ficar isolado em casa e sua saúde foi piorando. Dessa época datam seus últimos romances: “Esaú e Jacó” (1904) e “Memorial de Aires” (1908). Machado morreu em sua casa no Rio de Janeiro no dia 29 de setembro de 1908. Seu enterro foi acompanhado por uma multidão e foi decretado luto oficial no Rio de Janeiro.  Seus principais romances são: “Ressurreição” (1872), “A mão e a luva” (1874), “Helena” (1876), “Iaiá Garcia” (1878), “Memórias Póstumas de Brás Cubas” (1881), “Quincas Borba” (1891), “Dom Casmurro” (1899), “Esaú e Jacó” (1904) e “Memorial de Aires” (1908). Além dessas obras, Machado de Assis possui uma extensa bibliografia que abrange poemas, contos e peças teatrais.\n"
     ]
    },
    {
     "name": "stdout",
     "output_type": "stream",
     "text": [
      "{'Machado', 'Albuquerque', 'Jacó', 'Augusta', 'Quincas', 'Cubas', 'Novais', 'Helena', 'Brasil', 'Capitolina', 'Diário', 'Letras', 'Escobar', 'Justina', 'Leia', 'Janeiro', 'Nº', 'Joaquim', 'Memorial', 'Matacavalos', 'Fortunata', 'Europa', 'Borba', 'Rio', 'Cosme', 'Dias', 'Academia', 'Esaú', 'Jerusalém', 'Póstumas', 'Aires', 'Pádua', 'Dom', 'Cadeira', 'Brás', 'Glória', 'Iaiá', 'Resumo', 'Marmota', 'Xavier', 'Casmurro', 'Paulo', 'Garcia', 'Crisálidas', 'Bento', 'Ressurreição', 'Deus', 'Assis', 'Francisco', 'Bentinho', 'Capitu', 'Maria', 'Ministério', 'Largo', 'Sancha', 'Ezequiel', 'Carolina', 'José', 'Santiago', 'Souza', 'Realismo', 'Aviação'}\n"
     ]
    }
   ],
   "source": [
    "text = input()\n",
    "words = text.split()\n",
    "WordsWithoutPunc = [word.strip(string.punctuation + \"'\" + '\"' + \"“”\") for word in words]\n",
    "PossibleNouns = {WordsWithoutPunc[word] for word in range(2,len(words)) if (WordsWithoutPunc[word].istitle() and (words[word - 1][-1] not in '.?!') and (WordsWithoutPunc[word].lower() not in WordsWithoutPunc))}\n",
    "print(PossibleNouns)"
   ]
  }
 ],
 "metadata": {
  "kernelspec": {
   "display_name": "Python 3",
   "language": "python",
   "name": "python3"
  },
  "language_info": {
   "codemirror_mode": {
    "name": "ipython",
    "version": 3
   },
   "file_extension": ".py",
   "mimetype": "text/x-python",
   "name": "python",
   "nbconvert_exporter": "python",
   "pygments_lexer": "ipython3",
   "version": "3.5.2"
  }
 },
 "nbformat": 4,
 "nbformat_minor": 2
}
